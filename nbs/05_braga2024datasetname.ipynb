{
 "cells": [
  {
   "cell_type": "code",
   "execution_count": 1,
   "id": "7fa76c92-7283-4f73-9b0c-303aa27c999f",
   "metadata": {},
   "outputs": [],
   "source": [
    "# #| hide\n",
    "%load_ext autoreload\n",
    "%autoreload 2"
   ]
  },
  {
   "cell_type": "markdown",
   "id": "c61a8a27-4b20-4129-b826-690f44bd23f2",
   "metadata": {},
   "source": [
    "# braga2024datasetname\n",
    "\n",
    "> Module for handling the loading of bags collected with the INF-UFG car that were previously converted to the Semantic KITTI format."
   ]
  },
  {
   "cell_type": "code",
   "execution_count": 2,
   "id": "eabc6d64-8b9f-4156-b73f-62f49fb84a87",
   "metadata": {},
   "outputs": [],
   "source": [
    "#| default_exp braga2024datasetname"
   ]
  },
  {
   "cell_type": "code",
   "execution_count": 3,
   "id": "d1412ee3-41ee-4c68-b5a1-1d8016b55267",
   "metadata": {},
   "outputs": [],
   "source": [
    "#| exports\n",
    "from torch.utils.data import Dataset, DataLoader\n",
    "from torchvision.transforms import v2\n",
    "from torch import nn\n",
    "\n",
    "from matplotlib import pyplot as plt\n",
    "from pathlib import Path\n",
    "import numpy as np\n",
    "import yaml\n",
    "\n",
    "from colorcloud.behley2019iccv import ProjectionTransform, ProjectionVizTransform, SphericalProjection, UnfoldingProjection, ProjectionVizTransform"
   ]
  },
  {
   "cell_type": "markdown",
   "id": "7229fb88-d91e-4ecc-be52-5c58d7cff1d6",
   "metadata": {},
   "source": [
    "## Parte 1"
   ]
  },
  {
   "cell_type": "code",
   "execution_count": 4,
   "id": "23c0f744-4bda-4c44-beff-6f6c220102f9",
   "metadata": {},
   "outputs": [],
   "source": [
    "#| exports\n",
    "class ufgDataset(Dataset):\n",
    "    \"Load the SemanticKITTI data in a pytorch Dataset object.\"\n",
    "    def __init__(self, data_path, split='train', transform=None):\n",
    "        data_path = Path(data_path)\n",
    "        yaml_path = data_path/'semantic-kitti.yaml'\n",
    "        self.velodyne_path = data_path/'dataset/sequences'\n",
    "        self.labels_path = data_path/'dataset/sequences'\n",
    "\n",
    "        with open(yaml_path, 'r') as file:\n",
    "            metadata = yaml.safe_load(file)\n",
    "        \n",
    "        sequences = metadata['split'][split]\n",
    "        velodyne_fns = []\n",
    "        for seq in sequences:\n",
    "            velodyne_fns += list(self.velodyne_path.rglob(f'*{seq:02}/velodyne/*.bin'))\n",
    "        \n",
    "        self.frame_ids = [fn.stem for fn in velodyne_fns]\n",
    "        self.frame_sequences = [fn.parts[-3] for fn in velodyne_fns]\n",
    "        \n",
    "        self.labels_dict = metadata['labels']\n",
    "        \n",
    "        self.content = metadata['content']\n",
    "        max_key = sorted(self.content.keys())[-1]\n",
    "        self.content_np = np.zeros((max_key+1,), dtype=np.float32)\n",
    "        for k, v in self.content.items():\n",
    "            self.content_np[k] = v\n",
    "        \n",
    "        self.learning_map = metadata['learning_map']\n",
    "        self.learning_map_np = np.zeros((max_key+1,), dtype=np.uint32)\n",
    "        for k, v in self.learning_map.items():\n",
    "            self.learning_map_np[k] = v\n",
    "        \n",
    "        self.learning_map_inv = metadata['learning_map_inv']\n",
    "        self.learning_map_inv_np = np.zeros((len(self.learning_map_inv),), dtype=np.uint32)\n",
    "        self.content_sum_np = np.zeros_like(self.learning_map_inv_np, dtype=np.float32)\n",
    "        for k, v in self.learning_map_inv.items():\n",
    "            self.learning_map_inv_np[k] = v\n",
    "            self.content_sum_np[k] = self.content_np[self.learning_map_np == k].sum()\n",
    "        \n",
    "        self.color_map_bgr = metadata['color_map']\n",
    "        self.color_map_rgb_np = np.zeros((max_key+1, 3), dtype=np.float32)\n",
    "        for k, v in self.color_map_bgr.items():\n",
    "            self.color_map_rgb_np[k] = np.array(v[::-1], np.float32)\n",
    "        \n",
    "        self.transform = transform\n",
    "        self.is_test = (split == 'test')\n",
    "    \n",
    "    def learning_remap(self, remapping_rules):\n",
    "        new_map_np = np.zeros_like(self.learning_map_np, dtype=np.uint32)\n",
    "        max_key = sorted(remapping_rules.values())[-1]\n",
    "        new_map_inv_np = np.zeros((max_key+1,), dtype=np.uint32)\n",
    "        for k, v in remapping_rules.items():\n",
    "            new_map_np[self.learning_map_np == k] = v\n",
    "            if new_map_inv_np[v] == 0:\n",
    "                new_map_inv_np[v] = self.learning_map_inv_np[k]\n",
    "        \n",
    "        new_content_sum_np = np.zeros_like(new_map_inv_np, dtype=np.float32)\n",
    "        for k in range(len(new_map_inv_np)):\n",
    "            new_content_sum_np[k] = self.content_np[new_map_np == k].sum()\n",
    "        \n",
    "        self.learning_map_np = new_map_np\n",
    "        self.learning_map_inv_np = new_map_inv_np\n",
    "        self.content_sum_np = new_content_sum_np\n",
    "    \n",
    "    def set_transform(self, transform):\n",
    "        self.transform = transform\n",
    "    \n",
    "    def __len__(self):\n",
    "        return len(self.frame_ids)\n",
    "\n",
    "    def __getitem__(self, idx):\n",
    "        frame_id = self.frame_ids[idx]\n",
    "        frame_sequence = self.frame_sequences[idx]\n",
    "        \n",
    "        frame_path = self.velodyne_path/frame_sequence/'velodyne'/(frame_id + '.bin')\n",
    "        with open(frame_path, 'rb') as f:\n",
    "            frame = np.fromfile(f, dtype=np.float32).reshape(-1, 4)\n",
    "        \n",
    "        label = None\n",
    "        mask = None\n",
    "        weight = None\n",
    "        if not self.is_test:\n",
    "            label_path = self.labels_path/frame_sequence/'labels'/(frame_id + '.label')\n",
    "            with open(label_path, 'rb') as f:\n",
    "                label = np.fromfile(f, dtype=np.uint32)\n",
    "                label = label & 0xFFFF\n",
    "            label = self.learning_map_np[label]\n",
    "            mask = label != 0   # see the field *learning_ignore* in the yaml file\n",
    "            weight = 1./self.content_sum_np[label]\n",
    "        \n",
    "        # normalizing the reflectance values (which are between 0 and 255).\n",
    "        frame[:,3] = frame[:,3]/255\n",
    "\n",
    "        item = {\n",
    "            'frame': frame,\n",
    "            'label': label,\n",
    "            'mask': mask,\n",
    "            'weight': weight\n",
    "        }\n",
    "        if self.transform:\n",
    "            item = self.transform(item)\n",
    "        \n",
    "        return item"
   ]
  },
  {
   "cell_type": "code",
   "execution_count": 5,
   "id": "b1405844-c543-4bbc-b334-a5bc13f53f2b",
   "metadata": {},
   "outputs": [
    {
     "name": "stdout",
     "output_type": "stream",
     "text": [
      "train size:\t200\n",
      "val size:\t0\n",
      "test size:\t0\n"
     ]
    }
   ],
   "source": [
    "#| eval: false\n",
    "data_path = '/workspace/data/teste'\n",
    "ds = ufgDataset(data_path)\n",
    "val_ds = ufgDataset(data_path, split='valid')\n",
    "test_ds = ufgDataset(data_path, split='test')\n",
    "print(f'train size:\\t{len(ds)}\\nval size:\\t{len(val_ds)}\\ntest size:\\t{len(test_ds)}')"
   ]
  },
  {
   "cell_type": "code",
   "execution_count": 6,
   "id": "e3eb01dc-644f-41ab-a450-ad26b2a41d11",
   "metadata": {},
   "outputs": [
    {
     "data": {
      "text/plain": [
       "(array([[-2.156321  , -5.562208  , -1.5984664 ,  0.14117648],\n",
       "        [-2.5282357 , -6.5148077 , -1.6133491 ,  0.08627451],\n",
       "        [-2.9724393 , -7.655479  , -1.5963081 ,  0.1882353 ],\n",
       "        ...,\n",
       "        [        nan,         nan,         nan,         nan],\n",
       "        [        nan,         nan,         nan,         nan],\n",
       "        [        nan,         nan,         nan,         nan]],\n",
       "       dtype=float32),\n",
       " (29152, 4))"
      ]
     },
     "execution_count": 6,
     "metadata": {},
     "output_type": "execute_result"
    }
   ],
   "source": [
    "#| eval: false\n",
    "item = ds[1]\n",
    "frame = item['frame']\n",
    "mask = item['mask']\n",
    "frame, frame.shape"
   ]
  },
  {
   "cell_type": "code",
   "execution_count": 7,
   "id": "d8f34f42-3faf-4528-bb72-a7beab9d5f93",
   "metadata": {},
   "outputs": [
    {
     "data": {
      "text/plain": [
       "(array([9, 9, 9, ..., 0, 0, 0], dtype=uint32),\n",
       " (29152,),\n",
       " dtype('uint32'),\n",
       " {0, 9, 11, 15, 18})"
      ]
     },
     "execution_count": 7,
     "metadata": {},
     "output_type": "execute_result"
    }
   ],
   "source": [
    "#| eval: false\n",
    "label = item['label']\n",
    "label, label.shape, label.dtype, set(label)"
   ]
  },
  {
   "cell_type": "code",
   "execution_count": 8,
   "id": "c2acb1a8-81f5-4957-8226-e9511cdbf91f",
   "metadata": {},
   "outputs": [
    {
     "data": {
      "text/plain": [
       "(array([ True,  True,  True, ..., False, False, False]),\n",
       " (29152,),\n",
       " dtype('bool'))"
      ]
     },
     "execution_count": 8,
     "metadata": {},
     "output_type": "execute_result"
    }
   ],
   "source": [
    "#| eval: false\n",
    "mask = item['mask']\n",
    "mask, mask.shape, mask.dtype"
   ]
  },
  {
   "cell_type": "code",
   "execution_count": 9,
   "id": "dbc3a2e1-e950-457f-98c1-ae2166364bc8",
   "metadata": {},
   "outputs": [
    {
     "data": {
      "text/plain": [
       "(array([ 5.03027 ,  5.03027 ,  5.03027 , ..., 31.744184, 31.744184,\n",
       "        31.744184], dtype=float32),\n",
       " (29152,),\n",
       " dtype('float32'))"
      ]
     },
     "execution_count": 9,
     "metadata": {},
     "output_type": "execute_result"
    }
   ],
   "source": [
    "#| eval: false\n",
    "weight = item['weight']\n",
    "weight, weight.shape, weight.dtype"
   ]
  },
  {
   "cell_type": "markdown",
   "id": "1be19190-8f78-4b47-b1d8-c2f0fef32610",
   "metadata": {},
   "source": [
    "## Parte 2"
   ]
  },
  {
   "cell_type": "code",
   "execution_count": 10,
   "id": "968ad5a8-df7e-431b-b630-b11bec78f687",
   "metadata": {},
   "outputs": [],
   "source": [
    "#| eval: false\n",
    "def plot_projections(img, label):\n",
    "    fig, axs = plt.subplots(6, 1, figsize=(20,10), layout='compressed')\n",
    "    for i, (ax, title) in enumerate(zip(axs, ['x', 'y', 'z', 'r', 'd', 'label'])):\n",
    "        if i < 5:\n",
    "            ax.imshow(img[:,:,i])\n",
    "        else:\n",
    "            ax.imshow(label)\n",
    "        ax.set_title(title)\n",
    "        ax.axis('off')"
   ]
  },
  {
   "cell_type": "code",
   "execution_count": 11,
   "id": "902d664a-bcab-4a34-a698-f619fcd5877c",
   "metadata": {},
   "outputs": [
    {
     "data": {
      "image/png": "[encoded data removed]",
      "text/plain": [
       "<Figure size 2000x1000 with 6 Axes>"
      ]
     },
     "metadata": {},
     "output_type": "display_data"
    }
   ],
   "source": [
    "#| eval: false\n",
    "proj = SphericalProjection(fov_up_deg=16., fov_down_deg=-16., W=512, H=16)  # these values were taken from [https://github.com/PRBonn/semantic-kitti-api/blob/master/auxiliary/laserscan.py]\n",
    "scaling_values = {\n",
    "    \"x\" : {\"min\": -100., \"max\":100.},\n",
    "    \"y\" : {\"min\": -100., \"max\":100.},\n",
    "    \"z\" : {\"min\": -10., \"max\":30.},\n",
    "    \"r\" : {\"min\": 0., \"max\":1.},\n",
    "    \"d\" : {\"min\": 0., \"max\":130.}\n",
    "}\n",
    "tfms = v2.Compose([\n",
    "    ProjectionTransform(proj),\n",
    "    ProjectionVizTransform(ds.color_map_rgb_np, ds.learning_map_inv_np, scaling_values),\n",
    "])\n",
    "ds.set_transform(tfms)\n",
    "item = ds[0]\n",
    "img = item['frame']\n",
    "label = item['label']\n",
    "\n",
    "plot_projections(img, label)"
   ]
  },
  {
   "cell_type": "code",
   "execution_count": 13,
   "id": "01ff18b2-6154-4be6-a932-0db2d4dccb59",
   "metadata": {},
   "outputs": [],
   "source": [
    "#| hide\n",
    "import nbdev; nbdev.nbdev_export()"
   ]
  }
 ],
 "metadata": {
  "kernelspec": {
   "display_name": "Python 3 (ipykernel)",
   "language": "python",
   "name": "python3"
  },
  "language_info": {
   "codemirror_mode": {
    "name": "ipython",
    "version": 3
   },
   "file_extension": ".py",
   "mimetype": "text/x-python",
   "name": "python",
   "nbconvert_exporter": "python",
   "pygments_lexer": "ipython3",
   "version": "3.10.14"
  }
 },
 "nbformat": 4,
 "nbformat_minor": 5
}
