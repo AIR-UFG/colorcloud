{
 "cells": [
  {
   "cell_type": "markdown",
   "id": "1e6b0541-5754-4aec-872a-04075bd1025b",
   "metadata": {},
   "source": [
    "# UFGsim2024infufg\n",
    "> Module to handle loading, preprocessing and postprocessing of the data from the simulated world for UFG's dataset\n",
    ">\n",
    "> Still needs proper documentation"
   ]
  },
  {
   "cell_type": "code",
   "execution_count": 1,
   "id": "133aa0c5-ef61-4842-8460-4a15a57b5464",
   "metadata": {},
   "outputs": [],
   "source": [
    "#| default_exp UFGsim2024infufg"
   ]
  },
  {
   "cell_type": "code",
   "execution_count": 2,
   "id": "c61cfbf1-6c48-42bb-8f40-136f89ffe6df",
   "metadata": {},
   "outputs": [],
   "source": [
    "#| exports\n",
    "import torch\n",
    "import re\n",
    "from torch.utils.data import Dataset, DataLoader, random_split\n",
    "from torch import nn\n",
    "import yaml\n",
    "from pathlib import Path\n",
    "import numpy as np\n",
    "from lightning import LightningDataModule\n",
    "from torchvision.transforms import v2\n",
    "from colorcloud.behley2019iccv import SphericalProjection"
   ]
  },
  {
   "cell_type": "markdown",
   "id": "964d2ac6-3cca-49bf-8580-dabb6a3a9659",
   "metadata": {},
   "source": [
    "introduction here"
   ]
  },
  {
   "cell_type": "code",
   "execution_count": 3,
   "id": "4c929abd-acb8-4ccf-927a-619df0e14b08",
   "metadata": {},
   "outputs": [],
   "source": [
    "#| exports\n",
    "class UFGSimDataset(Dataset):\n",
    "    \"Load the UFGSim dataset ina pytorch Dataset object.\"\n",
    "    def __init__(self, data_path, is_train=True, transform=None):\n",
    "        data_path = Path(data_path)\n",
    "        yaml_path = data_path/'ufg-sim.yaml'\n",
    "        self.ufgsim_velodyne_path = data_path/'laser_scans'\n",
    "\n",
    "        with open(yaml_path, 'r') as file:\n",
    "            metadata = yaml.safe_load(file)\n",
    "\n",
    "        self.labels_dict = metadata['labels']\n",
    "\n",
    "        ufgsim_velodyne_fns = []\n",
    "\n",
    "        ufgsim_velodyne_fns += list(self.ufgsim_velodyne_path.rglob('*laser[0-9]/*.bin'))\n",
    "  \n",
    "        self.frame_ids = [fn.stem for fn in sorted(ufgsim_velodyne_fns)]\n",
    "        self.frame_lasers = [fn.parts[-2] for fn in ufgsim_velodyne_fns]\n",
    "\n",
    "        self.color_map_bgr = metadata['color_map']\n",
    "        max_key = sorted(self.color_map_bgr.keys())[-1]\n",
    "        self.color_map_rgb_np = np.zeros((max_key+1,3))\n",
    "        for k,v in self.color_map_bgr.items():\n",
    "            self.color_map_rgb_np[k] = np.array(v[::-1], np.float32)\n",
    "        \n",
    "        self.transform = transform\n",
    "\n",
    "    def __len__(self):\n",
    "        return len(self.frame_ids)\n",
    "\n",
    "    def set_transform(self, transform):\n",
    "        self.transform = transform\n",
    "        \n",
    "    def __getitem__(self, idx):\n",
    "        frame_id = self.frame_ids[idx]\n",
    "        frame_laser = self.frame_lasers[idx]\n",
    "\n",
    "        frame_path = self.ufgsim_velodyne_path/frame_laser/(frame_id + '.bin')\n",
    "\n",
    "        with open(frame_path, 'rb') as f:\n",
    "            frame = np.fromfile(f, dtype=np.float32).reshape(-1, 4)\n",
    "            x_frame = frame[:, 0]\n",
    "            y_frame = frame[:, 1]\n",
    "            z_frame = frame[:, 2]\n",
    "            label = frame[:, 3].astype(np.uint8)\n",
    "\n",
    "        mask = label != 0\n",
    "\n",
    "        if self.transform:\n",
    "            frame, label, mask = self.transform(frame, label, mask)\n",
    "        # return x_frame, y_frame, z_frame, label\n",
    "        return frame, label, mask\n",
    "        \n"
   ]
  },
  {
   "cell_type": "markdown",
   "id": "de188721-ee05-47e5-90f4-9b955d0ba56c",
   "metadata": {},
   "source": [
    "instructions of download and label description"
   ]
  },
  {
   "cell_type": "code",
   "execution_count": 4,
   "id": "e7796f2a-57b1-4f23-92ca-bd8da775cb68",
   "metadata": {},
   "outputs": [
    {
     "data": {
      "text/plain": [
       "(array([[-1.2572704e+01, -3.3362801e-05, -1.5437317e+00,  4.0000000e+00],\n",
       "        [-1.6822290e+01, -4.4639455e-05, -1.4717574e+00,  4.0000000e+00],\n",
       "        [-1.9663694e+01, -5.2179381e-05, -1.0305290e+00,  6.0000000e+01],\n",
       "        ...,\n",
       "        [-6.2977333e+01,  1.6711601e-04,  1.0992719e+00,  4.0000000e+01],\n",
       "        [-6.2945255e+01,  1.6703088e-04,  3.2988162e+00,  4.0000000e+01],\n",
       "        [-6.2909000e+01,  1.6693468e-04,  5.5038161e+00,  4.0000000e+01]],\n",
       "       dtype=float32),\n",
       " array([ 4,  4, 60, ..., 40, 40, 40], dtype=uint8),\n",
       " array([ True,  True,  True, ...,  True,  True,  True]))"
      ]
     },
     "execution_count": 4,
     "metadata": {},
     "output_type": "execute_result"
    }
   ],
   "source": [
    "#| eval: false\n",
    "data_path = '/workspace/data'\n",
    "ds = UFGSimDataset(data_path)\n",
    "ds[250]"
   ]
  },
  {
   "cell_type": "code",
   "execution_count": 5,
   "id": "ef22a71d-3afb-4b85-a7de-1ff854c979de",
   "metadata": {},
   "outputs": [
    {
     "data": {
      "text/plain": [
       "array([-11.028973, -15.350533, -18.633165, ..., -64.07661 , -66.24407 ,\n",
       "       -68.41282 ], dtype=float32)"
      ]
     },
     "execution_count": 5,
     "metadata": {},
     "output_type": "execute_result"
    }
   ],
   "source": [
    "#| eval: false\n",
    "frame, label, mask = ds[250]\n",
    "frame[:,0] - frame[:,2]"
   ]
  },
  {
   "cell_type": "code",
   "execution_count": 6,
   "id": "22453ebc-3dbe-4cbd-8088-d284af80e2df",
   "metadata": {},
   "outputs": [],
   "source": [
    "#| exports\n",
    "class ProjectionSimTransform(nn.Module):\n",
    "    def __init__(self, projection):\n",
    "        super().__init__()\n",
    "        self.projection = projection\n",
    "        self.W = projection.W\n",
    "        self.H = projection.H\n",
    "\n",
    "    def forward(self, frame, label, mask):\n",
    "        scan_xyz = frame[:,:3]\n",
    "        \n",
    "\n",
    "        depth = np.linalg.norm(scan_xyz, 2, axis=1)\n",
    "\n",
    "        proj_x, proj_y, outliers = self.projection.get_xy_projections(scan_xyz, depth)\n",
    "\n",
    "        order = np.argsort(depth)[::-1]\n",
    "        info_list = [scan_xyz, depth[..., np.newaxis]]\n",
    "        if label is not None:\n",
    "            info_list += [mask[..., np.newaxis]]\n",
    "            info_list += [label[..., np.newaxis]]\n",
    "\n",
    "        scan_info = np.concatenate(info_list, axis=-1)\n",
    "        scan_info = scan_info[order]\n",
    "        proj_y = proj_y[order]\n",
    "        proj_x = proj_x[order]\n",
    "\n",
    "\n",
    "        projections_img = np.zeros((self.H, self.W, 2+len(info_list)))\n",
    "        projections_img[:,:,-1] -= 1\n",
    "        projections_img[proj_y, proj_x] = scan_info\n",
    "\n",
    "        if label is not None:\n",
    "            frame_img = projections_img[:,:,:-2]\n",
    "            label_img = projections_img[:,:,-1].astype(int)\n",
    "            mask_img = projections_img[:,:,-2].astype(bool)\n",
    "            mask_img = mask_img & (label_img > -1)\n",
    "\n",
    "        else:\n",
    "            frame_img = projections_img\n",
    "            label_img = None\n",
    "            mask_img = projections_img[:,:,-1] >= 0\n",
    "\n",
    "        return frame_img, label_img, mask_img"
   ]
  },
  {
   "cell_type": "code",
   "execution_count": 7,
   "id": "38294e80-1394-4d88-9d0c-b679288742db",
   "metadata": {},
   "outputs": [],
   "source": [
    "#| eval: false\n",
    "proj = SphericalProjection(fov_up_deg=3., fov_down_deg=-25., W=1024, H=64)\n",
    "tfms = ProjectionSimTransform(proj)\n",
    "ds.set_transform(tfms)\n",
    "frame_img, label_img, mask_img = ds[250]"
   ]
  },
  {
   "cell_type": "code",
   "execution_count": 8,
   "id": "8581c839-cf9e-4bf5-9f34-1b50ad942e63",
   "metadata": {},
   "outputs": [
    {
     "data": {
      "text/plain": [
       "(array([[[-6.29295311e+01, -1.66989164e-04,  3.29799199e+00,\n",
       "           6.30158920e+01],\n",
       "         [ 0.00000000e+00,  0.00000000e+00,  0.00000000e+00,\n",
       "           0.00000000e+00],\n",
       "         [-5.88426628e+01, -8.42398286e-01,  3.08412480e+00,\n",
       "           5.89294548e+01],\n",
       "         ...,\n",
       "         [-6.76497955e+01,  9.68482196e-01,  3.54573345e+00,\n",
       "           6.77495728e+01],\n",
       "         [ 0.00000000e+00,  0.00000000e+00,  0.00000000e+00,\n",
       "           0.00000000e+00],\n",
       "         [-6.29452553e+01,  1.67030885e-04,  3.29881620e+00,\n",
       "           6.30316391e+01]],\n",
       " \n",
       "        [[ 0.00000000e+00,  0.00000000e+00,  0.00000000e+00,\n",
       "           0.00000000e+00],\n",
       "         [ 0.00000000e+00,  0.00000000e+00,  0.00000000e+00,\n",
       "           0.00000000e+00],\n",
       "         [ 0.00000000e+00,  0.00000000e+00,  0.00000000e+00,\n",
       "           0.00000000e+00],\n",
       "         ...,\n",
       "         [ 0.00000000e+00,  0.00000000e+00,  0.00000000e+00,\n",
       "           0.00000000e+00],\n",
       "         [ 0.00000000e+00,  0.00000000e+00,  0.00000000e+00,\n",
       "           0.00000000e+00],\n",
       "         [ 0.00000000e+00,  0.00000000e+00,  0.00000000e+00,\n",
       "           0.00000000e+00]]]),\n",
       " (64, 1024, 4),\n",
       " dtype('float64'))"
      ]
     },
     "execution_count": 8,
     "metadata": {},
     "output_type": "execute_result"
    }
   ],
   "source": [
    "#| eval: false\n",
    "frame_img[:2], frame_img.shape, frame_img.dtype"
   ]
  },
  {
   "cell_type": "code",
   "execution_count": 9,
   "id": "15d862d2-8d1a-496d-acc1-f7f3329c2002",
   "metadata": {},
   "outputs": [
    {
     "data": {
      "text/plain": [
       "(array([[40, -1, 40, ..., 40, -1, 40],\n",
       "        [-1, -1, -1, ..., -1, -1, -1]]),\n",
       " (64, 1024),\n",
       " dtype('int32'),\n",
       " {-1, 0, 4, 7, 9, 12, 20, 40, 42, 55, 60, 65, 80})"
      ]
     },
     "execution_count": 9,
     "metadata": {},
     "output_type": "execute_result"
    }
   ],
   "source": [
    "#| eval: false\n",
    "label_img[:2], label_img.shape, label_img.dtype, set(label_img.flatten())"
   ]
  },
  {
   "cell_type": "code",
   "execution_count": 10,
   "id": "6507d7b5-6621-4ecf-814a-4f9d8a68f4c7",
   "metadata": {},
   "outputs": [
    {
     "data": {
      "text/plain": [
       "(array([[ True, False,  True, ...,  True, False,  True],\n",
       "        [False, False, False, ..., False, False, False]]),\n",
       " (64, 1024),\n",
       " dtype('bool'))"
      ]
     },
     "execution_count": 10,
     "metadata": {},
     "output_type": "execute_result"
    }
   ],
   "source": [
    "#| eval: false\n",
    "mask_img[:2], mask_img.shape, mask_img.dtype"
   ]
  },
  {
   "cell_type": "code",
   "execution_count": 11,
   "id": "5bb8ccf9-7729-4965-8dea-5fec990918f5",
   "metadata": {},
   "outputs": [],
   "source": [
    "#| exports\n",
    "class ProjectionSimVizTransform(nn.Module):\n",
    "    def __init__(self, color_map_rgb_np):\n",
    "        super().__init__()\n",
    "        self.color_map_rgb_np = color_map_rgb_np\n",
    "\n",
    "    def scale(self, img, min_value, max_value):\n",
    "        img = img.clip(min_value, max_value)\n",
    "        return (255.*(img - min_value)/(max_value - min_value)).astype(int)\n",
    "\n",
    "    def forward(self, frame_img, label_img, mask_img):\n",
    "        normalized_frame_img = None\n",
    "        if frame_img is not None:\n",
    "            x = self.scale(frame_img[:,:,0], -100., 100.)\n",
    "            y = self.scale(frame_img[:,:,1], -100., 100.)\n",
    "            z = self.scale(frame_img[:,:,2], -31., 5.)\n",
    "            d = self.scale(frame_img[:,:,3], 0., 100.)\n",
    "            normalized_frame_img = np.stack((x, y, z, d), axis=-1)\n",
    "            normalized_frame_img[mask_img == False] *= 0\n",
    "\n",
    "        colored_label_img = None\n",
    "        if label_img is not None:\n",
    "            colored_label_img = np.zeros(label_img.shape + (3,))\n",
    "            colored_label_img[mask_img] = self.color_map_rgb_np[label_img[mask_img]]\n",
    "            colored_label_img = colored_label_img.astype(int)\n",
    "\n",
    "        return normalized_frame_img, colored_label_img, mask_img"
   ]
  },
  {
   "cell_type": "code",
   "execution_count": 12,
   "id": "ecef3d67-cd14-4661-aa25-c87b5e1ae6b1",
   "metadata": {},
   "outputs": [],
   "source": [
    "#| eval: false\n",
    "from matplotlib import pyplot as plt"
   ]
  },
  {
   "cell_type": "code",
   "execution_count": 13,
   "id": "af6b999c-ef50-4b96-add8-8c3cfeeb39dc",
   "metadata": {},
   "outputs": [],
   "source": [
    "#| eval: false\n",
    "def plot_projections(img, label):\n",
    "    fig, axs = plt.subplots(5, 1, figsize=(20,10), layout='compressed')\n",
    "    for i, (ax, title) in enumerate(zip(axs, ['x', 'y', 'z', 'd', 'label'])):\n",
    "        if i < 4:\n",
    "            ax.imshow(img[:,:,i])\n",
    "        else:\n",
    "            ax.imshow(label)\n",
    "        ax.set_title(title)\n",
    "        ax.axis('off')"
   ]
  },
  {
   "cell_type": "code",
   "execution_count": 14,
   "id": "4223605f-e936-4c26-9e03-ad86266748a6",
   "metadata": {},
   "outputs": [
    {
     "data": {
      "image/png": "[encoded data removed]",
      "text/plain": [
       "<Figure size 2000x1000 with 5 Axes>"
      ]
     },
     "metadata": {},
     "output_type": "display_data"
    }
   ],
   "source": [
    "#| eval: false\n",
    "proj = SphericalProjection(fov_up_deg=15., fov_down_deg=-15., W=256, H=16) \n",
    "tfms = v2.Compose([\n",
    "    ProjectionSimTransform(proj),\n",
    "    ProjectionSimVizTransform(ds.color_map_rgb_np),\n",
    "])\n",
    "ds.set_transform(tfms)\n",
    "img, label, _ = ds[250]\n",
    "\n",
    "plot_projections(img, label)"
   ]
  },
  {
   "cell_type": "code",
   "execution_count": 15,
   "id": "2b512750-706e-433e-848c-461bcb4541b6",
   "metadata": {},
   "outputs": [
    {
     "name": "stdout",
     "output_type": "stream",
     "text": [
      "1.47 ms ± 55.6 µs per loop (mean ± std. dev. of 7 runs, 1,000 loops each)\n"
     ]
    }
   ],
   "source": [
    "#| eval: false\n",
    "%timeit img, label, _ = ds[0]"
   ]
  },
  {
   "cell_type": "code",
   "execution_count": null,
   "id": "f1923fae-717a-4bf4-af58-5ee93300fcd5",
   "metadata": {},
   "outputs": [],
   "source": [
    "#| hide\n",
    "import nbdev; nbdev.nbdev_export()"
   ]
  }
 ],
 "metadata": {
  "kernelspec": {
   "display_name": "Python 3 (ipykernel)",
   "language": "python",
   "name": "python3"
  },
  "language_info": {
   "codemirror_mode": {
    "name": "ipython",
    "version": 3
   },
   "file_extension": ".py",
   "mimetype": "text/x-python",
   "name": "python",
   "nbconvert_exporter": "python",
   "pygments_lexer": "ipython3",
   "version": "3.12.0"
  }
 },
 "nbformat": 4,
 "nbformat_minor": 5
}
