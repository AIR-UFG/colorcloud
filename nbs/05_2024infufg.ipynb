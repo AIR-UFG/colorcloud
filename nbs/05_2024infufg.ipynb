{
 "cells": [
  {
   "cell_type": "markdown",
   "id": "1e6b0541-5754-4aec-872a-04075bd1025b",
   "metadata": {},
   "source": [
    "# UFGsim2024infufg\n",
    "> Module to handle loading, preprocessing and postprocessing of the data from the simulated world for UFG's dataset\n",
    ">\n",
    "> Still needs proper documentation"
   ]
  },
  {
   "cell_type": "code",
   "execution_count": null,
   "id": "133aa0c5-ef61-4842-8460-4a15a57b5464",
   "metadata": {},
   "outputs": [],
   "source": [
    "#| default_exp UFGsim2024infufg"
   ]
  },
  {
   "cell_type": "code",
   "execution_count": null,
   "id": "c61cfbf1-6c48-42bb-8f40-136f89ffe6df",
   "metadata": {},
   "outputs": [],
   "source": [
    "#| exports\n",
    "import torch\n",
    "import re\n",
    "from torch.utils.data import Dataset, DataLoader, random_split\n",
    "from torch import nn\n",
    "import yaml\n",
    "from pathlib import Path\n",
    "import numpy as np\n",
    "from lightning import LightningDataModule\n",
    "from torchvision.transforms import v2\n",
    "from colorcloud.behley2019iccv import SphericalProjection"
   ]
  },
  {
   "cell_type": "markdown",
   "id": "964d2ac6-3cca-49bf-8580-dabb6a3a9659",
   "metadata": {},
   "source": [
    "introduction here"
   ]
  },
  {
   "cell_type": "code",
   "execution_count": null,
   "id": "4c929abd-acb8-4ccf-927a-619df0e14b08",
   "metadata": {},
   "outputs": [],
   "source": [
    "#| exports\n",
    "class UFGSimDataset(Dataset):\n",
    "    \"Load the UFGSim dataset ina pytorch Dataset object.\"\n",
    "    def __init__(self, data_path, split='train', transform=None):\n",
    "        data_path = Path(data_path)\n",
    "        yaml_path = data_path/'ufg-sim.yaml'\n",
    "        self.ufgsim_velodyne_path = data_path/'laser_scans'\n",
    "\n",
    "        with open(yaml_path, 'r') as file:\n",
    "            metadata = yaml.safe_load(file)\n",
    "\n",
    "        lasers = metadata['split'][split]\n",
    "        self.labels_dict = metadata['labels']\n",
    "\n",
    "        ufgsim_velodyne_fns = []\n",
    "        for laser in lasers:\n",
    "            ufgsim_velodyne_fns += list(self.ufgsim_velodyne_path.rglob(f'laser{laser}/*.bin'))\n",
    "  \n",
    "        self.frame_ids = [fn.stem for fn in sorted(ufgsim_velodyne_fns)]\n",
    "        self.frame_lasers = [fn.parts[-2] for fn in sorted(ufgsim_velodyne_fns)]\n",
    "\n",
    "        self.learning_map = metadata['learning_map']\n",
    "        max_key = sorted(self.learning_map.keys())[-1]\n",
    "        self.learning_map_np = np.zeros((max_key+1,), dtype=int)\n",
    "        for k, v in self.learning_map.items():\n",
    "            self.learning_map_np[k] = v\n",
    "        \n",
    "        self.learning_map_inv = metadata['learning_map_inv']\n",
    "        self.learning_map_inv_np = np.zeros((len(self.learning_map_inv),))\n",
    "        for k, v in self.learning_map_inv.items():\n",
    "            self.learning_map_inv_np[k] = v\n",
    "        \n",
    "        self.color_map_bgr = metadata['color_map']\n",
    "        max_key = sorted(self.color_map_bgr.keys())[-1]\n",
    "        self.color_map_rgb_np = np.zeros((max_key+1,3))\n",
    "        for k,v in self.color_map_bgr.items():\n",
    "            self.color_map_rgb_np[k] = np.array(v[::-1], np.float32)\n",
    "        \n",
    "        self.transform = transform\n",
    "        self.is_test = (split == 'test')\n",
    "\n",
    "\n",
    "    def learning_remap(self, remapping_rules):\n",
    "        new_map_np = np.zeros_like(self.learning_map_np, dtype=int)\n",
    "        max_key = sorted(remapping_rules.values())[-1]\n",
    "        new_map_inv_np = np.zeros((max_key+1,), dtype=int)\n",
    "        for k, v in remapping_rules.items():\n",
    "            new_map_np[self.learning_map_np == k] = v\n",
    "            if new_map_inv_np[v] == 0:\n",
    "                new_map_inv_np[v] = self.learning_map_inv_np[k]\n",
    "        self.learning_map_np = new_map_np\n",
    "        self.learning_map_inv_np = new_map_inv_np\n",
    "    \n",
    "    def __len__(self):\n",
    "        return len(self.frame_ids)\n",
    "\n",
    "    def set_transform(self, transform):\n",
    "        self.transform = transform\n",
    "        \n",
    "    def __getitem__(self, idx):\n",
    "        frame_id = self.frame_ids[idx]\n",
    "        frame_laser = self.frame_lasers[idx]\n",
    "\n",
    "        frame_path = self.ufgsim_velodyne_path/frame_laser/(frame_id + '.bin')\n",
    "\n",
    "        with open(frame_path, 'rb') as f:\n",
    "            frame = np.fromfile(f, dtype=np.float32).reshape(-1, 4)\n",
    "            x_frame = frame[:, 0]\n",
    "            y_frame = frame[:, 1]\n",
    "            z_frame = frame[:, 2]\n",
    "            label = frame[:, 3].astype(np.uint8)\n",
    "\n",
    "        label = self.learning_map_np[label]\n",
    "        mask = label != 0\n",
    "\n",
    "        if self.transform:\n",
    "            frame, label, mask = self.transform(frame, label, mask)\n",
    "        # return x_frame, y_frame, z_frame, label\n",
    "        return frame, label, mask\n",
    "        \n"
   ]
  },
  {
   "cell_type": "markdown",
   "id": "9ef9440f-5ab0-4954-95c9-70a984210d56",
   "metadata": {},
   "source": [
    "The dataset files are organized as follows:\n",
    "- data\n",
    "  - laser_scans\n",
    "      - laser0\n",
    "        - pcd1.bin\n",
    "        - pcd2.bin\n",
    "        - ...\n",
    "      - laser1\n",
    "        - pcd1.bin\n",
    "        - pcd2.bin\n",
    "        - ...\n",
    "      - ...\n",
    "  - ufg-sim.yaml"
   ]
  },
  {
   "cell_type": "markdown",
   "id": "de188721-ee05-47e5-90f4-9b955d0ba56c",
   "metadata": {},
   "source": [
    "Instructions of download and label description"
   ]
  },
  {
   "cell_type": "code",
   "execution_count": null,
   "id": "e7796f2a-57b1-4f23-92ca-bd8da775cb68",
   "metadata": {},
   "outputs": [
    {
     "data": {
      "text/plain": [
       "(array([[-1.2693751e+01, -3.3684009e-05, -1.5585943e+00,  0.0000000e+00],\n",
       "        [-1.7000994e+01, -4.5113662e-05, -1.4873919e+00,  0.0000000e+00],\n",
       "        [-2.5397661e+01, -6.7394976e-05, -1.3310331e+00,  4.0000000e+00],\n",
       "        ...,\n",
       "        [-3.7802494e+01,  1.0031231e-04, -6.5984398e-01,  9.0000000e+00],\n",
       "        [-3.7758598e+01,  1.0019583e-04,  6.5907782e-01,  9.0000000e+00],\n",
       "        [-3.7734058e+01,  1.0013071e-04,  1.9775552e+00,  9.0000000e+00]],\n",
       "       dtype=float32),\n",
       " array([0, 0, 1, ..., 4, 4, 4]),\n",
       " array([False, False,  True, ...,  True,  True,  True]))"
      ]
     },
     "execution_count": null,
     "metadata": {},
     "output_type": "execute_result"
    }
   ],
   "source": [
    "#| eval: false\n",
    "data_path = '../UFGSim'\n",
    "ds = UFGSimDataset(data_path)\n",
    "ds[127]"
   ]
  },
  {
   "cell_type": "code",
   "execution_count": null,
   "id": "ef22a71d-3afb-4b85-a7de-1ff854c979de",
   "metadata": {},
   "outputs": [
    {
     "data": {
      "text/plain": [
       "array([ 0,  1,  3,  4,  5,  6,  7,  8,  9, 10, 11, 12])"
      ]
     },
     "execution_count": null,
     "metadata": {},
     "output_type": "execute_result"
    }
   ],
   "source": [
    "#| eval: false\n",
    "frame, label, mask = ds[127]\n",
    "frame[:,0] - frame[:,2]"
   ]
  },
  {
   "cell_type": "code",
   "execution_count": null,
   "id": "22453ebc-3dbe-4cbd-8088-d284af80e2df",
   "metadata": {},
   "outputs": [],
   "source": [
    "#| exports\n",
    "class ProjectionSimTransform(nn.Module):\n",
    "    def __init__(self, projection):\n",
    "        super().__init__()\n",
    "        self.projection = projection\n",
    "        self.W = projection.W\n",
    "        self.H = projection.H\n",
    "\n",
    "    def forward(self, frame, label, mask):\n",
    "        scan_xyz = frame[:,:3]\n",
    "        \n",
    "\n",
    "        depth = np.linalg.norm(scan_xyz, 2, axis=1)\n",
    "\n",
    "        proj_x, proj_y, outliers = self.projection.get_xy_projections(scan_xyz, depth)\n",
    "\n",
    "        # filter outliers\n",
    "        if outliers is not None:\n",
    "            proj_x = proj_x[~outliers]\n",
    "            proj_y = proj_y[~outliers]\n",
    "            scan_xyz = scan_xyz[~outliers]\n",
    "            depth = depth[~outliers]\n",
    "            if label is not None:\n",
    "                label = label[~outliers]\n",
    "                mask = mask[~outliers]\n",
    "\n",
    "        order = np.argsort(depth)[::-1]\n",
    "        info_list = [scan_xyz, depth[..., np.newaxis]]\n",
    "        if label is not None:\n",
    "            info_list += [mask[..., np.newaxis]]\n",
    "            info_list += [label[..., np.newaxis]]\n",
    "\n",
    "        scan_info = np.concatenate(info_list, axis=-1)\n",
    "        scan_info = scan_info[order]\n",
    "        proj_y = proj_y[order]\n",
    "        proj_x = proj_x[order]\n",
    "\n",
    "\n",
    "        projections_img = np.zeros((self.H, self.W, 2+len(info_list)))\n",
    "        projections_img[:,:,-1] -= 1\n",
    "        projections_img[proj_y, proj_x] = scan_info\n",
    "\n",
    "        if label is not None:\n",
    "            frame_img = projections_img[:,:,:-2]\n",
    "            label_img = projections_img[:,:,-1].astype(int)\n",
    "            mask_img = projections_img[:,:,-2].astype(bool)\n",
    "            mask_img = mask_img & (label_img > -1)\n",
    "\n",
    "        else:\n",
    "            frame_img = projections_img\n",
    "            label_img = None\n",
    "            mask_img = projections_img[:,:,-1] >= 0\n",
    "\n",
    "        return frame_img, label_img, mask_img"
   ]
  },
  {
   "cell_type": "code",
   "execution_count": null,
   "id": "38294e80-1394-4d88-9d0c-b679288742db",
   "metadata": {},
   "outputs": [],
   "source": [
    "#| eval: false\n",
    "proj = SphericalProjection(fov_up_deg=3., fov_down_deg=-25., W=440, H=16)\n",
    "tfms = ProjectionSimTransform(proj)\n",
    "ds.set_transform(tfms)\n",
    "frame_img, label_img, mask_img = ds[127]"
   ]
  },
  {
   "cell_type": "code",
   "execution_count": null,
   "id": "8581c839-cf9e-4bf5-9f34-1b50ad942e63",
   "metadata": {},
   "outputs": [
    {
     "data": {
      "text/plain": [
       "(array([[[-3.77493401e+01, -1.00171274e-04,  1.97835624e+00,\n",
       "           3.78011475e+01],\n",
       "         [ 0.00000000e+00,  0.00000000e+00,  0.00000000e+00,\n",
       "           0.00000000e+00],\n",
       "         [ 0.00000000e+00,  0.00000000e+00,  0.00000000e+00,\n",
       "           0.00000000e+00],\n",
       "         ...,\n",
       "         [-3.62925797e+01,  1.03925407e+00,  1.90279031e+00,\n",
       "           3.63572845e+01],\n",
       "         [-3.65888863e+01,  5.23810685e-01,  1.91773605e+00,\n",
       "           3.66428528e+01],\n",
       "         [-3.77340584e+01,  1.00130710e-04,  1.97755516e+00,\n",
       "           3.77858429e+01]],\n",
       " \n",
       "        [[-3.77706947e+01, -1.00227931e-04,  6.59288943e-01,\n",
       "           3.77764473e+01],\n",
       "         [ 0.00000000e+00,  0.00000000e+00,  0.00000000e+00,\n",
       "           0.00000000e+00],\n",
       "         [ 0.00000000e+00,  0.00000000e+00,  0.00000000e+00,\n",
       "           0.00000000e+00],\n",
       "         ...,\n",
       "         [-3.63273849e+01,  1.04025066e+00,  6.34355843e-01,\n",
       "           3.63478127e+01],\n",
       "         [-3.66113434e+01,  5.24132192e-01,  6.39117897e-01,\n",
       "           3.66206703e+01],\n",
       "         [-3.77585983e+01,  1.00195830e-04,  6.59077823e-01,\n",
       "           3.77643509e+01]]]),\n",
       " (16, 440, 4),\n",
       " dtype('float64'))"
      ]
     },
     "execution_count": null,
     "metadata": {},
     "output_type": "execute_result"
    }
   ],
   "source": [
    "#| eval: false\n",
    "frame_img[:2], frame_img.shape, frame_img.dtype"
   ]
  },
  {
   "cell_type": "code",
   "execution_count": null,
   "id": "15d862d2-8d1a-496d-acc1-f7f3329c2002",
   "metadata": {},
   "outputs": [
    {
     "data": {
      "text/plain": [
       "(array([[ 4, -1, -1, -1, -1, -1, -1, -1, -1, -1, -1, -1, -1, -1, -1, -1,\n",
       "         -1, -1, -1, -1, -1, -1, -1, -1, -1,  9,  9,  9,  9,  9,  9,  9,\n",
       "          9,  9,  9, -1, -1, -1, -1, -1, -1, -1, -1, -1, -1, -1, -1, -1,\n",
       "         -1,  3,  3,  3,  3,  3,  3,  3,  3,  3,  3,  3,  3,  3,  3,  3,\n",
       "          3,  3,  3,  3,  3,  3,  6, -1, -1,  6,  6, -1, -1, -1, -1, -1,\n",
       "          6,  6,  6,  6,  3,  3,  3,  3,  3,  3,  3,  3,  3,  3,  3,  3,\n",
       "          3,  3,  3,  3,  3,  3,  3,  3,  3,  3,  7,  7,  7,  7,  7,  7,\n",
       "          7,  7,  7,  7,  7,  7,  7,  3,  3,  3,  3,  3,  3,  3,  3,  3,\n",
       "          3,  3,  3,  3,  3,  3,  3,  3,  3,  3,  3,  3,  3,  3,  3,  3,\n",
       "          3,  3,  3,  3, -1, -1, -1, -1, -1,  7,  7,  7,  7,  5,  7,  7,\n",
       "          7,  7,  7,  7,  7,  7,  7,  7,  7,  7,  7,  7,  7,  7,  7,  7,\n",
       "          7,  7,  7,  7,  7,  7,  7,  7,  7,  7,  7,  7,  7,  5,  7,  7,\n",
       "          7,  7,  7,  7,  7,  7,  7,  7,  7,  7,  7,  7,  7,  7,  7,  7,\n",
       "          7,  7,  7,  7,  7,  7,  7,  7,  7,  7,  7,  7,  7,  7,  7, -1,\n",
       "         -1, -1, -1, -1, -1, -1, -1, -1, -1, -1, -1, -1, -1, -1, -1, -1,\n",
       "         -1,  9,  9,  9,  9,  9,  9,  9,  9, -1, -1, -1, -1, -1, -1, -1,\n",
       "         -1, -1, -1, -1, -1, -1, -1, -1, -1, -1, -1,  7,  7,  7,  7,  7,\n",
       "          7,  7,  7,  7,  7,  7,  7,  7,  7,  5,  7,  7,  7,  7,  7,  7,\n",
       "          7,  7,  7,  7,  7,  7,  7,  7, -1, -1,  3,  3,  3,  3,  3,  3,\n",
       "          3,  3,  3,  3, -1,  3,  3,  3,  3, -1, -1,  3,  3,  3, -1,  3,\n",
       "          3,  3,  8,  8,  8,  8,  8,  8,  8,  8,  8,  8,  8,  8,  8,  8,\n",
       "          8,  3,  3,  3,  3,  3,  3,  3,  3,  3,  3,  3,  3,  3,  3,  3,\n",
       "          3,  3,  3,  3,  3,  3,  3,  3,  3,  3,  3,  3,  3,  3,  3,  3,\n",
       "          3,  3,  3,  3,  3,  3,  3,  3,  3,  3,  3,  3,  7,  7,  7,  7,\n",
       "          7,  7,  7,  7,  7,  7,  7,  7,  7,  7,  7,  7,  7,  7,  7,  7,\n",
       "          7,  7,  7,  7,  7,  7,  7,  7,  7,  7,  7,  7,  7,  7,  7,  7,\n",
       "          7,  7,  7,  7,  7,  7,  7,  7,  7,  7,  7,  7,  7,  7,  7,  7,\n",
       "          7,  7,  7,  7,  7,  4,  4,  4],\n",
       "        [ 4, -1, -1,  4, -1, -1, -1, -1, -1, -1, -1, -1, -1, -1, -1, -1,\n",
       "         -1, -1, -1, -1, -1, -1, -1, -1, -1,  9,  9,  9,  9,  9,  9,  9,\n",
       "          9,  9,  9, -1, -1, -1, -1, -1, -1, -1, -1, -1, -1, -1, -1, -1,\n",
       "         -1, -1, -1, -1, -1, -1, -1,  3, -1, -1,  3,  3,  3,  3,  3,  3,\n",
       "          3,  3,  3,  3,  3,  3,  3,  3, -1, -1, -1,  6,  6,  6, -1, -1,\n",
       "         -1, -1,  6,  6, -1, -1,  3,  3,  3,  3,  6,  6,  3,  3,  3,  3,\n",
       "          3,  3,  3,  3,  3,  3,  3,  3,  3,  7,  7,  7,  7,  7,  7,  7,\n",
       "          7,  7,  7,  7,  7,  7,  7,  7, -1, -1, -1, -1, -1, -1,  3,  3,\n",
       "          3,  3,  3,  3,  3,  3,  3,  3,  3,  3,  3,  3,  3,  3,  3,  3,\n",
       "          3,  3,  3,  3,  3, -1, -1, -1, -1,  7,  7,  7,  7,  5,  7,  7,\n",
       "          7,  7,  7,  7,  7,  7,  7,  7,  7,  7,  7,  7,  7,  7,  7,  7,\n",
       "          7,  7,  7,  7,  7,  7,  7,  7,  7,  7,  7,  7,  7,  5,  7,  7,\n",
       "          7,  7,  7,  7,  7,  7,  7,  7,  7,  7,  7,  7,  7,  7,  7,  7,\n",
       "          7,  7,  7,  7,  7,  7,  7,  7,  7,  7,  7,  7,  7,  7,  7, -1,\n",
       "         -1, -1, -1, -1, -1, -1, -1, -1, -1, -1, -1, -1, -1, -1, -1, -1,\n",
       "          9,  9,  9,  9,  9,  9,  9,  9,  9,  9, -1, -1, -1, -1, -1, -1,\n",
       "         -1, -1, -1, -1, -1, -1, -1, -1, -1, -1, -1,  7,  7,  7,  7,  7,\n",
       "          7,  7,  7,  7,  7,  7,  7,  7,  7,  5,  7,  7,  7,  7,  7,  7,\n",
       "          7,  7,  7,  7,  7,  7,  7,  7, -1,  3,  3,  3,  3,  3,  3,  3,\n",
       "          3,  3,  3,  3,  3,  3,  3,  3,  3,  3,  9,  3,  3,  3,  3,  3,\n",
       "          3,  3,  3,  8,  8,  8,  8,  8,  8,  8,  8,  8,  8,  8,  8,  8,\n",
       "          3,  3,  3,  3,  3,  3,  3,  3,  3,  3,  3, -1, -1, -1,  3,  3,\n",
       "          3,  3,  3,  3,  3,  3,  3,  3,  3,  3,  3,  3,  3,  3,  3,  3,\n",
       "          3,  3,  3,  3,  3,  3,  3,  3,  7,  7,  7,  7,  7,  7,  7,  7,\n",
       "          7,  7,  7,  7,  7,  7,  7,  7,  7,  7,  7,  7,  7,  7,  7,  7,\n",
       "          7,  7,  7,  7,  7,  7,  7,  7,  7,  7,  7,  7,  7,  7,  7,  7,\n",
       "          7,  7,  7,  7,  7,  7,  7,  7,  7,  7,  7,  7,  7,  7,  7,  7,\n",
       "          7,  7,  7,  7,  7,  4,  4,  4]]),\n",
       " (16, 440),\n",
       " dtype('int64'),\n",
       " {np.int64(-1),\n",
       "  np.int64(0),\n",
       "  np.int64(1),\n",
       "  np.int64(3),\n",
       "  np.int64(4),\n",
       "  np.int64(5),\n",
       "  np.int64(6),\n",
       "  np.int64(7),\n",
       "  np.int64(8),\n",
       "  np.int64(9),\n",
       "  np.int64(10),\n",
       "  np.int64(11),\n",
       "  np.int64(12)})"
      ]
     },
     "execution_count": null,
     "metadata": {},
     "output_type": "execute_result"
    }
   ],
   "source": [
    "#| eval: false\n",
    "label_img[:2], label_img.shape, label_img.dtype, set(label_img.flatten())"
   ]
  },
  {
   "cell_type": "code",
   "execution_count": null,
   "id": "6507d7b5-6621-4ecf-814a-4f9d8a68f4c7",
   "metadata": {},
   "outputs": [
    {
     "data": {
      "text/plain": [
       "(array([[ True, False, False, False, False, False, False, False, False,\n",
       "         False, False, False, False, False, False, False, False, False,\n",
       "         False, False, False, False, False, False, False,  True,  True,\n",
       "          True,  True,  True,  True,  True,  True,  True,  True, False,\n",
       "         False, False, False, False, False, False, False, False, False,\n",
       "         False, False, False, False,  True,  True,  True,  True,  True,\n",
       "          True,  True,  True,  True,  True,  True,  True,  True,  True,\n",
       "          True,  True,  True,  True,  True,  True,  True,  True, False,\n",
       "         False,  True,  True, False, False, False, False, False,  True,\n",
       "          True,  True,  True,  True,  True,  True,  True,  True,  True,\n",
       "          True,  True,  True,  True,  True,  True,  True,  True,  True,\n",
       "          True,  True,  True,  True,  True,  True,  True,  True,  True,\n",
       "          True,  True,  True,  True,  True,  True,  True,  True,  True,\n",
       "          True,  True,  True,  True,  True,  True,  True,  True,  True,\n",
       "          True,  True,  True,  True,  True,  True,  True,  True,  True,\n",
       "          True,  True,  True,  True,  True,  True,  True,  True,  True,\n",
       "          True,  True,  True,  True, False, False, False, False, False,\n",
       "          True,  True,  True,  True,  True,  True,  True,  True,  True,\n",
       "          True,  True,  True,  True,  True,  True,  True,  True,  True,\n",
       "          True,  True,  True,  True,  True,  True,  True,  True,  True,\n",
       "          True,  True,  True,  True,  True,  True,  True,  True,  True,\n",
       "          True,  True,  True,  True,  True,  True,  True,  True,  True,\n",
       "          True,  True,  True,  True,  True,  True,  True,  True,  True,\n",
       "          True,  True,  True,  True,  True,  True,  True,  True,  True,\n",
       "          True,  True,  True,  True,  True,  True,  True, False, False,\n",
       "         False, False, False, False, False, False, False, False, False,\n",
       "         False, False, False, False, False, False, False,  True,  True,\n",
       "          True,  True,  True,  True,  True,  True, False, False, False,\n",
       "         False, False, False, False, False, False, False, False, False,\n",
       "         False, False, False, False, False, False,  True,  True,  True,\n",
       "          True,  True,  True,  True,  True,  True,  True,  True,  True,\n",
       "          True,  True,  True,  True,  True,  True,  True,  True,  True,\n",
       "          True,  True,  True,  True,  True,  True,  True,  True, False,\n",
       "         False,  True,  True,  True,  True,  True,  True,  True,  True,\n",
       "          True,  True, False,  True,  True,  True,  True, False, False,\n",
       "          True,  True,  True, False,  True,  True,  True,  True,  True,\n",
       "          True,  True,  True,  True,  True,  True,  True,  True,  True,\n",
       "          True,  True,  True,  True,  True,  True,  True,  True,  True,\n",
       "          True,  True,  True,  True,  True,  True,  True,  True,  True,\n",
       "          True,  True,  True,  True,  True,  True,  True,  True,  True,\n",
       "          True,  True,  True,  True,  True,  True,  True,  True,  True,\n",
       "          True,  True,  True,  True,  True,  True,  True,  True,  True,\n",
       "          True,  True,  True,  True,  True,  True,  True,  True,  True,\n",
       "          True,  True,  True,  True,  True,  True,  True,  True,  True,\n",
       "          True,  True,  True,  True,  True,  True,  True,  True,  True,\n",
       "          True,  True,  True,  True,  True,  True,  True,  True,  True,\n",
       "          True,  True,  True,  True,  True,  True,  True,  True,  True,\n",
       "          True,  True,  True,  True,  True,  True,  True,  True,  True,\n",
       "          True,  True,  True,  True,  True,  True,  True,  True],\n",
       "        [ True, False, False,  True, False, False, False, False, False,\n",
       "         False, False, False, False, False, False, False, False, False,\n",
       "         False, False, False, False, False, False, False,  True,  True,\n",
       "          True,  True,  True,  True,  True,  True,  True,  True, False,\n",
       "         False, False, False, False, False, False, False, False, False,\n",
       "         False, False, False, False, False, False, False, False, False,\n",
       "         False,  True, False, False,  True,  True,  True,  True,  True,\n",
       "          True,  True,  True,  True,  True,  True,  True,  True,  True,\n",
       "         False, False, False,  True,  True,  True, False, False, False,\n",
       "         False,  True,  True, False, False,  True,  True,  True,  True,\n",
       "          True,  True,  True,  True,  True,  True,  True,  True,  True,\n",
       "          True,  True,  True,  True,  True,  True,  True,  True,  True,\n",
       "          True,  True,  True,  True,  True,  True,  True,  True,  True,\n",
       "          True,  True,  True, False, False, False, False, False, False,\n",
       "          True,  True,  True,  True,  True,  True,  True,  True,  True,\n",
       "          True,  True,  True,  True,  True,  True,  True,  True,  True,\n",
       "          True,  True,  True,  True,  True, False, False, False, False,\n",
       "          True,  True,  True,  True,  True,  True,  True,  True,  True,\n",
       "          True,  True,  True,  True,  True,  True,  True,  True,  True,\n",
       "          True,  True,  True,  True,  True,  True,  True,  True,  True,\n",
       "          True,  True,  True,  True,  True,  True,  True,  True,  True,\n",
       "          True,  True,  True,  True,  True,  True,  True,  True,  True,\n",
       "          True,  True,  True,  True,  True,  True,  True,  True,  True,\n",
       "          True,  True,  True,  True,  True,  True,  True,  True,  True,\n",
       "          True,  True,  True,  True,  True,  True,  True, False, False,\n",
       "         False, False, False, False, False, False, False, False, False,\n",
       "         False, False, False, False, False, False,  True,  True,  True,\n",
       "          True,  True,  True,  True,  True,  True,  True, False, False,\n",
       "         False, False, False, False, False, False, False, False, False,\n",
       "         False, False, False, False, False, False,  True,  True,  True,\n",
       "          True,  True,  True,  True,  True,  True,  True,  True,  True,\n",
       "          True,  True,  True,  True,  True,  True,  True,  True,  True,\n",
       "          True,  True,  True,  True,  True,  True,  True,  True, False,\n",
       "          True,  True,  True,  True,  True,  True,  True,  True,  True,\n",
       "          True,  True,  True,  True,  True,  True,  True,  True,  True,\n",
       "          True,  True,  True,  True,  True,  True,  True,  True,  True,\n",
       "          True,  True,  True,  True,  True,  True,  True,  True,  True,\n",
       "          True,  True,  True,  True,  True,  True,  True,  True,  True,\n",
       "          True,  True,  True,  True,  True, False, False, False,  True,\n",
       "          True,  True,  True,  True,  True,  True,  True,  True,  True,\n",
       "          True,  True,  True,  True,  True,  True,  True,  True,  True,\n",
       "          True,  True,  True,  True,  True,  True,  True,  True,  True,\n",
       "          True,  True,  True,  True,  True,  True,  True,  True,  True,\n",
       "          True,  True,  True,  True,  True,  True,  True,  True,  True,\n",
       "          True,  True,  True,  True,  True,  True,  True,  True,  True,\n",
       "          True,  True,  True,  True,  True,  True,  True,  True,  True,\n",
       "          True,  True,  True,  True,  True,  True,  True,  True,  True,\n",
       "          True,  True,  True,  True,  True,  True,  True,  True,  True,\n",
       "          True,  True,  True,  True,  True,  True,  True,  True]]),\n",
       " (16, 440),\n",
       " dtype('bool'))"
      ]
     },
     "execution_count": null,
     "metadata": {},
     "output_type": "execute_result"
    }
   ],
   "source": [
    "#| eval: false\n",
    "mask_img[:2], mask_img.shape, mask_img.dtype"
   ]
  },
  {
   "cell_type": "code",
   "execution_count": null,
   "id": "5bb8ccf9-7729-4965-8dea-5fec990918f5",
   "metadata": {},
   "outputs": [],
   "source": [
    "#| exports\n",
    "class ProjectionSimVizTransform(nn.Module):\n",
    "    def __init__(self, color_map_rgb_np):\n",
    "        super().__init__()\n",
    "        self.color_map_rgb_np = color_map_rgb_np\n",
    "\n",
    "    def scale(self, img, min_value, max_value):\n",
    "        img = img.clip(min_value, max_value)\n",
    "        return (255.*(img - min_value)/(max_value - min_value)).astype(int)\n",
    "\n",
    "    def forward(self, frame_img, label_img, mask_img):\n",
    "        normalized_frame_img = None\n",
    "        if frame_img is not None:\n",
    "            x = self.scale(frame_img[:,:,0], -100., 100.)\n",
    "            y = self.scale(frame_img[:,:,1], -100., 100.)\n",
    "            z = self.scale(frame_img[:,:,2], -31., 5.)\n",
    "            d = self.scale(frame_img[:,:,3], 0., 100.)\n",
    "            normalized_frame_img = np.stack((x, y, z, d), axis=-1)\n",
    "            normalized_frame_img[mask_img == False] *= 0\n",
    "\n",
    "        colored_label_img = None\n",
    "        if label_img is not None:\n",
    "            colored_label_img = np.zeros(label_img.shape + (3,))\n",
    "            colored_label_img[mask_img] = self.color_map_rgb_np[label_img[mask_img]]\n",
    "            colored_label_img = colored_label_img.astype(int)\n",
    "\n",
    "        return normalized_frame_img, colored_label_img, mask_img"
   ]
  },
  {
   "cell_type": "code",
   "execution_count": null,
   "id": "ecef3d67-cd14-4661-aa25-c87b5e1ae6b1",
   "metadata": {},
   "outputs": [],
   "source": [
    "#| eval: false\n",
    "from matplotlib import pyplot as plt"
   ]
  },
  {
   "cell_type": "code",
   "execution_count": null,
   "id": "af6b999c-ef50-4b96-add8-8c3cfeeb39dc",
   "metadata": {},
   "outputs": [],
   "source": [
    "#| eval: false\n",
    "def plot_projections(img, label):\n",
    "    fig, axs = plt.subplots(5, 1, figsize=(20,10), layout='compressed')\n",
    "    for i, (ax, title) in enumerate(zip(axs, ['x', 'y', 'z', 'd', 'label'])):\n",
    "        if i < 4:\n",
    "            ax.imshow(img[:,:,i])\n",
    "        else:\n",
    "            ax.imshow(label)\n",
    "        ax.set_title(title)\n",
    "        ax.axis('off')"
   ]
  },
  {
   "cell_type": "code",
   "execution_count": null,
   "id": "4223605f-e936-4c26-9e03-ad86266748a6",
   "metadata": {},
   "outputs": [
    {
     "data": {
      "image/png": "[encoded data removed]",
      "text/plain": [
       "<Figure size 2000x1000 with 5 Axes>"
      ]
     },
     "metadata": {},
     "output_type": "display_data"
    }
   ],
   "source": [
    "#| eval: false\n",
    "proj = SphericalProjection(fov_up_deg=15., fov_down_deg=-15., W=440, H=16) \n",
    "tfms = v2.Compose([\n",
    "    ProjectionSimTransform(proj),\n",
    "    ProjectionSimVizTransform(ds.color_map_rgb_np),\n",
    "])\n",
    "ds.set_transform(tfms)\n",
    "img, label, _ = ds[127]\n",
    "\n",
    "plot_projections(img, label)"
   ]
  },
  {
   "cell_type": "code",
   "execution_count": null,
   "id": "2b512750-706e-433e-848c-461bcb4541b6",
   "metadata": {},
   "outputs": [
    {
     "name": "stdout",
     "output_type": "stream",
     "text": [
      "4.44 ms ± 199 μs per loop (mean ± std. dev. of 7 runs, 100 loops each)\n"
     ]
    }
   ],
   "source": [
    "#| eval: false\n",
    "%timeit img, label, _ = ds[0]"
   ]
  },
  {
   "cell_type": "code",
   "execution_count": null,
   "id": "358c1aaa-567a-45a9-aed5-36f18ccec972",
   "metadata": {},
   "outputs": [],
   "source": [
    "#| exports\n",
    "class ProjectionToTensorTransformSim(nn.Module):\n",
    "    \"Pytorch transform that converts the projections from np.array to torch.tensor. It also changes the frame image format from (H, W, C) to (C, H, W).\"\n",
    "    def forward(self, frame_img, label_img, mask_img):\n",
    "        frame_img = np.transpose(frame_img, (2, 0, 1))\n",
    "        frame_img = torch.from_numpy(frame_img).float()\n",
    "        label_img = torch.from_numpy(label_img)\n",
    "        mask_img = torch.from_numpy(mask_img)\n",
    "        return frame_img, label_img, mask_img"
   ]
  },
  {
   "cell_type": "code",
   "execution_count": null,
   "id": "c383533a-e220-437e-a3f9-83236ab5a9b3",
   "metadata": {},
   "outputs": [
    {
     "name": "stdout",
     "output_type": "stream",
     "text": [
      "torch.Size([4, 16, 440]) torch.FloatTensor\n",
      "torch.Size([16, 440]) torch.LongTensor\n",
      "torch.Size([16, 440]) torch.BoolTensor\n"
     ]
    }
   ],
   "source": [
    "#| eval: false\n",
    "proj = SphericalProjection(fov_up_deg=15., fov_down_deg=-15., W=440, H=16)\n",
    "tfms = v2.Compose([\n",
    "    ProjectionSimTransform(proj),\n",
    "    ProjectionToTensorTransformSim(),\n",
    "])\n",
    "ds.set_transform(tfms)\n",
    "img, label, mask = ds[127]\n",
    "print(img.shape, img.type())\n",
    "print(label.shape, label.type())\n",
    "print(mask.shape, mask.type())"
   ]
  },
  {
   "cell_type": "code",
   "execution_count": null,
   "id": "46878fa6-4027-42dd-8dcd-f889e618cb52",
   "metadata": {},
   "outputs": [
    {
     "name": "stdout",
     "output_type": "stream",
     "text": [
      "Shape of img \t [N, C, H, W]: \t torch.Size([10, 4, 16, 440])\n",
      "Shape of label \t [N, H, W]: \t torch.Size([10, 16, 440])\n",
      "Shape of mask \t [N, H, W]: \t torch.Size([10, 16, 440])\n"
     ]
    }
   ],
   "source": [
    "#| eval: false\n",
    "bs = 10\n",
    "dl = DataLoader(ds, bs, num_workers=0)\n",
    "for batch in dl:\n",
    "    img, label, mask = batch\n",
    "    print(f\"Shape of img \\t [N, C, H, W]: \\t {img.shape}\")\n",
    "    print(f\"Shape of label \\t [N, H, W]: \\t {label.shape}\")\n",
    "    print(f\"Shape of mask \\t [N, H, W]: \\t {mask.shape}\")\n",
    "    break"
   ]
  },
  {
   "cell_type": "code",
   "execution_count": null,
   "id": "993b30d7-f136-4d4e-989c-4c8f4f4d0c99",
   "metadata": {},
   "outputs": [
    {
     "name": "stderr",
     "output_type": "stream",
     "text": [
      "/home/joao/.local/lib/python3.10/site-packages/tqdm/auto.py:21: TqdmWarning: IProgress not found. Please update jupyter and ipywidgets. See https://ipywidgets.readthedocs.io/en/stable/user_install.html\n",
      "  from .autonotebook import tqdm as notebook_tqdm\n"
     ]
    }
   ],
   "source": [
    "#| eval: false\n",
    "from tqdm.auto import tqdm"
   ]
  },
  {
   "cell_type": "code",
   "execution_count": null,
   "id": "972d125f-b8b0-4e77-939f-dd743b91225f",
   "metadata": {},
   "outputs": [
    {
     "name": "stderr",
     "output_type": "stream",
     "text": [
      "100%|███████████████████████████████████████████████████████████████████████████████████| 21/21 [00:01<00:00, 10.84it/s]\n"
     ]
    }
   ],
   "source": [
    "#| eval: false\n",
    "for batch in tqdm(dl):\n",
    "    img, label, mask = batch"
   ]
  },
  {
   "cell_type": "code",
   "execution_count": null,
   "id": "f787b1fe-74cd-49df-8b50-2be305ae37a8",
   "metadata": {},
   "outputs": [
    {
     "data": {
      "image/png": "[encoded data removed]",
      "text/plain": [
       "<Figure size 2000x1000 with 5 Axes>"
      ]
     },
     "metadata": {},
     "output_type": "display_data"
    }
   ],
   "source": [
    "#| eval: false\n",
    "ds = UFGSimDataset(data_path)\n",
    "proj = SphericalProjection(fov_up_deg=15., fov_down_deg=-15., W=440, H=16)\n",
    "tfm = ProjectionSimTransform(proj)\n",
    "ds.set_transform(tfm)\n",
    "\n",
    "bs = 1000\n",
    "dl = DataLoader(ds, bs)\n",
    "img, label, mask = next(iter(dl))\n",
    "\n",
    "idx = ((label <= 0).sum(axis=1) > 60).sum(axis=1).argmax()\n",
    "\n",
    "tfms = v2.Compose([\n",
    "    ProjectionSimTransform(proj),\n",
    "    ProjectionSimVizTransform(ds.color_map_rgb_np),\n",
    "])\n",
    "ds.set_transform(tfms)\n",
    "\n",
    "i, l, _ = ds[idx]\n",
    "plot_projections(i, l)"
   ]
  },
  {
   "cell_type": "code",
   "execution_count": null,
   "id": "7ca0414f-1884-4ca9-b575-e7b652927211",
   "metadata": {},
   "outputs": [
    {
     "data": {
      "image/png": "[encoded data removed]",
      "text/plain": [
       "<Figure size 640x480 with 1 Axes>"
      ]
     },
     "metadata": {},
     "output_type": "display_data"
    }
   ],
   "source": [
    "#| eval: false\n",
    "ds.set_transform(tfm)\n",
    "\n",
    "bs = 1000\n",
    "dl = DataLoader(ds, bs, shuffle=True)\n",
    "img, label, mask = next(iter(dl))\n",
    "\n",
    "sparsity = (label <= 0).sum(axis=(1,2))/label[0].numel()\n",
    "plt.hist(sparsity, bins=100);"
   ]
  },
  {
   "cell_type": "code",
   "execution_count": null,
   "id": "1b3e75b6-41a8-4ec8-9057-557a4fa6edca",
   "metadata": {},
   "outputs": [
    {
     "data": {
      "image/png": "[encoded data removed]",
      "text/plain": [
       "<Figure size 640x480 with 1 Axes>"
      ]
     },
     "metadata": {},
     "output_type": "display_data"
    }
   ],
   "source": [
    "#| eval: false\n",
    "l = label.flatten()\n",
    "values, counts = np.unique(l, return_counts=True)\n",
    "plt.bar(values, np.log10(counts));"
   ]
  },
  {
   "cell_type": "code",
   "execution_count": null,
   "id": "a8ed52bd-aac6-4b45-b735-0096f0e45560",
   "metadata": {},
   "outputs": [],
   "source": [
    "#| exports\n",
    "class SemanticSegmentationSimLDM(LightningDataModule):\n",
    "    \"Lightning DataModule to facilitate reproducibility of experiments.\"\n",
    "    def __init__(self, \n",
    "                 proj_style='spherical',\n",
    "                 proj_kargs={'W': 440, 'H': 16},\n",
    "                 train_batch_size=8, \n",
    "                 eval_batch_size=16,\n",
    "                 num_workers=8\n",
    "                ):\n",
    "        super().__init__()\n",
    "\n",
    "        proj_class = {\n",
    "        'unfold': UnfoldingProjection,\n",
    "        'spherical': SphericalProjection\n",
    "        }\n",
    "        assert proj_style in proj_class.keys()\n",
    "        self.proj = proj_class[proj_style](**proj_kargs)\n",
    "        self.remapping_rules = remapping_rules\n",
    "        self.train_batch_size = train_batch_size\n",
    "        self.eval_batch_size = eval_batch_size\n",
    "        self.num_workers = num_workers\n",
    "    \n",
    "    def setup(self, stage: str):\n",
    "        data_path = '/workspace/data'\n",
    "        tfms = v2.Compose([\n",
    "            ProjectionSimTransform(self.proj),\n",
    "            ProjectionToTensorTransformSim(),\n",
    "        ])\n",
    "        split = stage\n",
    "        if stage == 'fit':\n",
    "            split = 'train'\n",
    "        ds = UFGSimDataset(data_path, split, transform=tfms)\n",
    "        if not hasattr(self, 'viz_tfm'):\n",
    "            self.viz_tfm = ProjectionSimVizTransform(ds.color_map_rgb_np)\n",
    "        \n",
    "        if stage == \"fit\":\n",
    "            self.ds_train = ds\n",
    "            self.ds_val = UFGSimDataset(data_path, 'valid', tfms)\n",
    "        \n",
    "        if stage == \"test\":\n",
    "            self.ds_test = ds\n",
    "        if stage == \"predict\":\n",
    "            self.ds_predict = ds\n",
    "            \n",
    "\n",
    "    def train_dataloader(self):\n",
    "        return DataLoader(self.ds_train, batch_size=self.train_batch_size, num_workers=self.num_workers, shuffle=True, drop_last=True)\n",
    "\n",
    "    def val_dataloader(self):\n",
    "        return DataLoader(self.ds_val, batch_size=self.eval_batch_size, num_workers=self.num_workers)\n",
    "\n",
    "    def test_dataloader(self):\n",
    "        return DataLoader(self.ds_test, batch_size=self.eval_batch_size, num_workers=self.num_workers)\n",
    "\n",
    "    def predict_dataloader(self):\n",
    "        return DataLoader(self.ds_predict, batch_size=self.eval_batch_size, num_workers=self.num_workers)"
   ]
  },
  {
   "cell_type": "code",
   "execution_count": null,
   "id": "f1923fae-717a-4bf4-af58-5ee93300fcd5",
   "metadata": {},
   "outputs": [],
   "source": [
    "#| hide\n",
    "import nbdev; nbdev.nbdev_export()"
   ]
  }
 ],
 "metadata": {
  "kernelspec": {
   "display_name": "python3",
   "language": "python",
   "name": "python3"
  }
 },
 "nbformat": 4,
 "nbformat_minor": 5
}
