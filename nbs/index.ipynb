{
 "cells": [
  {
   "cell_type": "markdown",
   "metadata": {},
   "source": [
    "# colorcloud\n",
    "\n",
    "> Research project to investigate the task of lidar point cloud semantic segmentation."
   ]
  },
  {
   "cell_type": "code",
   "execution_count": null,
   "metadata": {},
   "outputs": [],
   "source": [
    "#| hide\n",
    "\n",
    "### This file will become the README and the index of the project's documentation."
   ]
  },
  {
   "cell_type": "markdown",
   "metadata": {},
   "source": [
    "**(UNDER CONSTRUCTION...)** :construction_worker:"
   ]
  },
  {
   "cell_type": "markdown",
   "metadata": {},
   "source": [
    "## Install"
   ]
  },
  {
   "cell_type": "markdown",
   "metadata": {},
   "source": [
    "Clone the repo and run:\n",
    "\n",
    "```sh\n",
    "pip install -e '.[dev]'\n",
    "```"
   ]
  },
  {
   "cell_type": "markdown",
   "metadata": {},
   "source": [
    "## How to collaborate"
   ]
  },
  {
   "cell_type": "markdown",
   "metadata": {},
   "source": [
    "1. Clone the repo and build the development image:\n",
    "\n",
    "```sh\n",
    "git clone https://github.com/AIR-UFG/colorcloud.git\n",
    "cd colorcloud\n",
    "docker build -t colorcloud .\n",
    "```\n",
    "\n",
    "2. After the image is built, run a container:\n",
    "\n",
    "```sh\n",
    "docker run --gpus all --ipc=host --network=host --mount type=bind,source=~/.gitconfig,target=/etc/gitconfig --name <name_your_container> colorcloud:latest\n",
    "```"
   ]
  },
  {
   "cell_type": "code",
   "execution_count": null,
   "metadata": {},
   "outputs": [],
   "source": []
  }
 ],
 "metadata": {
  "kernelspec": {
   "display_name": "python3",
   "language": "python",
   "name": "python3"
  }
 },
 "nbformat": 4,
 "nbformat_minor": 4
}
