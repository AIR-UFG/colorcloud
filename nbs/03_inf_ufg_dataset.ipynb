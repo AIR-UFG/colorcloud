{
 "cells": [
  {
   "cell_type": "markdown",
   "id": "c61a8a27-4b20-4129-b826-690f44bd23f2",
   "metadata": {},
   "source": [
    "# inf_ufg_dataset\n",
    "\n",
    "> Module for handling the loading of bags collected with the INF-UFG car that were previously converted to the Semantic KITTI format."
   ]
  },
  {
   "cell_type": "code",
   "execution_count": 38,
   "id": "eabc6d64-8b9f-4156-b73f-62f49fb84a87",
   "metadata": {},
   "outputs": [],
   "source": [
    "#| default_exp inf_ufg_dataset"
   ]
  },
  {
   "cell_type": "code",
   "execution_count": 39,
   "id": "d1412ee3-41ee-4c68-b5a1-1d8016b55267",
   "metadata": {},
   "outputs": [],
   "source": [
    "#| export\n",
    "from torch.utils.data import Dataset, DataLoader\n",
    "from pathlib import Path\n",
    "import numpy as np"
   ]
  },
  {
   "cell_type": "code",
   "execution_count": 52,
   "id": "f466e8ac-9c19-4ca7-9f28-86a3de32d9f3",
   "metadata": {},
   "outputs": [],
   "source": [
    "#| export\n",
    "class InfUFGDataset(Dataset):\n",
    "    \"Load the inf_ufg data in a pytorch Dataset object.\"\n",
    "    def __init__(self, data_path, is_train=True, transform=None):\n",
    "        data_path = Path(data_path)\n",
    "        self.velodyne_path = data_path/'sequences'\n",
    "\n",
    "        # how much sequences?\n",
    "        velodyne_fns = []\n",
    "        if is_train: \n",
    "            query = '*0[0-9]/velodyne/*.bin'\n",
    "            velodyne_fns += list(self.velodyne_path.rglob(query))\n",
    "        # validation?\n",
    "        else:\n",
    "            pass\n",
    "    \n",
    "        self.frame_ids = [fn.stem for fn in velodyne_fns]\n",
    "        self.frame_sequences = [fn.parts[-3] for fn in velodyne_fns]    \n",
    "\n",
    "        self.transform = transform\n",
    "        self.is_train = is_train\n",
    "\n",
    "    def set_transform(self, transform):\n",
    "        self.transform = transform\n",
    "\n",
    "    def __len__(self):\n",
    "        return len(self.frame_ids)\n",
    "\n",
    "    def __getitem__(self, idx):\n",
    "        frame_id = self.frame_ids[idx]\n",
    "        frame_sequence = self.frame_sequences[idx]\n",
    "        \n",
    "        frame_path = self.velodyne_path/frame_sequence/'velodyne'/(frame_id + '.bin')\n",
    "        with open(frame_path, 'rb') as f:\n",
    "            frame = np.fromfile(f, dtype=np.float32).reshape(-1, 4)\n",
    "\n",
    "        label = None\n",
    "        \n",
    "        mask = None\n",
    "        if self.transform:\n",
    "            frame, label, mask = self.transform(frame, label)\n",
    "        \n",
    "        return frame, label, mask"
   ]
  },
  {
   "cell_type": "markdown",
   "id": "b68bd73c-2631-4b4e-a499-cfbd7ce01cd4",
   "metadata": {},
   "source": [
    "To use it, first download and extract the *KITTI_18-05-24* from this [link](https://drive.google.com/file/d/1hbJS4wqi1fBeg3IrL3-RilOPfGj0RrRk/view?usp=sharing) (remember to use a UFG email) into a folder called *data*, at the root of your workspace. Lastly, use the following code to get the training data in its original format:"
   ]
  },
  {
   "cell_type": "code",
   "execution_count": 41,
   "id": "a7791b73-27ff-4eb2-917e-00a67369a36c",
   "metadata": {},
   "outputs": [
    {
     "data": {
      "text/plain": [
       "9382"
      ]
     },
     "execution_count": 41,
     "metadata": {},
     "output_type": "execute_result"
    }
   ],
   "source": [
    "#| eval: false\n",
    "data_path = '/workspace/data'\n",
    "ds = InfUFGDataset(data_path)\n",
    "frame, label, mask = ds[128]\n",
    "len(ds)"
   ]
  },
  {
   "cell_type": "markdown",
   "id": "8203a171-e108-41ad-b125-4647c2d0809f",
   "metadata": {},
   "source": [
    "Without any transform set, the data is simply read into numpy arrays and mask is set to **None**."
   ]
  },
  {
   "cell_type": "code",
   "execution_count": 42,
   "id": "ea8ea0ba-e404-4cfc-b8c0-30821900fdad",
   "metadata": {},
   "outputs": [
    {
     "data": {
      "text/plain": [
       "(array([[ 3.034256 ,  5.3260975, -1.6424657,  0.06     ],\n",
       "        [ 3.489289 ,  6.119853 , -1.6263963,  0.05     ],\n",
       "        [ 4.1641755,  7.3005815, -1.6337067,  0.03     ],\n",
       "        ...,\n",
       "        [ 7.1781106, 11.202549 ,  2.5862253,  0.1      ],\n",
       "        [ 6.733394 , 10.500441 ,  2.8798237,  0.07     ],\n",
       "        [ 7.006298 , 10.917624 ,  3.4759398,  0.04     ]], dtype=float32),\n",
       " (29184, 4))"
      ]
     },
     "execution_count": 42,
     "metadata": {},
     "output_type": "execute_result"
    }
   ],
   "source": [
    "#| eval: false\n",
    "frame, frame.shape"
   ]
  },
  {
   "cell_type": "code",
   "execution_count": 43,
   "id": "b83c7591-932e-48fc-b7f5-24181ab34377",
   "metadata": {},
   "outputs": [
    {
     "data": {
      "text/plain": [
       "True"
      ]
     },
     "execution_count": 43,
     "metadata": {},
     "output_type": "execute_result"
    }
   ],
   "source": [
    "#| eval: false\n",
    "mask == None"
   ]
  },
  {
   "cell_type": "code",
   "execution_count": 54,
   "id": "632843b0-912e-4506-859f-f3c50401a59c",
   "metadata": {},
   "outputs": [],
   "source": [
    "#| hide\n",
    "import nbdev; nbdev.nbdev_export()"
   ]
  }
 ],
 "metadata": {
  "kernelspec": {
   "display_name": "Python 3 (ipykernel)",
   "language": "python",
   "name": "python3"
  },
  "language_info": {
   "codemirror_mode": {
    "name": "ipython",
    "version": 3
   },
   "file_extension": ".py",
   "mimetype": "text/x-python",
   "name": "python",
   "nbconvert_exporter": "python",
   "pygments_lexer": "ipython3",
   "version": "3.10.14"
  }
 },
 "nbformat": 4,
 "nbformat_minor": 5
}
