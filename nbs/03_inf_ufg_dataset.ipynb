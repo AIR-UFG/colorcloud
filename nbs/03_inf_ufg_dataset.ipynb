{
 "cells": [
  {
   "cell_type": "markdown",
   "id": "c61a8a27-4b20-4129-b826-690f44bd23f2",
   "metadata": {},
   "source": [
    "# inf_ufg_dataset\n",
    "\n",
    "> Module for handling the loading of bags collected with the INF-UFG car that were previously converted to the Semantic KITTI format."
   ]
  },
  {
   "cell_type": "code",
   "execution_count": null,
   "id": "eabc6d64-8b9f-4156-b73f-62f49fb84a87",
   "metadata": {},
   "outputs": [],
   "source": [
    "#| default_exp inf_ufg_dataset"
   ]
  },
  {
   "cell_type": "code",
   "execution_count": null,
   "id": "d1412ee3-41ee-4c68-b5a1-1d8016b55267",
   "metadata": {},
   "outputs": [],
   "source": [
    "#| export\n",
    "from torch.utils.data import Dataset, DataLoader\n",
    "from pathlib import Path\n",
    "import numpy as np"
   ]
  },
  {
   "cell_type": "code",
   "execution_count": null,
   "id": "f466e8ac-9c19-4ca7-9f28-86a3de32d9f3",
   "metadata": {},
   "outputs": [],
   "source": [
    "#| export\n",
    "class InfUFGDataset(Dataset):\n",
    "    \"Load the inf_ufg data in a pytorch Dataset object.\"\n",
    "    def __init__(self, data_path, is_train=True, transform=None):\n",
    "        data_path = Path(data_path)\n",
    "        self.velodyne_path = data_path/'sequences'\n",
    "\n",
    "        # how much sequences?\n",
    "        velodyne_fns = []\n",
    "        if is_train: \n",
    "            query = '*0[0-9]/velodyne/*.bin'\n",
    "            velodyne_fns += list(self.velodyne_path.rglob(query))\n",
    "        # validation?\n",
    "        else:\n",
    "            pass\n",
    "    \n",
    "        self.frame_ids = [fn.stem for fn in velodyne_fns]\n",
    "        self.frame_sequences = [fn.parts[-3] for fn in velodyne_fns]    \n",
    "\n",
    "        self.transform = transform\n",
    "        self.is_train = is_train\n",
    "\n",
    "    def set_transform(self, transform):\n",
    "        self.transform = transform\n",
    "\n",
    "    def __len__(self):\n",
    "        return len(self.frame_ids)\n",
    "\n",
    "    def __getitem__(self, idx):\n",
    "        frame_id = self.frame_ids[idx]\n",
    "        frame_sequence = self.frame_sequences[idx]\n",
    "        \n",
    "        frame_path = self.velodyne_path/frame_sequence/'velodyne'/(frame_id + '.bin')\n",
    "        with open(frame_path, 'rb') as f:\n",
    "            frame = np.fromfile(f, dtype=np.float32).reshape(-1, 4)\n",
    "\n",
    "        # Removing NAN \n",
    "        frame = frame[~np.isnan(frame).any(axis=1)]\n",
    "\n",
    "        # Normalizing the reflectance values (which are between 0 and 255).\n",
    "        frame[:,3] = frame[:,3]/255\n",
    "        \n",
    "        label = None\n",
    "        if self.is_train:\n",
    "            # The code to load the labels in the future will be here.\n",
    "            pass\n",
    "        \n",
    "        mask = None\n",
    "        if self.transform:\n",
    "            frame, label, mask = self.transform(frame, label)\n",
    "        \n",
    "        return frame, label, mask"
   ]
  },
  {
   "cell_type": "markdown",
   "id": "b68bd73c-2631-4b4e-a499-cfbd7ce01cd4",
   "metadata": {},
   "source": [
    "To use it, first download and extract the *KITTI_18-05-24* from this [link](https://drive.google.com/file/d/1hbJS4wqi1fBeg3IrL3-RilOPfGj0RrRk/view?usp=sharing) (remember to use a UFG email) into a folder called *data*, at the root of your workspace. Lastly, use the following code to get the training data in its original format:"
   ]
  },
  {
   "cell_type": "code",
   "execution_count": null,
   "id": "a7791b73-27ff-4eb2-917e-00a67369a36c",
   "metadata": {},
   "outputs": [
    {
     "data": {
      "text/plain": [
       "9382"
      ]
     },
     "execution_count": null,
     "metadata": {},
     "output_type": "execute_result"
    }
   ],
   "source": [
    "#| eval: false\n",
    "data_path = '/workspace/data'\n",
    "ds = InfUFGDataset(data_path)\n",
    "frame, label, mask = ds[128]\n",
    "len(ds)"
   ]
  },
  {
   "cell_type": "markdown",
   "id": "8203a171-e108-41ad-b125-4647c2d0809f",
   "metadata": {},
   "source": [
    "Without any transform set, the data is simply read into numpy arrays and mask is set to **None**."
   ]
  },
  {
   "cell_type": "code",
   "execution_count": null,
   "id": "ea8ea0ba-e404-4cfc-b8c0-30821900fdad",
   "metadata": {},
   "outputs": [
    {
     "data": {
      "text/plain": [
       "(array([[ 3.034256  ,  5.3260975 , -1.6424657 ,  0.02352941],\n",
       "        [ 3.489289  ,  6.119853  , -1.6263963 ,  0.01960784],\n",
       "        [ 4.1641755 ,  7.3005815 , -1.6337067 ,  0.01176471],\n",
       "        ...,\n",
       "        [ 7.1781106 , 11.202549  ,  2.5862253 ,  0.03921569],\n",
       "        [ 6.733394  , 10.500441  ,  2.8798237 ,  0.02745098],\n",
       "        [ 7.006298  , 10.917624  ,  3.4759398 ,  0.01568628]],\n",
       "       dtype=float32),\n",
       " (17066, 4))"
      ]
     },
     "execution_count": null,
     "metadata": {},
     "output_type": "execute_result"
    }
   ],
   "source": [
    "#| eval: false\n",
    "frame, frame.shape"
   ]
  },
  {
   "cell_type": "code",
   "execution_count": null,
   "id": "b83c7591-932e-48fc-b7f5-24181ab34377",
   "metadata": {},
   "outputs": [
    {
     "data": {
      "text/plain": [
       "True"
      ]
     },
     "execution_count": null,
     "metadata": {},
     "output_type": "execute_result"
    }
   ],
   "source": [
    "#| eval: false\n",
    "mask == None"
   ]
  },
  {
   "cell_type": "markdown",
   "id": "69bbfa16-b74f-4d28-9739-10b7924da771",
   "metadata": {},
   "source": [
    "# Lidar Projections"
   ]
  },
  {
   "cell_type": "markdown",
   "id": "506bab15-c1f4-484c-97c6-fe35b666fabe",
   "metadata": {},
   "source": [
    "Below, we can see the projection algorithms in action. For more detailed documentation, refer to [behley2019iccv Lidar Range Image Projections](https://air-ufg.github.io/colorcloud/behley2019iccv.html#lidar-range-image-projections)"
   ]
  },
  {
   "cell_type": "code",
   "execution_count": null,
   "id": "5e3e15f9-ede3-445c-9fd2-33c3de1f0e5a",
   "metadata": {},
   "outputs": [],
   "source": [
    "#| eval: false\n",
    "from colorcloud.behley2019iccv import SphericalProjection, ProjectionTransform, UnfoldingProjection\n",
    "from matplotlib import pyplot as plt\n",
    "from torchvision.transforms import v2"
   ]
  },
  {
   "cell_type": "markdown",
   "id": "11124bb4-5e37-4e5c-82f1-dde5975cc000",
   "metadata": {},
   "source": [
    "Here is an example on how to use and compose the [behley2019iccv transforms](https://air-ufg.github.io/colorcloud/behley2019iccv.html#projectiontransform) with the torchvision.transforms.v2 module, and then visualize the resulting images with the matplolib.pyplot module:"
   ]
  },
  {
   "cell_type": "code",
   "execution_count": null,
   "id": "72ffa997-1232-42c5-b161-bfbffc84d293",
   "metadata": {},
   "outputs": [],
   "source": [
    "#| eval: false\n",
    "def plot_projections(img):\n",
    "    fig, axs = plt.subplots(5, 1, figsize=(20,10), layout='compressed')\n",
    "    for i, (ax, title) in enumerate(zip(axs, ['x', 'y', 'z', 'r', 'd'])):\n",
    "        if i < 5:\n",
    "            ax.imshow(img[:,:,i])\n",
    "        ax.set_title(title)\n",
    "        ax.axis('off')"
   ]
  },
  {
   "cell_type": "markdown",
   "id": "58177f62-2c82-47fb-b572-afb15060ff78",
   "metadata": {},
   "source": [
    "The dataset was collected with a Velodyne LiDAR PUCK-16, and the information about it can be found on this [sheet](https://www.amtechs.co.jp/product/VLP-16-Puck.pdf)."
   ]
  },
  {
   "cell_type": "code",
   "execution_count": null,
   "id": "c6f2c4e6-4488-4b92-9f90-9fce2753ed29",
   "metadata": {},
   "outputs": [
    {
     "data": {
      "image/png": "[encoded data removed]",
      "text/plain": [
       "<Figure size 2000x1000 with 5 Axes>"
      ]
     },
     "metadata": {},
     "output_type": "display_data"
    }
   ],
   "source": [
    "#| eval: false\n",
    "proj = SphericalProjection(fov_up_deg=16., fov_down_deg=-16., W=256, H=16)\n",
    "tfms = v2.Compose([\n",
    "    ProjectionTransform(proj),\n",
    "])\n",
    "ds.set_transform(tfms)\n",
    "img, _, _ = ds[128]\n",
    "\n",
    "plot_projections(img)"
   ]
  },
  {
   "cell_type": "code",
   "execution_count": null,
   "id": "cf58e586-8320-493c-bf11-0bf0436b6b7e",
   "metadata": {},
   "outputs": [
    {
     "data": {
      "image/png": "[encoded data removed]",
      "text/plain": [
       "<Figure size 2000x1000 with 5 Axes>"
      ]
     },
     "metadata": {},
     "output_type": "display_data"
    }
   ],
   "source": [
    "#| eval: false\n",
    "proj = UnfoldingProjection(W=256, H=16)\n",
    "tfms = v2.Compose([\n",
    "    ProjectionTransform(proj),\n",
    "])\n",
    "ds.set_transform(tfms)\n",
    "img, _, _ = ds[128]\n",
    "\n",
    "plot_projections(img)"
   ]
  },
  {
   "cell_type": "markdown",
   "id": "6abb96cb-95fc-40b9-8f6d-d3f97aefddb7",
   "metadata": {},
   "source": [
    "In the next cell, we can see how long it takes on average to sample an item from this dataset class."
   ]
  },
  {
   "cell_type": "code",
   "execution_count": null,
   "id": "8ff8a712-d752-4d3d-a08a-7e8da9756501",
   "metadata": {},
   "outputs": [
    {
     "name": "stdout",
     "output_type": "stream",
     "text": [
      "3.27 ms ± 89.5 µs per loop (mean ± std. dev. of 7 runs, 100 loops each)\n"
     ]
    }
   ],
   "source": [
    "#| eval: false\n",
    "%timeit img, _, _ = ds[0]"
   ]
  },
  {
   "cell_type": "code",
   "execution_count": null,
   "id": "11b3ec29-d841-45ad-8ae7-2d377f4d348a",
   "metadata": {},
   "outputs": [],
   "source": [
    "#| eval: false\n",
    "from colorcloud.behley2019iccv import ProjectionToTensorTransform"
   ]
  },
  {
   "cell_type": "markdown",
   "id": "c153241d-6bc1-449a-a25b-ec7a11035fdb",
   "metadata": {},
   "source": [
    "Just for proof of concept, since the original ProjectionToTensorTransform module isn't handling a null label."
   ]
  },
  {
   "cell_type": "code",
   "execution_count": null,
   "id": "4d11b855-29b2-41bb-8059-503166cee4aa",
   "metadata": {},
   "outputs": [],
   "source": [
    "#| eval: false\n",
    "from torch import nn\n",
    "import torch\n",
    "\n",
    "class ProjectionToTensorFixedTransform(nn.Module):\n",
    "    def forward(self, frame_img, label_img, mask_img):\n",
    "        frame_img = np.transpose(frame_img, (2, 0, 1))\n",
    "        frame_img = torch.from_numpy(frame_img).float()\n",
    "        mask_img = torch.from_numpy(mask_img)\n",
    "        if label_img:\n",
    "            label_img = torch.from_numpy(label_img)\n",
    "        else:\n",
    "            label_img = torch.zeros_like(mask_img)\n",
    "        return frame_img, label_img, mask_img"
   ]
  },
  {
   "cell_type": "markdown",
   "id": "aece58ae-615a-42db-8937-71e3efc0a5d8",
   "metadata": {},
   "source": [
    "Here is an example on how to use it with the spherical projection:"
   ]
  },
  {
   "cell_type": "code",
   "execution_count": null,
   "id": "d135c6ae-8fc9-4a64-a766-3c232e98b74b",
   "metadata": {},
   "outputs": [
    {
     "name": "stdout",
     "output_type": "stream",
     "text": [
      "torch.Size([5, 16, 1024]) torch.FloatTensor\n",
      "torch.Size([16, 1024]) torch.BoolTensor\n",
      "torch.Size([16, 1024]) torch.BoolTensor\n"
     ]
    }
   ],
   "source": [
    "#| eval: false\n",
    "proj = SphericalProjection(fov_up_deg=16., fov_down_deg=-16., W=1024, H=16)\n",
    "tfms = v2.Compose([\n",
    "    ProjectionTransform(proj),\n",
    "    ProjectionToTensorFixedTransform(),\n",
    "])\n",
    "ds.set_transform(tfms)\n",
    "img, label, mask = ds[0]\n",
    "print(img.shape, img.type())\n",
    "print(label.shape, label.type())\n",
    "print(mask.shape, mask.type())"
   ]
  },
  {
   "cell_type": "code",
   "execution_count": null,
   "id": "876a6093-9f4f-41d2-89f7-e218db9a6662",
   "metadata": {},
   "outputs": [],
   "source": [
    "#| eval: false\n",
    "from torch.utils.data import DataLoader"
   ]
  },
  {
   "cell_type": "code",
   "execution_count": null,
   "id": "b187064e-7c3a-4781-bc1e-b88ce7e1fb69",
   "metadata": {},
   "outputs": [
    {
     "name": "stdout",
     "output_type": "stream",
     "text": [
      "Shape of img \t [N, C, H, W]: \t torch.Size([10, 5, 16, 1024])\n",
      "Shape of label \t [N, H, W]: \t torch.Size([10, 16, 1024])\n",
      "Shape of mask \t [N, H, W]: \t torch.Size([10, 16, 1024])\n"
     ]
    }
   ],
   "source": [
    "#| eval: false\n",
    "bs = 10\n",
    "dl = DataLoader(ds, bs)\n",
    "for batch in dl:\n",
    "    img, label, mask = batch\n",
    "    print(f\"Shape of img \\t [N, C, H, W]: \\t {img.shape}\")\n",
    "    print(f\"Shape of label \\t [N, H, W]: \\t {label.shape}\")\n",
    "    print(f\"Shape of mask \\t [N, H, W]: \\t {mask.shape}\")\n",
    "    break"
   ]
  },
  {
   "cell_type": "code",
   "execution_count": null,
   "id": "632843b0-912e-4506-859f-f3c50401a59c",
   "metadata": {},
   "outputs": [],
   "source": [
    "#| hide\n",
    "import nbdev; nbdev.nbdev_export()"
   ]
  }
 ],
 "metadata": {
  "kernelspec": {
   "display_name": "python3",
   "language": "python",
   "name": "python3"
  }
 },
 "nbformat": 4,
 "nbformat_minor": 5
}
