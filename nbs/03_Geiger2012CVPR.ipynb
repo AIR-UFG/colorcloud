{
 "cells": [
  {
   "cell_type": "markdown",
   "id": "4c78eee0-937a-4c40-8fcb-d9e31bcb5feb",
   "metadata": {},
   "source": [
    "# Geiger2012CVPR\n",
    "\n",
    "> Module to handle loading, preprocessing and postprocessing of the data from [Are we ready for Autonomous Driving? \n",
    "The KITTI Vision Benchmark Suite](https://www.cvlibs.net/publications/Geiger2012CVPR.pdf).\n",
    "\n",
    "> Based on the [Bird's Eye View Evaluation 2017](https://www.cvlibs.net/datasets/kitti/eval_object.php?obj_benchmark=bev).\n",
    "\n",
    "> The main purpose of this work is to serve as the information used for training the 2nd stage of the [MVLidarNet: Real-Time Multi-Class Scene Understanding for Autonomous Driving Using Multiple Views](https://arxiv.org/pdf/2006.05518) model."
   ]
  },
  {
   "cell_type": "code",
   "execution_count": 1,
   "id": "dfebb434-0ac0-463f-995d-af0c66cfb81c",
   "metadata": {},
   "outputs": [],
   "source": [
    "#| default_exp Geiger2012CVPR "
   ]
  },
  {
   "cell_type": "code",
   "execution_count": 2,
   "id": "e29c3d3e-2e8a-4843-be98-e9c61e22c499",
   "metadata": {},
   "outputs": [],
   "source": [
    "#| export\n",
    "import torch\n",
    "from PIL import Image\n",
    "from torch.utils.data import Dataset, DataLoader, random_split\n",
    "from torch import nn\n",
    "import yaml\n",
    "from pathlib import Path\n",
    "import numpy as np\n",
    "from lightning import LightningDataModule\n",
    "from torchvision.transforms import v2"
   ]
  },
  {
   "cell_type": "code",
   "execution_count": 3,
   "id": "1391fe94-16ae-481c-9b43-234b5077e397",
   "metadata": {},
   "outputs": [],
   "source": [
    "#| export\n",
    "class ObjectKITTIDataset(Dataset):\n",
    "    \"load the objectKITTI data in a pytorch Dataset object.\"\n",
    "    def __init__(self, data_path, is_train=True, transform=None):\n",
    "        data_path = Path(data_path)\n",
    "        self.object_velodyne_path = data_path/'data_object_velodyne'\n",
    "        self.object_labels_path = data_path/'data_object_label_2'\n",
    "\n",
    "        object_velodyne_fns = []\n",
    "        if is_train:\n",
    "            query = '*training/velodyne/*.bin'\n",
    "            object_velodyne_fns += list(self.object_velodyne_path.rglob(query))\n",
    "            self.instance = 'training'\n",
    "        else:\n",
    "            query = '*testing/velodyne/*.bin'\n",
    "            object_velodyne_fns += list(self.object_velodyne_path.rglob(query))\n",
    "            self.instance = 'testing'\n",
    "            \n",
    "        self.object_frame_ids = [fn.stem for fn in object_velodyne_fns]\n",
    "\n",
    "    def set_transform(self, transform):\n",
    "        self.transform = transform\n",
    "        \n",
    "    def __len__(self):\n",
    "        return len(self.object_frame_ids)\n",
    "\n",
    "    def __getitem__(self, idx):\n",
    "        object_frame_id = self.object_frame_ids[idx]\n",
    "        object_frame_instance = self.instance\n",
    "        \n",
    "        object_frame_path = self.object_velodyne_path/object_frame_instance/'velodyne'/(object_frame_id + '.bin')\n",
    "        with open(object_frame_path, 'rb') as f:\n",
    "            object_frame = np.fromfile(f, dtype=np.float32).reshape(-1, 4)\n",
    "\n",
    "        #TODO: label part\n",
    "\n",
    "        return object_frame\n",
    "        "
   ]
  },
  {
   "cell_type": "markdown",
   "id": "c0ede4d2-dd36-4ebd-9282-26693bfd2a4c",
   "metadata": {},
   "source": [
    "To use it, first download and extract the *data_object_velodyne* and *dataobject_label_2* folders from the provided links on their [Bird's Eye View Evaluation 2017](https://www.cvlibs.net/datasets/kitti/eval_object.php?obj_benchmark=bev) website (velodyne point clouds 29 GB and training labels of object data set 5 MB) into a folder at the root of your workspace. Then, use the following code to get the training data in its original format:"
   ]
  },
  {
   "cell_type": "code",
   "execution_count": 4,
   "id": "11acb48a-22ac-4c3f-8cb2-a7cf63a10b2c",
   "metadata": {},
   "outputs": [],
   "source": [
    "#| eval: false\n",
    "data_path = 'A:/SemanticKITTI'\n",
    "ds = ObjectKITTIDataset(data_path)\n",
    "frame = ds[143]"
   ]
  },
  {
   "cell_type": "markdown",
   "id": "17d39809-a189-4d28-9693-d40183abc817",
   "metadata": {},
   "source": [
    "Without any transformatio set, the data is simply read into numpy arrays."
   ]
  },
  {
   "cell_type": "code",
   "execution_count": 5,
   "id": "10e53d17-1a66-466e-ac7b-2ddf9af6df6e",
   "metadata": {},
   "outputs": [
    {
     "data": {
      "text/plain": [
       "(array([[ 26.459,   6.132,   1.128,   0.99 ],\n",
       "        [ 26.44 ,   6.215,   1.128,   0.99 ],\n",
       "        [ 26.415,   6.297,   1.127,   0.99 ],\n",
       "        ...,\n",
       "        [ 26.161,  -5.578, -12.357,   0.   ],\n",
       "        [ 26.134,  -5.486, -12.335,   0.   ],\n",
       "        [ 26.137,  -5.401, -12.329,   0.   ]], dtype=float32),\n",
       " (120972, 4))"
      ]
     },
     "execution_count": 5,
     "metadata": {},
     "output_type": "execute_result"
    }
   ],
   "source": [
    "#| eval: false\n",
    "frame, frame.shape"
   ]
  },
  {
   "cell_type": "markdown",
   "id": "6f116736-54aa-4802-9c28-e7a7211fbd2a",
   "metadata": {},
   "source": [
    "## Lidar Bird's Eye View Projections\n",
    "\n",
    "Alongside range image projections, Bird's Eye View (BEV) projections are also one of the most efficient and performant ways to process Lidar point clouds. \n",
    "\n",
    "The idea behind this method is to simulate a top-down perspective of the 3D Lidar point cloud in order to provide a comprehensive overview of an area, making it easier to understand spatial relationships and layouts in a 2D format. In this work, the BEV algorithm and explanations are inspired by [Ronny Restrepo's](http://ronny.rest/tutorials/module/pointclouds_01/point_cloud_birdseye/) BEV tutorial."
   ]
  },
  {
   "cell_type": "code",
   "execution_count": 6,
   "id": "25d2c3fa-32b6-48ae-8d36-18ca0c8cc721",
   "metadata": {},
   "outputs": [],
   "source": [
    "#| export\n",
    "class BEVProjection:\n",
    "    def __init__(self, res=0.2, side_range=(-102.3, 102.3), fwd_range=(-102.3, 102.3), height_range=(-2, 2) ):\n",
    "        self.res = res\n",
    "        self.side_range = side_range\n",
    "        self.fwd_range = fwd_range\n",
    "        self.height_range = height_range\n",
    "\n",
    "    def scale_to_255(self, pixel_values, min, max, dtype=np.uint8):\n",
    "        return (((pixel_values - min) / float(max - min)) * 255).astype(dtype)\n",
    "\n",
    "    def get_BEV_projection(self, point_cloud, label=False):\n",
    "        x_coord = point_cloud[:, 0]\n",
    "        y_coord = point_cloud[:, 1]\n",
    "        z_coord = point_cloud[:, 2]\n",
    "        intensity = point_cloud[:, 3]\n",
    "        \n",
    "        # Three filters for idx points: Front-to-back, side-to-side, and height ranges\n",
    "        f2b_filter = np.logical_and((x_coord > self.fwd_range[0]), (x_coord < self.fwd_range[1]))\n",
    "        s2s_filter = np.logical_and((y_coord > -self.side_range[1]), (y_coord < -self.side_range[0]))\n",
    "        filter = np.logical_and(f2b_filter, s2s_filter)\n",
    "        idx = np.argwhere(filter).flatten()\n",
    "\n",
    "        x_coord = x_coord[idx]\n",
    "        y_coord = y_coord[idx]\n",
    "        z_coord = z_coord[idx]\n",
    "        intensity = intensity[idx]\n",
    "\n",
    "        # Pixel positions based on resolution\n",
    "        x_bev = (-y_coord / self.res).astype(np.int32)\n",
    "        y_bev = (-x_coord / self.res).astype(np.int32)\n",
    "\n",
    "        # Minimum (0,0) after shift\n",
    "        x_bev -= int(np.floor(self.side_range[0] / self.res))\n",
    "        y_bev += int(np.ceil(self.fwd_range[1] / self.res))\n",
    "\n",
    "        x_bev_max = 2 + int((self.side_range[1] - self.side_range[0]) / self.res)\n",
    "        y_bev_max = 2 + int((self.fwd_range[1] - self.fwd_range[0]) / self.res)\n",
    "\n",
    "        if label:\n",
    "            pixel_values = point_cloud[:, 3:][idx]\n",
    "            bev_img = np.zeros([y_bev_max, x_bev_max, 3], dtype=np.uint8)\n",
    "            bev_img[y_bev, x_bev] = pixel_values\n",
    "        else:\n",
    "            bev_img_min = np.full((y_bev_max, x_bev_max), np.inf, dtype=np.float32)\n",
    "            bev_img_max = np.full((y_bev_max, x_bev_max), self.height_range[0], dtype=np.float32)\n",
    "            bev_img_mean_intensity = np.zeros((y_bev_max, x_bev_max), dtype=np.float32)\n",
    "            count = np.zeros((y_bev_max, x_bev_max), dtype=np.int32)\n",
    "\n",
    "            for i in range(len(x_bev)):\n",
    "                y, x = y_bev[i], x_bev[i]\n",
    "                z, intensity_val = z_coord[i], intensity[i]\n",
    "\n",
    "                if z < bev_img_min[y, x]:\n",
    "                    bev_img_min[y, x] = z\n",
    "\n",
    "                if z > bev_img_max[y, x]:\n",
    "                    bev_img_max[y, x] = z\n",
    "\n",
    "                bev_img_mean_intensity[y, x] += intensity_val\n",
    "                count[y, x] += 1\n",
    "\n",
    "            count = np.maximum(count, 1)\n",
    "            bev_img_mean_intensity /= count\n",
    "\n",
    "            bev_img_min[bev_img_min == np.inf] = 0\n",
    "            bev_img_min = self.scale_to_255(bev_img_min, self.height_range[0], self.height_range[1])\n",
    "            bev_img_max = self.scale_to_255(bev_img_max, self.height_range[0], self.height_range[1])\n",
    "            bev_img_mean_intensity = self.scale_to_255(bev_img_mean_intensity, np.min(intensity), np.max(intensity))\n",
    "\n",
    "            bev_img = np.stack((bev_img_min, bev_img_max, bev_img_mean_intensity), axis=-1)\n",
    "\n",
    "        return bev_img\n",
    "        "
   ]
  },
  {
   "attachments": {
    "eb81388a-fcb4-4d68-a756-58667ed97b34.png": {
     "image/png": "[encoded data removed]"
    }
   },
   "cell_type": "markdown",
   "id": "dc63fe84-bb65-4467-ab7a-9087169b8749",
   "metadata": {},
   "source": [
    "In this implementation of a BEV projection, the relevant axes from the point cloud data will be the x and y axes. That being said, there is some things that have to be taken in consideration:\n",
    "- The x and y axes have opposite meanings, that is, x will be the forward range and y the side range.\n",
    "- The x and y axes point in the opposite direction.\n",
    "- There is the need to shift the values of the pixels so that (0,0) is the smallest possible value in the projection.\n",
    "\n",
    "The following image from [Ronny Restrepo's](http://ronny.rest/tutorials/module/pointclouds_01/point_cloud_birdseye/) BEV implementation illustrates what was said before:\n",
    "\n",
    "![image.png](attachment:eb81388a-fcb4-4d68-a756-58667ed97b34.png)"
   ]
  },
  {
   "cell_type": "markdown",
   "id": "4f139d77-d89f-4876-b581-fbb734ee0e69",
   "metadata": {},
   "source": [
    "In case you're wondering, the values for `res`, `side_range`, `fwd_range` and `height_range` are totally changeble based on your problem, but in the case of this work, it has those values so that the final shape of our BEV projection used for training is (1024, 1024, 3) wihtout losing points in the process. Also, it is taken in consideration the min, max, and mean height data in which are important for this work. A quick test example is as follows:"
   ]
  },
  {
   "cell_type": "code",
   "execution_count": 7,
   "id": "d81cc8fc-b215-4d29-a99c-7b33fd1d105d",
   "metadata": {},
   "outputs": [
    {
     "data": {
      "text/plain": [
       "(1024, 1024, 3)"
      ]
     },
     "execution_count": 7,
     "metadata": {},
     "output_type": "execute_result"
    }
   ],
   "source": [
    "#| eval: False\n",
    "bev_proj = BEVProjection()\n",
    "bev_image = bev_proj.get_BEV_projection(frame)\n",
    "bev_image.shape"
   ]
  },
  {
   "cell_type": "code",
   "execution_count": null,
   "id": "ebc3716b-8f07-4455-b585-1a3ab279abdf",
   "metadata": {
    "scrolled": true
   },
   "outputs": [],
   "source": [
    "#| hide\n",
    "import nbdev; nbdev.nbdev_export()"
   ]
  }
 ],
 "metadata": {
  "kernelspec": {
   "display_name": "Python 3 (ipykernel)",
   "language": "python",
   "name": "python3"
  },
  "language_info": {
   "codemirror_mode": {
    "name": "ipython",
    "version": 3
   },
   "file_extension": ".py",
   "mimetype": "text/x-python",
   "name": "python",
   "nbconvert_exporter": "python",
   "pygments_lexer": "ipython3",
   "version": "3.12.0"
  }
 },
 "nbformat": 4,
 "nbformat_minor": 5
}
