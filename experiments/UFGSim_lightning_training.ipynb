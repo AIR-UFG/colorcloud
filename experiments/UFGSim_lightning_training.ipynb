{
 "cells": [
  {
   "cell_type": "code",
   "execution_count": 1,
   "id": "b67031f7-0484-4adf-913b-8378ada30d7f",
   "metadata": {},
   "outputs": [],
   "source": [
    "%load_ext autoreload\n",
    "%autoreload 2"
   ]
  },
  {
   "cell_type": "code",
   "execution_count": 2,
   "id": "cd73f5b2-4faa-41ad-bb2e-f8ccbd14c0d0",
   "metadata": {},
   "outputs": [],
   "source": [
    "from colorcloud.UFGsim2024infufg import SemanticSegmentationSimLDM, ProjectionSimVizTransform\n",
    "from colorcloud.biasutti2019riu import SemanticSegmentationTask, RIUNet\n",
    "from torch.nn import CrossEntropyLoss\n",
    "import lightning as L\n",
    "import wandb\n",
    "from lightning.pytorch.loggers import WandbLogger\n",
    "from datetime import datetime\n",
    "from torch import nn"
   ]
  },
  {
   "cell_type": "code",
   "execution_count": 3,
   "id": "c2ebe589-e954-464b-abe5-749d0b12646a",
   "metadata": {},
   "outputs": [],
   "source": [
    "data = SemanticSegmentationSimLDM()\n",
    "data.setup('fit')\n",
    "epoch_steps = len(data.train_dataloader())"
   ]
  },
  {
   "cell_type": "code",
   "execution_count": 4,
   "id": "65fbd28f-681c-4ac4-9bfe-1dd3b3fc07b7",
   "metadata": {},
   "outputs": [],
   "source": [
    "n_epochs = 5\n",
    "learner = SemanticSegmentationTask(\n",
    "    RIUNet(in_channels=4, hidden_channels=(64, 128, 256, 512), n_classes=13),\n",
    "    CrossEntropyLoss(reduction='none'),\n",
    "    data.viz_tfm, \n",
    "    total_steps=n_epochs*epoch_steps\n",
    ")"
   ]
  },
  {
   "cell_type": "code",
   "execution_count": null,
   "id": "f92d99de-536d-4162-bc14-af9907e39eb4",
   "metadata": {},
   "outputs": [],
   "source": [
    "time = datetime.now()\n",
    "timestamp = str(time.year) + '-' + str(time.month) + '-' + str(time.day) + '_' + str(time.hour) + '-' + str(time.minute) + '-' + str(time.second)\n",
    "name = 'UFGSim-'+ timestamp\n",
    "wandb_logger = WandbLogger(project=\"colorcloud\", name=name, log_model=\"all\")\n",
    "wandb_logger.watch(learner.model, log=\"all\")"
   ]
  },
  {
   "cell_type": "code",
   "execution_count": null,
   "id": "d3f91e25-803d-4bbf-a507-8f3e12790f65",
   "metadata": {},
   "outputs": [],
   "source": [
    "# train model\n",
    "trainer = L.Trainer(max_epochs=n_epochs, logger=wandb_logger)\n",
    "trainer.fit(learner, data)"
   ]
  },
  {
   "cell_type": "code",
   "execution_count": null,
   "id": "484727f2-24f6-4e35-96e4-f53676687ed6",
   "metadata": {},
   "outputs": [],
   "source": [
    "wandb.finish()"
   ]
  }
 ],
 "metadata": {
  "kernelspec": {
   "display_name": "Python 3 (ipykernel)",
   "language": "python",
   "name": "python3"
  },
  "language_info": {
   "codemirror_mode": {
    "name": "ipython",
    "version": 3
   },
   "file_extension": ".py",
   "mimetype": "text/x-python",
   "name": "python",
   "nbconvert_exporter": "python",
   "pygments_lexer": "ipython3",
   "version": "3.12.0"
  }
 },
 "nbformat": 4,
 "nbformat_minor": 5
}
