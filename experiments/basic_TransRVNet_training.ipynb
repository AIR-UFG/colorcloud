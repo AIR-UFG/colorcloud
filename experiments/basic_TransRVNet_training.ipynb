{
 "cells": [
  {
   "cell_type": "code",
   "execution_count": 1,
   "id": "967697e7-371b-4ecc-8a32-20299f7498cc",
   "metadata": {},
   "outputs": [],
   "source": [
    "%load_ext autoreload\n",
    "%autoreload 2"
   ]
  },
  {
   "cell_type": "code",
   "execution_count": 2,
   "id": "255556ac-018a-4b5d-804c-0b08dc792f2b",
   "metadata": {},
   "outputs": [
    {
     "name": "stderr",
     "output_type": "stream",
     "text": [
      "/workspace/colorcloud/colorcloud/cheng2023TransRVNet.py:999: SyntaxWarning: \"is\" with a literal. Did you mean \"==\"?\n",
      "  if (classes is 'present' and fg.sum() == 0):\n",
      "/opt/conda/lib/python3.10/site-packages/tqdm/auto.py:21: TqdmWarning: IProgress not found. Please update jupyter and ipywidgets. See https://ipywidgets.readthedocs.io/en/stable/user_install.html\n",
      "  from .autonotebook import tqdm as notebook_tqdm\n"
     ]
    }
   ],
   "source": [
    "from colorcloud.cheng2023TransRVNet import TransVRNet\n",
    "from colorcloud.cheng2023TransRVNet import TransRVNet_loss\n",
    "import lightning as L\n",
    "import numpy as np\n",
    "import wandb\n",
    "from lightning.pytorch.loggers import WandbLogger\n",
    "from datetime import datetime\n",
    "import torch\n",
    "import torchvision\n",
    "from lovasz_losses import lovasz_softmax\n",
    "from boundary_loss import BoundaryLoss\n",
    "from colorcloud.behley2019iccv import SemanticKITTIDataset, SphericalProjection, ProjectionTransform, ProjectionToTensorTransform\n",
    "from torchvision.transforms import v2\n",
    "from torch.utils.data import DataLoader"
   ]
  },
  {
   "cell_type": "markdown",
   "id": "e3679e66-112a-433d-9b90-687a97070dc2",
   "metadata": {},
   "source": [
    "## Data"
   ]
  },
  {
   "cell_type": "code",
   "execution_count": 3,
   "id": "2c4834d9-859a-4f43-aa7e-b0455f8f5772",
   "metadata": {},
   "outputs": [],
   "source": [
    "data_path = '../../data'\n",
    "ds = SemanticKITTIDataset(data_path)\n",
    "frame, label, mask = ds[128]"
   ]
  },
  {
   "cell_type": "code",
   "execution_count": 4,
   "id": "540af5c1-2e7b-4765-a036-e4020c6a5e6e",
   "metadata": {},
   "outputs": [],
   "source": [
    "# inserir data rotation no transform \n",
    "# inverter = torchvision.transforms.RandomInvert(p=0.5)\n",
    "# rotation = torchvision.transforms.RandomRotation(degrees=(0, 180))\n",
    "# Data augmentation\n",
    "# ref = inverter(reflectance)\n",
    "# dep = inverter(depth)\n",
    "# xyz = inverter(xyz)\n",
    "\n",
    "proj = SphericalProjection(fov_up_deg=12., fov_down_deg=-26., W=1024, H=64)\n",
    "tfms = v2.Compose([\n",
    "    ProjectionTransform(proj),\n",
    "    ProjectionToTensorTransform(),\n",
    "])\n",
    "ds.set_transform(tfms)\n",
    "ds.set_transform(tfms)\n",
    "frame_img, label_img, mask_img = ds[128]\n"
   ]
  },
  {
   "cell_type": "code",
   "execution_count": 5,
   "id": "4c22824b-0faf-4bc6-ab58-4dd60f5aedb6",
   "metadata": {},
   "outputs": [],
   "source": [
    "bs = 1\n",
    "\n",
    "data_loader = DataLoader(ds, bs)"
   ]
  },
  {
   "cell_type": "markdown",
   "id": "8f4fec74-752a-45cc-8094-a5dddc3accf6",
   "metadata": {},
   "source": [
    "## Setup"
   ]
  },
  {
   "cell_type": "markdown",
   "id": "57660195-b8be-45ea-82d4-ac361abb8612",
   "metadata": {
    "jp-MarkdownHeadingCollapsed": true
   },
   "source": [
    "### Convolutions' Parameters"
   ]
  },
  {
   "cell_type": "code",
   "execution_count": 6,
   "id": "47299776-38ad-4d03-83f0-f1dacad7a972",
   "metadata": {},
   "outputs": [],
   "source": [
    "p1 = {\n",
    "    \"b1_in\": 1,\n",
    "    \"b1_out1\": 1,\n",
    "    \"b1_out2\": 1,\n",
    "    \"b1_out3\": 1,\n",
    "    \"b2_in\": 32,\n",
    "    \"b2_out\": 32,\n",
    "    \"b3_in\": 64,\n",
    "    \"b3_out1\": 64,\n",
    "    \"b3_out2\": 64,\n",
    "    \"b3_out3\": 64,\n",
    "    \"output\": 128,\n",
    "}\n",
    "\n",
    "p2 = {\n",
    "    \"b1_in\": 3,\n",
    "    \"b1_out1\": 1,\n",
    "    \"b1_out2\": 1,\n",
    "    \"b1_out3\": 1,\n",
    "    \"b2_in\": 32,\n",
    "    \"b2_out\": 32,\n",
    "    \"b3_in\": 64,\n",
    "    \"b3_out1\": 64,\n",
    "    \"b3_out2\": 64,\n",
    "    \"b3_out3\": 64,\n",
    "    \"output\": 128,\n",
    "}"
   ]
  },
  {
   "cell_type": "markdown",
   "id": "f9f6198c-d672-487c-845e-dc42ad06ea4a",
   "metadata": {},
   "source": [
    "## Training"
   ]
  },
  {
   "cell_type": "code",
   "execution_count": 7,
   "id": "dfba73a3-dc8b-4351-8695-37a6f86f8e6f",
   "metadata": {},
   "outputs": [
    {
     "name": "stdout",
     "output_type": "stream",
     "text": [
      "Using cuda device\n"
     ]
    }
   ],
   "source": [
    "device = (\n",
    "    \"cuda\"\n",
    "    if torch.cuda.is_available()\n",
    "    else \"mps\"\n",
    "    if torch.backends.mps.is_available()\n",
    "    else \"cpu\"\n",
    ")\n",
    "# device = \"cpu\"\n",
    "print(f\"Using {device} device\")"
   ]
  },
  {
   "cell_type": "code",
   "execution_count": 8,
   "id": "2e2eb4bc-80b6-4888-865d-39898db0f6d8",
   "metadata": {},
   "outputs": [
    {
     "name": "stderr",
     "output_type": "stream",
     "text": [
      "/opt/conda/lib/python3.10/site-packages/torch/functional.py:512: UserWarning: torch.meshgrid: in an upcoming release, it will be required to pass the indexing argument. (Triggered internally at /opt/conda/conda-bld/pytorch_1712608935911/work/aten/src/ATen/native/TensorShape.cpp:3587.)\n",
      "  return _VF.meshgrid(tensors, **kwargs)  # type: ignore[attr-defined]\n"
     ]
    }
   ],
   "source": [
    "model = TransVRNet(p1, p2).to(device)\n",
    "loss_fn = TransRVNet_loss(device)"
   ]
  },
  {
   "cell_type": "code",
   "execution_count": 9,
   "id": "a227ebc6-77d0-42d4-83f2-c8252d898282",
   "metadata": {},
   "outputs": [],
   "source": [
    "dropout = torch.nn.Dropout(p=0.2, inplace=False)\n",
    "optimizer = torch.optim.AdamW(model.parameters(), lr=1e-1, weight_decay=0.0001)\n",
    "scheduler = torch.optim.lr_scheduler.OneCycleLR(optimizer, \n",
    "                                                max_lr=0.002, \n",
    "                                                div_factor=1, \n",
    "                                                final_div_factor=10, \n",
    "                                                steps_per_epoch=len(data_loader), \n",
    "                                                epochs=30)"
   ]
  },
  {
   "cell_type": "code",
   "execution_count": 10,
   "id": "90bba4b6",
   "metadata": {},
   "outputs": [],
   "source": [
    "for batch in data_loader:\n",
    "    img, label, mask = batch\n",
    "    xyz = img[:, :3, :, :]\n",
    "    reflectance = img[:, 3, :, :].unsqueeze(1)\n",
    "    depth = img[:, 4, :, :].unsqueeze(1)\n",
    "    \n",
    "    break"
   ]
  },
  {
   "cell_type": "code",
   "execution_count": null,
   "id": "eb4b1612-bfd7-43c1-8ef8-2dc159fe9591",
   "metadata": {},
   "outputs": [],
   "source": [
    "epochs = 1\n",
    "for epoch in range(epochs):\n",
    "    model.train()\n",
    "    \n",
    "    for batch_idx, batch in enumerate(data_loader):\n",
    "        img, label, mask = batch\n",
    "        img, label, mask = img.to(device), label.to(device), mask.to(device)\n",
    "        \n",
    "        # Separate channels\n",
    "        xyz = img[:, :3, :, :]\n",
    "        reflectance = img[:, 3, :, :].unsqueeze(1)\n",
    "        depth = img[:, 4, :, :].unsqueeze(1)\n",
    "        \n",
    "        optimizer.zero_grad()\n",
    "\n",
    "        # Forward pass\n",
    "        pred = model(reflectance, depth, xyz)\n",
    "        \n",
    "        # Apply dropout\n",
    "        pred = dropout(pred)\n",
    "        \n",
    "        label[~mask] = 0\n",
    "        # Compute prediction error\n",
    "        loss = loss_fn(pred, label)\n",
    "        loss = loss[mask].mean()\n",
    "        # Backpropagation\n",
    "        loss.backward()\n",
    "        \n",
    "        optimizer.step()\n",
    "        \n",
    "        scheduler.step()\n",
    "    \n",
    "        print(f\"Epoch {epoch}, Batch {batch_idx}, Loss: {loss.item()}\")\n",
    "\n",
    "torch.save(model.state_dict(), \"trained_transvrnet_model.pth\")"
   ]
  }
 ],
 "metadata": {
  "kernelspec": {
   "display_name": "Python 3 (ipykernel)",
   "language": "python",
   "name": "python3"
  },
  "language_info": {
   "codemirror_mode": {
    "name": "ipython",
    "version": 3
   },
   "file_extension": ".py",
   "mimetype": "text/x-python",
   "name": "python",
   "nbconvert_exporter": "python",
   "pygments_lexer": "ipython3",
   "version": "3.10.14"
  }
 },
 "nbformat": 4,
 "nbformat_minor": 5
}
