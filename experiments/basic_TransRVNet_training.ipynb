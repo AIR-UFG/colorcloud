{
 "cells": [
  {
   "cell_type": "code",
   "execution_count": null,
   "id": "967697e7-371b-4ecc-8a32-20299f7498cc",
   "metadata": {},
   "outputs": [],
   "source": [
    "%load_ext autoreload\n",
    "%autoreload 2"
   ]
  },
  {
   "cell_type": "code",
   "execution_count": 2,
   "id": "255556ac-018a-4b5d-804c-0b08dc792f2b",
   "metadata": {},
   "outputs": [
    {
     "name": "stderr",
     "output_type": "stream",
     "text": [
      "/home/matheus/desktop/colorcloud/experiments/lovasz_losses.py:186: SyntaxWarning: \"is\" with a literal. Did you mean \"==\"?\n",
      "  if (classes is 'present' and fg.sum() == 0):\n"
     ]
    }
   ],
   "source": [
    "from colorcloud.cheng2023TransRVNet import TransVRNet\n",
    "import lightning as L\n",
    "import wandb\n",
    "from lightning.pytorch.loggers import WandbLogger\n",
    "from datetime import datetime\n",
    "import torch\n",
    "from lovasz_losses import lovasz_softmax"
   ]
  },
  {
   "cell_type": "code",
   "execution_count": null,
   "id": "47299776-38ad-4d03-83f0-f1dacad7a972",
   "metadata": {},
   "outputs": [],
   "source": [
    "p1 = {\n",
    "    \"b1_in\": 1,\n",
    "    \"b1_out1\": 1,\n",
    "    \"b1_out2\": 1,\n",
    "    \"b1_out3\": 1,\n",
    "    \"b2_in\": 32,\n",
    "    \"b2_out\": 32,\n",
    "    \"b3_in\": 64,\n",
    "    \"b3_out1\": 64,\n",
    "    \"b3_out2\": 64,\n",
    "    \"b3_out3\": 64,\n",
    "    \"output\": 128,\n",
    "}\n",
    "\n",
    "p2 = {\n",
    "    \"b1_in\": 3,\n",
    "    \"b1_out1\": 1,\n",
    "    \"b1_out2\": 1,\n",
    "    \"b1_out3\": 1,\n",
    "    \"b2_in\": 32,\n",
    "    \"b2_out\": 32,\n",
    "    \"b3_in\": 64,\n",
    "    \"b3_out1\": 64,\n",
    "    \"b3_out2\": 64,\n",
    "    \"b3_out3\": 64,\n",
    "    \"output\": 128,\n",
    "}"
   ]
  },
  {
   "cell_type": "code",
   "execution_count": null,
   "id": "dfba73a3-dc8b-4351-8695-37a6f86f8e6f",
   "metadata": {},
   "outputs": [],
   "source": [
    "device = (\n",
    "    \"cuda\"\n",
    "    if torch.cuda.is_available()\n",
    "    else \"mps\"\n",
    "    if torch.backends.mps.is_available()\n",
    "    else \"cpu\"\n",
    ")\n",
    "print(f\"Using {device} device\")"
   ]
  },
  {
   "cell_type": "code",
   "execution_count": null,
   "id": "2e2eb4bc-80b6-4888-865d-39898db0f6d8",
   "metadata": {},
   "outputs": [],
   "source": [
    "model = TransVRNet(p1, p2).to(device)\n",
    "print(model)"
   ]
  },
  {
   "cell_type": "code",
   "execution_count": null,
   "id": "a227ebc6-77d0-42d4-83f2-c8252d898282",
   "metadata": {},
   "outputs": [],
   "source": [
    "loss_fn = torch.nn.CrossEntropyLoss(weight=)\n",
    "# lovasz_softmax(probas, labels) so usar a funcao direto, eles dizem pra usar uma softmax antes\n",
    "# https://github.com/bermanmaxim/LovaszSoftmax/tree/master\n",
    "\n",
    "dropout = torch.nn.Dropout(p=0.2, inplace=False)\n",
    "inverter = torchvision.transforms.RandomInvert(p=0.5)\n",
    "rotation = torchvision.transforms.RandomRotation(degrees=(0, 180)) # verificar se ta random\n",
    "\n",
    "optimizer = torch.optim.AdamW(model.parameters(), lr=1e-1, weight_decay=0.0001)\n",
    "scheduler = torch.optim.lr_scheduler.OneCycleLR(optimizer, \n",
    "                                                max_lr=0.002, \n",
    "                                                div_factor=1, \n",
    "                                                final_div_factor=10, \n",
    "                                                steps_per_epoch=len(data_loader), \n",
    "                                                epochs=30)"
   ]
  }
 ],
 "metadata": {
  "kernelspec": {
   "display_name": "Python 3 (ipykernel)",
   "language": "python",
   "name": "python3"
  },
  "language_info": {
   "codemirror_mode": {
    "name": "ipython",
    "version": 3
   },
   "file_extension": ".py",
   "mimetype": "text/x-python",
   "name": "python",
   "nbconvert_exporter": "python",
   "pygments_lexer": "ipython3",
   "version": "3.10.12"
  }
 },
 "nbformat": 4,
 "nbformat_minor": 5
}
