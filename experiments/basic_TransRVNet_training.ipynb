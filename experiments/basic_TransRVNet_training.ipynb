{
 "cells": [
  {
   "cell_type": "code",
   "execution_count": 70,
   "id": "967697e7-371b-4ecc-8a32-20299f7498cc",
   "metadata": {},
   "outputs": [
    {
     "name": "stdout",
     "output_type": "stream",
     "text": [
      "The autoreload extension is already loaded. To reload it, use:\n",
      "  %reload_ext autoreload\n"
     ]
    }
   ],
   "source": [
    "%load_ext autoreload\n",
    "%autoreload 2"
   ]
  },
  {
   "cell_type": "code",
   "execution_count": 71,
   "id": "255556ac-018a-4b5d-804c-0b08dc792f2b",
   "metadata": {},
   "outputs": [],
   "source": [
    "from colorcloud.cheng2023TransRVNet import TransVRNet, SemanticSegmentationTask\n",
    "from colorcloud.cheng2023TransRVNet import TransRVNet_loss\n",
    "from colorcloud.cheng2023TransRVNet import RandomRotationTransform, RandomDroppingPointsTransform, RandomSingInvertingTransform\n",
    "import lightning as L\n",
    "import numpy as np\n",
    "import wandb\n",
    "from lightning.pytorch.loggers import WandbLogger\n",
    "from datetime import datetime\n",
    "import torch\n",
    "import torchvision\n",
    "import lightning as L\n",
    "from colorcloud.behley2019iccv import SemanticKITTIDataset, SphericalProjection, ProjectionTransform, ProjectionToTensorTransform, SemanticSegmentationLDM\n",
    "from torchvision.transforms import v2\n",
    "from torch.utils.data import DataLoader"
   ]
  },
  {
   "cell_type": "markdown",
   "id": "8f4fec74-752a-45cc-8094-a5dddc3accf6",
   "metadata": {},
   "source": [
    "## Setup"
   ]
  },
  {
   "cell_type": "code",
   "execution_count": 72,
   "id": "f6eed986-4cf7-4ee2-a181-1a4f00679964",
   "metadata": {},
   "outputs": [
    {
     "name": "stdout",
     "output_type": "stream",
     "text": [
      "Using cuda device\n"
     ]
    }
   ],
   "source": [
    "device = (\n",
    "    \"cuda\"\n",
    "    if torch.cuda.is_available()\n",
    "    else \"mps\"\n",
    "    if torch.backends.mps.is_available()\n",
    "    else \"cpu\"\n",
    ")\n",
    "print(f\"Using {device} device\")"
   ]
  },
  {
   "cell_type": "markdown",
   "id": "57660195-b8be-45ea-82d4-ac361abb8612",
   "metadata": {
    "jp-MarkdownHeadingCollapsed": true
   },
   "source": [
    "### Convolutions' Parameters"
   ]
  },
  {
   "cell_type": "code",
   "execution_count": 73,
   "id": "e6686904-8719-4759-b840-e6204f25860b",
   "metadata": {},
   "outputs": [],
   "source": [
    "mrciam_p = {\n",
    "    \"p1\": {\n",
    "        \"b1_in\": 1,\n",
    "        \"b1_out1\": 32,\n",
    "        \"b1_out2\": 32,\n",
    "        \"b1_out3\": 32,\n",
    "        \"b2_in\": 64,\n",
    "        \"b2_out\": 64,\n",
    "        \"b3_in\": 64,\n",
    "        \"b3_out1\": 64,\n",
    "        \"b3_out2\": 64,\n",
    "        \"b3_out3\": 64,\n",
    "        \"output\": 64,\n",
    "    },\n",
    "    \"p2\": {\n",
    "        \"b1_in\": 3,\n",
    "        \"b1_out1\": 32,\n",
    "        \"b1_out2\": 32,\n",
    "        \"b1_out3\": 32,\n",
    "        \"b2_in\": 64,\n",
    "        \"b2_out\": 64,\n",
    "        \"b3_in\": 64,\n",
    "        \"b3_out1\": 64,\n",
    "        \"b3_out2\": 64,\n",
    "        \"b3_out3\": 64,\n",
    "        \"output\": 64,\n",
    "    },\n",
    "    \"output_conv\": 192\n",
    "}\n",
    "encoder_p = {\n",
    "    \"module_1\": {\n",
    "        \"in_channels\": 192,\n",
    "        \"conv2_in_channels\": 128,\n",
    "        \"conv2_out_channels\": 256,\n",
    "        \"dilated_conv_out_channels\": 256,\n",
    "        \"residual_out_channels\": 256\n",
    "    },\n",
    "    \"module_2\": {\n",
    "        \"in_channels\": 256,\n",
    "        \"conv2_in_channels\": 256,\n",
    "        \"conv2_out_channels\": 256,\n",
    "        \"dilated_conv_out_channels\": 256,\n",
    "        \"residual_out_channels\": 256\n",
    "    }\n",
    "}\n",
    "\n",
    "decoder_p = {\n",
    "    \"in_channels\": 264,\n",
    "    \"conv2_in_channels\": 128,\n",
    "    \"dilated_conv_in_channels\": 128,\n",
    "    \"dilated_conv_out_channels\": 64,\n",
    "    \"output\": 32\n",
    "}\n",
    "\n",
    "p_bntm = {\n",
    "    \"window_size\": (4,4),\n",
    "    \"embed_dim\": int(encoder_p[\"module_2\"][\"residual_out_channels\"]/8)\n",
    "}"
   ]
  },
  {
   "cell_type": "markdown",
   "id": "580cff5f-ad7b-4922-92aa-c81fede806e9",
   "metadata": {},
   "source": [
    "## Lightning Training"
   ]
  },
  {
   "cell_type": "code",
   "execution_count": 74,
   "id": "7609fc46-59e4-4cdb-bb0d-12455ab8519e",
   "metadata": {},
   "outputs": [],
   "source": [
    "aug_tfms = v2.Compose([\n",
    "    RandomDroppingPointsTransform(),\n",
    "    RandomRotationTransform(),\n",
    "    RandomSingInvertingTransform(),\n",
    "])"
   ]
  },
  {
   "cell_type": "code",
   "execution_count": 75,
   "id": "566054ac-e8bf-4f25-8d3b-29c4c4d906f5",
   "metadata": {},
   "outputs": [],
   "source": [
    "model = TransVRNet(mrciam_p, encoder_p, decoder_p, p_bntm).to(device)\n",
    "loss_fn = TransRVNet_loss(device) "
   ]
  },
  {
   "cell_type": "code",
   "execution_count": 76,
   "id": "c5152c19-6e65-4ed2-81d7-0ad3e112e780",
   "metadata": {},
   "outputs": [],
   "source": [
    "data = SemanticSegmentationLDM(proj_kargs={'fov_up_deg':4., 'fov_down_deg':-26., 'W':1024, 'H':64}, proj_style='spherical', \n",
    "                               train_batch_size=1, eval_batch_size=1, num_workers=2, aug_tfms=aug_tfms)\n",
    "data.setup('fit')\n",
    "epoch_steps = len(data.train_dataloader())"
   ]
  },
  {
   "cell_type": "code",
   "execution_count": 77,
   "id": "f1d9c6aa-df52-4cc0-84df-c2bc6693c4c2",
   "metadata": {},
   "outputs": [],
   "source": [
    "n_epochs = 1\n",
    "learner = SemanticSegmentationTask(\n",
    "    model,\n",
    "    loss_fn,\n",
    "    data.viz_tfm, \n",
    "    total_steps=n_epochs*epoch_steps\n",
    ")"
   ]
  },
  {
   "cell_type": "code",
   "execution_count": 78,
   "id": "d32ada1b-8ded-44e1-9851-fd1f192fad0c",
   "metadata": {},
   "outputs": [
    {
     "name": "stderr",
     "output_type": "stream",
     "text": [
      "\u001b[34m\u001b[1mwandb\u001b[0m: logging graph, to disable use `wandb.watch(log_graph=False)`\n"
     ]
    }
   ],
   "source": [
    "model_name = \"TransVRNet\"\n",
    "timestamp = datetime.now().strftime(\"%d/%m/%Y_%H:%M:%S\")\n",
    "experiment_name = f\"{model_name}_{timestamp}\"\n",
    "\n",
    "wandb_logger = WandbLogger(project=\"colorcloud\", name=experiment_name, log_model=\"all\")\n",
    "wandb_logger.watch(learner.model, log=\"all\")"
   ]
  },
  {
   "cell_type": "code",
   "execution_count": 79,
   "id": "72b10693-dfc3-4e72-8a1f-0967683cbb6b",
   "metadata": {},
   "outputs": [
    {
     "name": "stderr",
     "output_type": "stream",
     "text": [
      "GPU available: True (cuda), used: True\n",
      "TPU available: False, using: 0 TPU cores\n",
      "HPU available: False, using: 0 HPUs\n"
     ]
    },
    {
     "name": "stderr",
     "output_type": "stream",
     "text": [
      "LOCAL_RANK: 0 - CUDA_VISIBLE_DEVICES: [0]\n",
      "\n",
      "  | Name           | Type                   | Params | Mode \n",
      "------------------------------------------------------------------\n",
      "0 | model          | TransVRNet             | 10.1 M | train\n",
      "1 | loss_fn        | TransRVNet_loss        | 0      | train\n",
      "2 | viz_tfm        | ProjectionVizTransform | 0      | train\n",
      "3 | dropout        | Dropout                | 0      | train\n",
      "4 | train_accuracy | MulticlassAccuracy     | 0      | train\n",
      "5 | val_accuracy   | MulticlassAccuracy     | 0      | train\n",
      "------------------------------------------------------------------\n",
      "10.1 M    Trainable params\n",
      "0         Non-trainable params\n",
      "10.1 M    Total params\n",
      "40.577    Total estimated model params size (MB)\n"
     ]
    },
    {
     "name": "stdout",
     "output_type": "stream",
     "text": [
      "Sanity Checking DataLoader 0:   0%|          | 0/2 [00:00<?, ?it/s]torch.Size([20, 64, 1024]) tensor([[[[ 6.4618e-03,  1.4485e-02,  3.4077e-03,  ...,  2.1479e-02,\n",
      "            7.2466e-03, -4.0908e-03],\n",
      "          [ 9.2486e-04, -1.5524e-03,  2.9876e-03,  ...,  6.8359e-03,\n",
      "           -4.1401e-05,  3.7444e-03],\n",
      "          [-1.0838e-03,  8.5473e-04,  1.1149e-02,  ..., -4.2438e-03,\n",
      "            1.9918e-02,  9.3318e-03],\n",
      "          ...,\n",
      "          [ 1.3178e-02,  1.4874e-02,  3.4720e-03,  ...,  2.0119e-02,\n",
      "           -3.3018e-03,  2.9897e-03],\n",
      "          [ 1.2037e-02, -2.9710e-03,  6.9147e-03,  ..., -3.6481e-03,\n",
      "           -4.1545e-03,  6.4552e-04],\n",
      "          [ 1.1956e-02, -3.8156e-03, -1.4196e-04,  ...,  1.8375e-02,\n",
      "            7.2472e-03,  2.9572e-03]],\n",
      "\n",
      "         [[ 1.1329e-01,  1.0386e-01,  1.2492e-01,  ...,  1.0693e-01,\n",
      "            1.2534e-01,  1.1451e-01],\n",
      "          [ 1.1529e-01,  1.2323e-01,  1.1141e-01,  ...,  1.0212e-01,\n",
      "            1.0728e-01,  1.1256e-01],\n",
      "          [ 1.2044e-01,  1.0743e-01,  1.1698e-01,  ...,  1.2123e-01,\n",
      "            1.2344e-01,  1.0199e-01],\n",
      "          ...,\n",
      "          [ 1.1408e-01,  9.0547e-02,  1.2584e-01,  ...,  1.0085e-01,\n",
      "            1.2209e-01,  1.0642e-01],\n",
      "          [ 1.1961e-01,  1.0508e-01,  1.0549e-01,  ...,  1.1174e-01,\n",
      "            1.1746e-01,  1.1578e-01],\n",
      "          [ 1.1176e-01,  1.1918e-01,  1.0560e-01,  ...,  1.1492e-01,\n",
      "            1.0500e-01,  1.0646e-01]],\n",
      "\n",
      "         [[-3.4626e-02, -3.2630e-02, -2.9608e-02,  ..., -3.4633e-02,\n",
      "           -3.0856e-02, -3.2723e-02],\n",
      "          [-3.1905e-02, -3.1911e-02, -3.5106e-02,  ..., -3.5779e-02,\n",
      "           -3.3369e-02, -3.4476e-02],\n",
      "          [-3.3636e-02, -3.0666e-02, -3.1113e-02,  ..., -2.5992e-02,\n",
      "           -3.4854e-02, -3.4348e-02],\n",
      "          ...,\n",
      "          [-3.1687e-02, -3.4834e-02, -2.9179e-02,  ..., -3.0079e-02,\n",
      "           -2.7628e-02, -3.2808e-02],\n",
      "          [-2.7717e-02, -3.2479e-02, -3.4587e-02,  ..., -3.2918e-02,\n",
      "           -2.8981e-02, -3.5849e-02],\n",
      "          [-3.1915e-02, -3.4514e-02, -3.3054e-02,  ..., -3.4935e-02,\n",
      "           -3.0365e-02, -3.8998e-02]],\n",
      "\n",
      "         ...,\n",
      "\n",
      "         [[ 5.0731e-02,  5.8488e-02,  5.5179e-02,  ...,  5.6310e-02,\n",
      "            5.9499e-02,  3.9420e-02],\n",
      "          [ 5.4343e-02,  7.1620e-02,  5.3816e-02,  ...,  3.3878e-02,\n",
      "            5.1648e-02,  6.9099e-02],\n",
      "          [ 6.4182e-02,  4.8799e-02,  6.5262e-02,  ...,  5.7387e-02,\n",
      "            7.2616e-02,  5.9565e-02],\n",
      "          ...,\n",
      "          [ 4.2546e-02,  5.2278e-02,  4.7665e-02,  ...,  4.4180e-02,\n",
      "            5.6331e-02,  5.3233e-02],\n",
      "          [ 7.2331e-02,  5.4484e-02,  4.9148e-02,  ...,  4.8050e-02,\n",
      "            4.4865e-02,  6.1963e-02],\n",
      "          [ 6.5730e-02,  5.0979e-02,  6.5137e-02,  ...,  6.7096e-02,\n",
      "            5.2363e-02,  5.5539e-02]],\n",
      "\n",
      "         [[-3.5031e-02, -3.4139e-02, -3.2273e-02,  ..., -3.6303e-02,\n",
      "           -3.5667e-02, -3.2801e-02],\n",
      "          [-3.1519e-02, -3.3905e-02, -3.1626e-02,  ..., -3.6662e-02,\n",
      "           -3.6913e-02, -3.4724e-02],\n",
      "          [-3.3013e-02, -3.3229e-02, -3.1447e-02,  ..., -3.3107e-02,\n",
      "           -3.6830e-02, -3.6080e-02],\n",
      "          ...,\n",
      "          [-3.6335e-02, -3.6416e-02, -2.8898e-02,  ..., -3.3895e-02,\n",
      "           -3.5886e-02, -3.7174e-02],\n",
      "          [-3.5514e-02, -3.1823e-02, -3.2682e-02,  ..., -3.6576e-02,\n",
      "           -3.5874e-02, -3.3956e-02],\n",
      "          [-3.4395e-02, -3.4422e-02, -3.6093e-02,  ..., -3.5778e-02,\n",
      "           -3.5458e-02, -3.6102e-02]],\n",
      "\n",
      "         [[ 1.8860e-02, -1.7297e-04,  1.2703e-02,  ...,  1.6874e-02,\n",
      "            1.3127e-02,  7.8657e-03],\n",
      "          [ 4.7552e-03,  7.3167e-04,  1.1042e-02,  ...,  1.3401e-02,\n",
      "            4.8671e-03,  1.5753e-02],\n",
      "          [ 9.0806e-03,  4.9332e-03,  1.2230e-03,  ..., -3.0601e-03,\n",
      "            3.3308e-03,  1.2972e-02],\n",
      "          ...,\n",
      "          [ 1.1784e-02,  6.9824e-03,  3.0160e-02,  ...,  9.3690e-03,\n",
      "            2.2430e-02,  1.9018e-02],\n",
      "          [ 2.1020e-03,  2.1747e-02,  1.6285e-02,  ...,  1.9984e-02,\n",
      "           -3.3310e-04,  1.2771e-02],\n",
      "          [ 2.4225e-03,  1.9679e-02,  8.0856e-03,  ...,  3.7188e-03,\n",
      "            7.7097e-03,  6.0678e-03]]]], device='cuda:0')\n",
      "(64, 1024) [[16 16 16 ... 16  4  4]\n",
      " [16 16 11 ... 16 16  4]\n",
      " [16  4  4 ... 16 16 16]\n",
      " ...\n",
      " [16 16 16 ... 16 16 16]\n",
      " [16  4 16 ... 16 16 16]\n",
      " [16 16 16 ... 16 16 16]]\n",
      "Sanity Checking DataLoader 0:  50%|█████     | 1/2 [00:01<00:01,  0.79it/s]"
     ]
    }
   ],
   "source": [
    "# train model\n",
    "trainer = L.Trainer(max_epochs=n_epochs, logger=wandb_logger)\n",
    "trainer.fit(learner, data)"
   ]
  }
 ],
 "metadata": {
  "kernelspec": {
   "display_name": "Python 3 (ipykernel)",
   "language": "python",
   "name": "python3"
  },
  "language_info": {
   "codemirror_mode": {
    "name": "ipython",
    "version": 3
   },
   "file_extension": ".py",
   "mimetype": "text/x-python",
   "name": "python",
   "nbconvert_exporter": "python",
   "pygments_lexer": "ipython3",
   "version": "3.10.14"
  }
 },
 "nbformat": 4,
 "nbformat_minor": 5
}
