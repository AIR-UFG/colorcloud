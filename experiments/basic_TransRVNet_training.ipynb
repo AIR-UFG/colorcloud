{
 "cells": [
  {
   "cell_type": "code",
   "execution_count": 1,
   "id": "967697e7-371b-4ecc-8a32-20299f7498cc",
   "metadata": {},
   "outputs": [],
   "source": [
    "%load_ext autoreload\n",
    "%autoreload 2"
   ]
  },
  {
   "cell_type": "code",
   "execution_count": null,
   "id": "255556ac-018a-4b5d-804c-0b08dc792f2b",
   "metadata": {},
   "outputs": [],
   "source": [
    "from colorcloud.cheng2023TransRVNet import TransVRNet, SemanticSegmentationTask\n",
    "from colorcloud.cheng2023TransRVNet import TransRVNet_loss\n",
    "from colorcloud.cheng2023TransRVNet import RandomRotationTransform, RandomDroppingPointsTransform, RandomSingInvertingTransform\n",
    "import lightning as L\n",
    "import numpy as np\n",
    "import wandb\n",
    "from lightning.pytorch.loggers import WandbLogger\n",
    "from datetime import datetime\n",
    "import torch\n",
    "import torchvision\n",
    "import lightning as L\n",
    "from colorcloud.behley2019iccv import SemanticKITTIDataset, SphericalProjection, ProjectionTransform, ProjectionToTensorTransform, SemanticSegmentationLDM\n",
    "from torchvision.transforms import v2\n",
    "from torch.utils.data import DataLoader"
   ]
  },
  {
   "cell_type": "markdown",
   "id": "8f4fec74-752a-45cc-8094-a5dddc3accf6",
   "metadata": {},
   "source": [
    "## Setup"
   ]
  },
  {
   "cell_type": "code",
   "execution_count": 3,
   "id": "f6eed986-4cf7-4ee2-a181-1a4f00679964",
   "metadata": {},
   "outputs": [
    {
     "name": "stdout",
     "output_type": "stream",
     "text": [
      "Using cuda device\n"
     ]
    }
   ],
   "source": [
    "device = (\n",
    "    \"cuda\"\n",
    "    if torch.cuda.is_available()\n",
    "    else \"mps\"\n",
    "    if torch.backends.mps.is_available()\n",
    "    else \"cpu\"\n",
    ")\n",
    "# device = \"cpu\"\n",
    "print(f\"Using {device} device\")"
   ]
  },
  {
   "cell_type": "markdown",
   "id": "57660195-b8be-45ea-82d4-ac361abb8612",
   "metadata": {},
   "source": [
    "### Convolutions' Parameters"
   ]
  },
  {
   "cell_type": "code",
   "execution_count": 5,
   "id": "6b2f5a48-fc51-4e06-bae7-951a73eb844a",
   "metadata": {},
   "outputs": [],
   "source": [
    "mrciam_p = {\n",
    "    \"p1\": {\n",
    "        \"b1_in\": 1,\n",
    "        \"b1_out1\": 1,\n",
    "        \"b1_out2\": 1,\n",
    "        \"b1_out3\": 1,\n",
    "        \"b2_in\": 32,\n",
    "        \"b2_out\": 32,\n",
    "        \"b3_in\": 64,\n",
    "        \"b3_out1\": 64,\n",
    "        \"b3_out2\": 64,\n",
    "        \"b3_out3\": 64,\n",
    "        \"output\": 128,\n",
    "    },\n",
    "    \"p2\": {\n",
    "        \"b1_in\": 3,\n",
    "        \"b1_out1\": 1,\n",
    "        \"b1_out2\": 1,\n",
    "        \"b1_out3\": 1,\n",
    "        \"b2_in\": 32,\n",
    "        \"b2_out\": 32,\n",
    "        \"b3_in\": 64,\n",
    "        \"b3_out1\": 64,\n",
    "        \"b3_out2\": 64,\n",
    "        \"b3_out3\": 64,\n",
    "        \"output\": 128,\n",
    "    },\n",
    "    \"output_conv\": 384\n",
    "}\n",
    "\n",
    "encoder_p = {\n",
    "    \"module_1\": {\n",
    "        \"in_channels\": 384,\n",
    "        \"conv2_in_channels\": 64,\n",
    "        \"conv2_out_channels\": 64,\n",
    "        \"dilated_conv_out_channels\": 64,\n",
    "        \"residual_out_channels\": 64\n",
    "    },\n",
    "    \"module_2\": {\n",
    "        \"in_channels\": 64,\n",
    "        \"out_channels\": 64,\n",
    "        \"conv2_in_channels\": 64,\n",
    "        \"conv2_out_channels\": 64,\n",
    "        \"dilated_conv_out_channels\": 64,\n",
    "        \"residual_out_channels\": 64\n",
    "    }\n",
    "}"
   ]
  },
  {
   "cell_type": "markdown",
   "id": "580cff5f-ad7b-4922-92aa-c81fede806e9",
   "metadata": {},
   "source": [
    "## Lightning Training"
   ]
  },
  {
   "cell_type": "code",
   "execution_count": 6,
   "id": "7609fc46-59e4-4cdb-bb0d-12455ab8519e",
   "metadata": {},
   "outputs": [],
   "source": [
    "proj = SphericalProjection(fov_up_deg=12., fov_down_deg=-26., W=1024, H=64)\n",
    "tfms = v2.Compose([\n",
    "    RandomDroppingPointsTransform(),\n",
    "    RandomRotationTransform(),\n",
    "    RandomSingInvertingTransform(),\n",
    "    ProjectionTransform(proj),\n",
    "    ProjectionToTensorTransform()\n",
    "])"
   ]
  },
  {
   "cell_type": "code",
   "execution_count": null,
   "id": "566054ac-e8bf-4f25-8d3b-29c4c4d906f5",
   "metadata": {},
   "outputs": [],
   "source": [
    "model = TransVRNet(mrciam_p, encoder_p).to(device)\n",
    "loss_fn = TransRVNet_loss(device)"
   ]
  },
  {
   "cell_type": "code",
   "execution_count": null,
   "id": "c5152c19-6e65-4ed2-81d7-0ad3e112e780",
   "metadata": {},
   "outputs": [],
   "source": [
    "data = SemanticSegmentationLDM(proj_kargs={'W': 1024, 'H': 64}, train_batch_size=1, eval_batch_size=1, num_workers=2)\n",
    "data.setup('fit')\n",
    "epoch_steps = len(data.train_dataloader())"
   ]
  },
  {
   "cell_type": "code",
   "execution_count": 9,
   "id": "f1d9c6aa-df52-4cc0-84df-c2bc6693c4c2",
   "metadata": {},
   "outputs": [],
   "source": [
    "n_epochs = 1\n",
    "learner = SemanticSegmentationTask(\n",
    "    model,\n",
    "    loss_fn,\n",
    "    data.viz_tfm, \n",
    "    total_steps=n_epochs*epoch_steps\n",
    ")"
   ]
  },
  {
   "cell_type": "code",
   "execution_count": null,
   "id": "d32ada1b-8ded-44e1-9851-fd1f192fad0c",
   "metadata": {},
   "outputs": [],
   "source": [
    "model_name = \"TransVRNet\"\n",
    "timestamp = datetime.now().strftime(\"%d/%m/%Y_%H:%M:%S\")\n",
    "experiment_name = f\"{model_name}_{timestamp}\"\n",
    "\n",
    "wandb_logger = WandbLogger(project=\"colorcloud\", name=experiment_name, log_model=\"all\")\n",
    "wandb_logger.watch(learner.model, log=\"all\")"
   ]
  },
  {
   "cell_type": "code",
   "execution_count": null,
   "id": "72b10693-dfc3-4e72-8a1f-0967683cbb6b",
   "metadata": {},
   "outputs": [],
   "source": [
    "# train model\n",
    "trainer = L.Trainer(max_epochs=n_epochs, logger=wandb_logger)\n",
    "trainer.fit(learner, data)"
   ]
  }
 ],
 "metadata": {
  "kernelspec": {
   "display_name": "Python 3 (ipykernel)",
   "language": "python",
   "name": "python3"
  },
  "language_info": {
   "codemirror_mode": {
    "name": "ipython",
    "version": 3
   },
   "file_extension": ".py",
   "mimetype": "text/x-python",
   "name": "python",
   "nbconvert_exporter": "python",
   "pygments_lexer": "ipython3",
   "version": "3.10.14"
  }
 },
 "nbformat": 4,
 "nbformat_minor": 5
}
