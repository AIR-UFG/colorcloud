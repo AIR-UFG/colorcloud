{
 "cells": [
  {
   "cell_type": "code",
   "execution_count": 1,
   "id": "967697e7-371b-4ecc-8a32-20299f7498cc",
   "metadata": {},
   "outputs": [],
   "source": [
    "%load_ext autoreload\n",
    "%autoreload 2"
   ]
  },
  {
   "cell_type": "code",
   "execution_count": 2,
   "id": "255556ac-018a-4b5d-804c-0b08dc792f2b",
   "metadata": {},
   "outputs": [
    {
     "name": "stderr",
     "output_type": "stream",
     "text": [
      "/workspace/colorcloud/colorcloud/cheng2023TransRVNet.py:1012: SyntaxWarning: \"is\" with a literal. Did you mean \"==\"?\n",
      "  if (classes is 'present' and fg.sum() == 0):\n",
      "/opt/conda/lib/python3.10/site-packages/tqdm/auto.py:21: TqdmWarning: IProgress not found. Please update jupyter and ipywidgets. See https://ipywidgets.readthedocs.io/en/stable/user_install.html\n",
      "  from .autonotebook import tqdm as notebook_tqdm\n"
     ]
    }
   ],
   "source": [
    "from colorcloud.cheng2023TransRVNet import TransVRNet, SemanticSegmentationTask\n",
    "from colorcloud.cheng2023TransRVNet import TransRVNet_loss\n",
    "from colorcloud.cheng2023TransRVNet import RandomRotationTransform, RandomDroppingPointsTransform, RandomSingInvertingTransform\n",
    "import lightning as L\n",
    "import numpy as np\n",
    "import wandb\n",
    "from lightning.pytorch.loggers import WandbLogger\n",
    "from datetime import datetime\n",
    "import torch\n",
    "import torchvision\n",
    "import lightning as L\n",
    "from lovasz_losses import lovasz_softmax\n",
    "from boundary_loss import BoundaryLoss\n",
    "from colorcloud.behley2019iccv import SemanticKITTIDataset, SphericalProjection, ProjectionTransform, ProjectionToTensorTransform, SemanticSegmentationLDM\n",
    "from torchvision.transforms import v2\n",
    "from torch.utils.data import DataLoader"
   ]
  },
  {
   "cell_type": "markdown",
   "id": "e3679e66-112a-433d-9b90-687a97070dc2",
   "metadata": {},
   "source": [
    "## Data"
   ]
  },
  {
   "cell_type": "code",
   "execution_count": 3,
   "id": "2c4834d9-859a-4f43-aa7e-b0455f8f5772",
   "metadata": {},
   "outputs": [],
   "source": [
    "# data_path = '../../data'\n",
    "# # ds = SemanticKITTIDataset(data_path)\n",
    "# frame, label, mask = ds[128]"
   ]
  },
  {
   "cell_type": "markdown",
   "id": "8f4fec74-752a-45cc-8094-a5dddc3accf6",
   "metadata": {},
   "source": [
    "## Setup"
   ]
  },
  {
   "cell_type": "code",
   "execution_count": 6,
   "id": "f6eed986-4cf7-4ee2-a181-1a4f00679964",
   "metadata": {},
   "outputs": [
    {
     "name": "stdout",
     "output_type": "stream",
     "text": [
      "Using cuda device\n"
     ]
    }
   ],
   "source": [
    "device = (\n",
    "    \"cuda\"\n",
    "    if torch.cuda.is_available()\n",
    "    else \"mps\"\n",
    "    if torch.backends.mps.is_available()\n",
    "    else \"cpu\"\n",
    ")\n",
    "# device = \"cpu\"\n",
    "print(f\"Using {device} device\")"
   ]
  },
  {
   "cell_type": "markdown",
   "id": "57660195-b8be-45ea-82d4-ac361abb8612",
   "metadata": {},
   "source": [
    "### Convolutions' Parameters"
   ]
  },
  {
   "cell_type": "code",
   "execution_count": 7,
   "id": "47299776-38ad-4d03-83f0-f1dacad7a972",
   "metadata": {},
   "outputs": [],
   "source": [
    "p1 = {\n",
    "    \"b1_in\": 1,\n",
    "    \"b1_out1\": 1,\n",
    "    \"b1_out2\": 1,\n",
    "    \"b1_out3\": 1,\n",
    "    \"b2_in\": 32,\n",
    "    \"b2_out\": 32,\n",
    "    \"b3_in\": 64,\n",
    "    \"b3_out1\": 64,\n",
    "    \"b3_out2\": 64,\n",
    "    \"b3_out3\": 64,\n",
    "    \"output\": 128,\n",
    "}\n",
    "\n",
    "p2 = {\n",
    "    \"b1_in\": 3,\n",
    "    \"b1_out1\": 1,\n",
    "    \"b1_out2\": 1,\n",
    "    \"b1_out3\": 1,\n",
    "    \"b2_in\": 32,\n",
    "    \"b2_out\": 32,\n",
    "    \"b3_in\": 64,\n",
    "    \"b3_out1\": 64,\n",
    "    \"b3_out2\": 64,\n",
    "    \"b3_out3\": 64,\n",
    "    \"output\": 128,\n",
    "}"
   ]
  },
  {
   "cell_type": "markdown",
   "id": "580cff5f-ad7b-4922-92aa-c81fede806e9",
   "metadata": {},
   "source": [
    "## Lightning Training"
   ]
  },
  {
   "cell_type": "code",
   "execution_count": 12,
   "id": "7609fc46-59e4-4cdb-bb0d-12455ab8519e",
   "metadata": {},
   "outputs": [],
   "source": [
    "proj = SphericalProjection(fov_up_deg=12., fov_down_deg=-26., W=1024, H=64)\n",
    "tfms = v2.Compose([\n",
    "    RandomDroppingPointsTransform(),\n",
    "    RandomRotationTransform(),\n",
    "    RandomSingInvertingTransform(),\n",
    "    ProjectionTransform(proj),\n",
    "    ProjectionToTensorTransform()\n",
    "])"
   ]
  },
  {
   "cell_type": "code",
   "execution_count": 13,
   "id": "566054ac-e8bf-4f25-8d3b-29c4c4d906f5",
   "metadata": {},
   "outputs": [
    {
     "name": "stderr",
     "output_type": "stream",
     "text": [
      "/opt/conda/lib/python3.10/site-packages/torch/functional.py:512: UserWarning: torch.meshgrid: in an upcoming release, it will be required to pass the indexing argument. (Triggered internally at /opt/conda/conda-bld/pytorch_1712608935911/work/aten/src/ATen/native/TensorShape.cpp:3587.)\n",
      "  return _VF.meshgrid(tensors, **kwargs)  # type: ignore[attr-defined]\n"
     ]
    }
   ],
   "source": [
    "model = TransVRNet(p1, p2).to(device)\n",
    "loss_fn = TransRVNet_loss(device)"
   ]
  },
  {
   "cell_type": "code",
   "execution_count": 14,
   "id": "c5152c19-6e65-4ed2-81d7-0ad3e112e780",
   "metadata": {},
   "outputs": [],
   "source": [
    "data = SemanticSegmentationLDM(proj_kargs={'W': 1024, 'H': 64}, train_batch_size=1, eval_batch_size=1, num_workers=2)\n",
    "data.setup('fit')\n",
    "epoch_steps = len(data.train_dataloader())"
   ]
  },
  {
   "cell_type": "code",
   "execution_count": 15,
   "id": "f1d9c6aa-df52-4cc0-84df-c2bc6693c4c2",
   "metadata": {},
   "outputs": [],
   "source": [
    "n_epochs = 1\n",
    "learner = SemanticSegmentationTask(\n",
    "    model,\n",
    "    loss_fn,\n",
    "    data.viz_tfm, \n",
    "    total_steps=n_epochs*epoch_steps\n",
    ")"
   ]
  },
  {
   "cell_type": "code",
   "execution_count": 16,
   "id": "d32ada1b-8ded-44e1-9851-fd1f192fad0c",
   "metadata": {},
   "outputs": [
    {
     "name": "stderr",
     "output_type": "stream",
     "text": [
      "\u001b[34m\u001b[1mwandb\u001b[0m: Currently logged in as: \u001b[33mbeatrizpinheiro\u001b[0m (\u001b[33mair-ufg\u001b[0m). Use \u001b[1m`wandb login --relogin`\u001b[0m to force relogin\n"
     ]
    },
    {
     "data": {
      "text/html": [
       "wandb version 0.17.3 is available!  To upgrade, please run:\n",
       " $ pip install wandb --upgrade"
      ],
      "text/plain": [
       "<IPython.core.display.HTML object>"
      ]
     },
     "metadata": {},
     "output_type": "display_data"
    },
    {
     "data": {
      "text/html": [
       "Tracking run with wandb version 0.17.2"
      ],
      "text/plain": [
       "<IPython.core.display.HTML object>"
      ]
     },
     "metadata": {},
     "output_type": "display_data"
    },
    {
     "data": {
      "text/html": [
       "Run data is saved locally in <code>./wandb/run-20240701_134010-78twa9kr</code>"
      ],
      "text/plain": [
       "<IPython.core.display.HTML object>"
      ]
     },
     "metadata": {},
     "output_type": "display_data"
    },
    {
     "data": {
      "text/html": [
       "Syncing run <strong><a href='https://wandb.ai/air-ufg/colorcloud/runs/78twa9kr' target=\"_blank\">teste transvrnet 2024-7-1_13-40-8</a></strong> to <a href='https://wandb.ai/air-ufg/colorcloud' target=\"_blank\">Weights & Biases</a> (<a href='https://wandb.me/run' target=\"_blank\">docs</a>)<br/>"
      ],
      "text/plain": [
       "<IPython.core.display.HTML object>"
      ]
     },
     "metadata": {},
     "output_type": "display_data"
    },
    {
     "data": {
      "text/html": [
       " View project at <a href='https://wandb.ai/air-ufg/colorcloud' target=\"_blank\">https://wandb.ai/air-ufg/colorcloud</a>"
      ],
      "text/plain": [
       "<IPython.core.display.HTML object>"
      ]
     },
     "metadata": {},
     "output_type": "display_data"
    },
    {
     "data": {
      "text/html": [
       " View run at <a href='https://wandb.ai/air-ufg/colorcloud/runs/78twa9kr' target=\"_blank\">https://wandb.ai/air-ufg/colorcloud/runs/78twa9kr</a>"
      ],
      "text/plain": [
       "<IPython.core.display.HTML object>"
      ]
     },
     "metadata": {},
     "output_type": "display_data"
    },
    {
     "name": "stderr",
     "output_type": "stream",
     "text": [
      "\u001b[34m\u001b[1mwandb\u001b[0m: logging graph, to disable use `wandb.watch(log_graph=False)`\n"
     ]
    }
   ],
   "source": [
    "time = datetime.now()\n",
    "timestamp = \"teste transvrnet \" + str(time.year) + '-' + str(time.month) + '-' + str(time.day) + '_' + str(time.hour) + '-' + str(time.minute) + '-' + str(time.second)\n",
    "\n",
    "wandb_logger = WandbLogger(project=\"colorcloud\", name=timestamp, log_model=\"all\")\n",
    "wandb_logger.watch(learner.model, log=\"all\")"
   ]
  },
  {
   "cell_type": "code",
   "execution_count": 17,
   "id": "72b10693-dfc3-4e72-8a1f-0967683cbb6b",
   "metadata": {},
   "outputs": [
    {
     "name": "stderr",
     "output_type": "stream",
     "text": [
      "GPU available: True (cuda), used: True\n",
      "TPU available: False, using: 0 TPU cores\n",
      "HPU available: False, using: 0 HPUs\n",
      "You are using a CUDA device ('NVIDIA GeForce RTX 3050 6GB Laptop GPU') that has Tensor Cores. To properly utilize them, you should set `torch.set_float32_matmul_precision('medium' | 'high')` which will trade-off precision for performance. For more details, read https://pytorch.org/docs/stable/generated/torch.set_float32_matmul_precision.html#torch.set_float32_matmul_precision\n",
      "LOCAL_RANK: 0 - CUDA_VISIBLE_DEVICES: [0]\n",
      "\n",
      "  | Name           | Type                   | Params | Mode \n",
      "------------------------------------------------------------------\n",
      "0 | model          | TransVRNet             | 2.1 M  | train\n",
      "1 | loss_fn        | TransRVNet_loss        | 0      | train\n",
      "2 | viz_tfm        | ProjectionVizTransform | 0      | train\n",
      "3 | dropout        | Dropout                | 0      | train\n",
      "4 | train_accuracy | MulticlassAccuracy     | 0      | train\n",
      "5 | val_accuracy   | MulticlassAccuracy     | 0      | train\n",
      "------------------------------------------------------------------\n",
      "2.1 M     Trainable params\n",
      "0         Non-trainable params\n",
      "2.1 M     Total params\n",
      "8.525     Total estimated model params size (MB)\n"
     ]
    },
    {
     "name": "stdout",
     "output_type": "stream",
     "text": [
      "Epoch 0:   0%|                                                                                  | 0/190 [00:00<?, ?it/s]"
     ]
    },
    {
     "name": "stderr",
     "output_type": "stream",
     "text": [
      "/opt/conda/lib/python3.10/site-packages/torch/autograd/graph.py:744: UserWarning: Plan failed with a cudnnException: CUDNN_BACKEND_EXECUTION_PLAN_DESCRIPTOR: cudnnFinalize Descriptor Failed cudnn_status: CUDNN_STATUS_NOT_SUPPORTED (Triggered internally at /opt/conda/conda-bld/pytorch_1712608935911/work/aten/src/ATen/native/cudnn/Conv_v8.cpp:919.)\n",
      "  return Variable._execution_engine.run_backward(  # Calls into the C++ engine to run the backward pass\n",
      "/workspace/colorcloud/colorcloud/cheng2023TransRVNet.py:1448: UserWarning: std(): degrees of freedom is <= 0. Correction should be strictly less than the reduction factor (input numel divided by output numel). (Triggered internally at /opt/conda/conda-bld/pytorch_1712608935911/work/aten/src/ATen/native/ReduceOps.cpp:1807.)\n",
      "  self.logger.experiment.log({\"ud/\" + str(n): ((optim_step.std())/(p_old[n].std() + 1e-5)).log10()}, step=self.step_idx)\n"
     ]
    },
    {
     "name": "stdout",
     "output_type": "stream",
     "text": [
      "Epoch 0: 100%|████████████████████████████████████████████████████████████| 190/190 [06:12<00:00,  0.51it/s, v_num=a9kr]\n",
      "Validation: |                                                                                     | 0/? [00:00<?, ?it/s]\u001b[A\n",
      "Validation:   0%|                                                                                | 0/81 [00:00<?, ?it/s]\u001b[A\n",
      "Validation DataLoader 0:   0%|                                                                   | 0/81 [00:00<?, ?it/s]\u001b[A\n",
      "Validation DataLoader 0:   1%|▋                                                          | 1/81 [00:00<00:13,  6.08it/s]\u001b[A\n",
      "Validation DataLoader 0:   2%|█▍                                                         | 2/81 [00:00<00:12,  6.57it/s]\u001b[A\n",
      "Validation DataLoader 0:   4%|██▏                                                        | 3/81 [00:00<00:11,  6.81it/s]\u001b[A\n",
      "Validation DataLoader 0:   5%|██▉                                                        | 4/81 [00:00<00:11,  6.94it/s]\u001b[A\n",
      "Validation DataLoader 0:   6%|███▋                                                       | 5/81 [00:00<00:10,  7.01it/s]\u001b[A\n",
      "Validation DataLoader 0:   7%|████▎                                                      | 6/81 [00:00<00:10,  7.07it/s]\u001b[A\n",
      "Validation DataLoader 0:   9%|█████                                                      | 7/81 [00:00<00:10,  7.06it/s]\u001b[A\n",
      "Validation DataLoader 0:  10%|█████▊                                                     | 8/81 [00:01<00:10,  7.07it/s]\u001b[A\n",
      "Validation DataLoader 0:  11%|██████▌                                                    | 9/81 [00:01<00:10,  7.10it/s]\u001b[A\n",
      "Validation DataLoader 0:  12%|███████▏                                                  | 10/81 [00:01<00:09,  7.13it/s]\u001b[A\n",
      "Validation DataLoader 0:  14%|███████▉                                                  | 11/81 [00:01<00:09,  7.15it/s]\u001b[A\n",
      "Validation DataLoader 0:  15%|████████▌                                                 | 12/81 [00:01<00:09,  7.18it/s]\u001b[A\n",
      "Validation DataLoader 0:  16%|█████████▎                                                | 13/81 [00:01<00:09,  7.18it/s]\u001b[A\n",
      "Validation DataLoader 0:  17%|██████████                                                | 14/81 [00:01<00:09,  7.17it/s]\u001b[A\n",
      "Validation DataLoader 0:  19%|██████████▋                                               | 15/81 [00:02<00:09,  7.16it/s]\u001b[A\n",
      "Validation DataLoader 0:  20%|███████████▍                                              | 16/81 [00:02<00:09,  7.18it/s]\u001b[A\n",
      "Validation DataLoader 0:  21%|████████████▏                                             | 17/81 [00:02<00:08,  7.18it/s]\u001b[A\n",
      "Validation DataLoader 0:  22%|████████████▉                                             | 18/81 [00:02<00:09,  6.59it/s]\u001b[A\n",
      "Validation DataLoader 0:  23%|█████████████▌                                            | 19/81 [00:02<00:09,  6.63it/s]\u001b[A\n",
      "Validation DataLoader 0:  25%|██████████████▎                                           | 20/81 [00:03<00:09,  6.66it/s]\u001b[A\n",
      "Validation DataLoader 0:  26%|███████████████                                           | 21/81 [00:03<00:08,  6.69it/s]\u001b[A\n",
      "Validation DataLoader 0:  27%|███████████████▊                                          | 22/81 [00:03<00:08,  6.71it/s]\u001b[A\n",
      "Validation DataLoader 0:  28%|████████████████▍                                         | 23/81 [00:03<00:08,  6.74it/s]\u001b[A\n",
      "Validation DataLoader 0:  30%|█████████████████▏                                        | 24/81 [00:03<00:08,  6.76it/s]\u001b[A\n",
      "Validation DataLoader 0:  31%|█████████████████▉                                        | 25/81 [00:03<00:08,  6.77it/s]\u001b[A\n",
      "Validation DataLoader 0:  32%|██████████████████▌                                       | 26/81 [00:03<00:08,  6.79it/s]\u001b[A\n",
      "Validation DataLoader 0:  33%|███████████████████▎                                      | 27/81 [00:03<00:07,  6.81it/s]\u001b[A\n",
      "Validation DataLoader 0:  35%|████████████████████                                      | 28/81 [00:04<00:07,  6.83it/s]\u001b[A\n",
      "Validation DataLoader 0:  36%|████████████████████▊                                     | 29/81 [00:04<00:07,  6.84it/s]\u001b[A\n",
      "Validation DataLoader 0:  37%|█████████████████████▍                                    | 30/81 [00:04<00:07,  6.85it/s]\u001b[A\n",
      "Validation DataLoader 0:  38%|██████████████████████▏                                   | 31/81 [00:04<00:07,  6.87it/s]\u001b[A\n",
      "Validation DataLoader 0:  40%|██████████████████████▉                                   | 32/81 [00:04<00:07,  6.89it/s]\u001b[A\n",
      "Validation DataLoader 0:  41%|███████████████████████▋                                  | 33/81 [00:04<00:06,  6.89it/s]\u001b[A\n",
      "Validation DataLoader 0:  42%|████████████████████████▎                                 | 34/81 [00:04<00:06,  6.90it/s]\u001b[A\n",
      "Validation DataLoader 0:  43%|█████████████████████████                                 | 35/81 [00:05<00:06,  6.90it/s]\u001b[A\n",
      "Validation DataLoader 0:  44%|█████████████████████████▊                                | 36/81 [00:05<00:06,  6.91it/s]\u001b[A\n",
      "Validation DataLoader 0:  46%|██████████████████████████▍                               | 37/81 [00:05<00:06,  6.92it/s]\u001b[A\n",
      "Validation DataLoader 0:  47%|███████████████████████████▏                              | 38/81 [00:05<00:06,  6.94it/s]\u001b[A\n",
      "Validation DataLoader 0:  48%|███████████████████████████▉                              | 39/81 [00:05<00:06,  6.94it/s]\u001b[A\n",
      "Validation DataLoader 0:  49%|████████████████████████████▋                             | 40/81 [00:05<00:05,  6.96it/s]\u001b[A\n",
      "Validation DataLoader 0:  51%|█████████████████████████████▎                            | 41/81 [00:05<00:05,  6.96it/s]\u001b[A\n",
      "Validation DataLoader 0:  52%|██████████████████████████████                            | 42/81 [00:06<00:05,  6.97it/s]\u001b[A\n",
      "Validation DataLoader 0:  53%|██████████████████████████████▊                           | 43/81 [00:06<00:05,  6.98it/s]\u001b[A\n",
      "Validation DataLoader 0:  54%|███████████████████████████████▌                          | 44/81 [00:06<00:05,  6.99it/s]\u001b[A\n",
      "Validation DataLoader 0:  56%|████████████████████████████████▏                         | 45/81 [00:06<00:05,  6.99it/s]\u001b[A\n",
      "Validation DataLoader 0:  57%|████████████████████████████████▉                         | 46/81 [00:06<00:05,  6.99it/s]\u001b[A\n",
      "Validation DataLoader 0:  58%|█████████████████████████████████▋                        | 47/81 [00:06<00:04,  6.99it/s]\u001b[A\n",
      "Validation DataLoader 0:  59%|██████████████████████████████████▎                       | 48/81 [00:06<00:04,  7.00it/s]\u001b[A\n",
      "Validation DataLoader 0:  60%|███████████████████████████████████                       | 49/81 [00:06<00:04,  7.00it/s]\u001b[A\n",
      "Validation DataLoader 0:  62%|███████████████████████████████████▊                      | 50/81 [00:07<00:04,  7.01it/s]\u001b[A\n",
      "Validation DataLoader 0:  63%|████████████████████████████████████▌                     | 51/81 [00:07<00:04,  7.02it/s]\u001b[A\n",
      "Validation DataLoader 0:  64%|█████████████████████████████████████▏                    | 52/81 [00:07<00:04,  7.02it/s]\u001b[A\n",
      "Validation DataLoader 0:  65%|█████████████████████████████████████▉                    | 53/81 [00:07<00:03,  7.03it/s]\u001b[A\n",
      "Validation DataLoader 0:  67%|██████████████████████████████████████▋                   | 54/81 [00:07<00:03,  7.03it/s]\u001b[A\n",
      "Validation DataLoader 0:  68%|███████████████████████████████████████▍                  | 55/81 [00:07<00:03,  7.03it/s]\u001b[A\n",
      "Validation DataLoader 0:  69%|████████████████████████████████████████                  | 56/81 [00:07<00:03,  7.04it/s]\u001b[A\n",
      "Validation DataLoader 0:  70%|████████████████████████████████████████▊                 | 57/81 [00:08<00:03,  7.04it/s]\u001b[A\n",
      "Validation DataLoader 0:  72%|█████████████████████████████████████████▌                | 58/81 [00:08<00:03,  7.04it/s]\u001b[A\n",
      "Validation DataLoader 0:  73%|██████████████████████████████████████████▏               | 59/81 [00:08<00:03,  7.05it/s]\u001b[A\n",
      "Validation DataLoader 0:  74%|██████████████████████████████████████████▉               | 60/81 [00:08<00:02,  7.06it/s]\u001b[A\n",
      "Validation DataLoader 0:  75%|███████████████████████████████████████████▋              | 61/81 [00:08<00:02,  7.04it/s]\u001b[A\n",
      "Validation DataLoader 0:  77%|████████████████████████████████████████████▍             | 62/81 [00:08<00:02,  7.04it/s]\u001b[A\n",
      "Validation DataLoader 0:  78%|█████████████████████████████████████████████             | 63/81 [00:08<00:02,  7.04it/s]\u001b[A\n",
      "Validation DataLoader 0:  79%|█████████████████████████████████████████████▊            | 64/81 [00:09<00:02,  7.05it/s]\u001b[A\n",
      "Validation DataLoader 0:  80%|██████████████████████████████████████████████▌           | 65/81 [00:09<00:02,  7.05it/s]\u001b[A\n",
      "Validation DataLoader 0:  81%|███████████████████████████████████████████████▎          | 66/81 [00:09<00:02,  7.05it/s]\u001b[A\n",
      "Validation DataLoader 0:  83%|███████████████████████████████████████████████▉          | 67/81 [00:09<00:01,  7.06it/s]\u001b[A\n",
      "Validation DataLoader 0:  84%|████████████████████████████████████████████████▋         | 68/81 [00:09<00:01,  7.06it/s]\u001b[A\n",
      "Validation DataLoader 0:  85%|█████████████████████████████████████████████████▍        | 69/81 [00:09<00:01,  7.07it/s]\u001b[A\n",
      "Validation DataLoader 0:  86%|██████████████████████████████████████████████████        | 70/81 [00:09<00:01,  7.07it/s]\u001b[A\n",
      "Validation DataLoader 0:  88%|██████████████████████████████████████████████████▊       | 71/81 [00:10<00:01,  7.08it/s]\u001b[A\n",
      "Validation DataLoader 0:  89%|███████████████████████████████████████████████████▌      | 72/81 [00:10<00:01,  7.08it/s]\u001b[A\n",
      "Validation DataLoader 0:  90%|████████████████████████████████████████████████████▎     | 73/81 [00:10<00:01,  7.08it/s]\u001b[A\n",
      "Validation DataLoader 0:  91%|████████████████████████████████████████████████████▉     | 74/81 [00:10<00:00,  7.08it/s]\u001b[A\n",
      "Validation DataLoader 0:  93%|█████████████████████████████████████████████████████▋    | 75/81 [00:10<00:00,  7.08it/s]\u001b[A\n",
      "Validation DataLoader 0:  94%|██████████████████████████████████████████████████████▍   | 76/81 [00:10<00:00,  7.09it/s]\u001b[A\n",
      "Validation DataLoader 0:  95%|███████████████████████████████████████████████████████▏  | 77/81 [00:10<00:00,  7.09it/s]\u001b[A\n",
      "Validation DataLoader 0:  96%|███████████████████████████████████████████████████████▊  | 78/81 [00:10<00:00,  7.09it/s]\u001b[A\n",
      "Validation DataLoader 0:  98%|████████████████████████████████████████████████████████▌ | 79/81 [00:11<00:00,  7.09it/s]\u001b[A\n",
      "Validation DataLoader 0:  99%|█████████████████████████████████████████████████████████▎| 80/81 [00:11<00:00,  7.10it/s]\u001b[A\n",
      "Validation DataLoader 0: 100%|██████████████████████████████████████████████████████████| 81/81 [00:11<00:00,  7.10it/s]\u001b[A\n",
      "Epoch 0: 100%|████████████████████████████████████████████████████████████| 190/190 [06:23<00:00,  0.50it/s, v_num=a9kr]\u001b[A"
     ]
    },
    {
     "name": "stderr",
     "output_type": "stream",
     "text": [
      "`Trainer.fit` stopped: `max_epochs=1` reached.\n"
     ]
    },
    {
     "name": "stdout",
     "output_type": "stream",
     "text": [
      "Epoch 0: 100%|████████████████████████████████████████████████████████████| 190/190 [06:24<00:00,  0.49it/s, v_num=a9kr]\n"
     ]
    }
   ],
   "source": [
    "# train model\n",
    "trainer = L.Trainer(max_epochs=n_epochs, logger=wandb_logger)\n",
    "trainer.fit(learner, data)"
   ]
  }
 ],
 "metadata": {
  "kernelspec": {
   "display_name": "Python 3 (ipykernel)",
   "language": "python",
   "name": "python3"
  },
  "language_info": {
   "codemirror_mode": {
    "name": "ipython",
    "version": 3
   },
   "file_extension": ".py",
   "mimetype": "text/x-python",
   "name": "python",
   "nbconvert_exporter": "python",
   "pygments_lexer": "ipython3",
   "version": "3.10.14"
  }
 },
 "nbformat": 4,
 "nbformat_minor": 5
}
