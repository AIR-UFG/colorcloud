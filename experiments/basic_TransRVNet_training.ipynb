{
 "cells": [
  {
   "cell_type": "code",
   "execution_count": 1,
   "id": "967697e7-371b-4ecc-8a32-20299f7498cc",
   "metadata": {},
   "outputs": [],
   "source": [
    "%load_ext autoreload\n",
    "%autoreload 2"
   ]
  },
  {
   "cell_type": "code",
   "execution_count": 2,
   "id": "255556ac-018a-4b5d-804c-0b08dc792f2b",
   "metadata": {},
   "outputs": [],
   "source": [
    "from colorcloud.cheng2023TransRVNet import TransVRNet\n",
    "from colorcloud.cheng2023TransRVNet import TransRVNet_loss\n",
    "import lightning as L\n",
    "import numpy as np\n",
    "import wandb\n",
    "from lightning.pytorch.loggers import WandbLogger\n",
    "from datetime import datetime\n",
    "import torch\n",
    "import torchvision\n",
    "from lovasz_losses import lovasz_softmax\n",
    "from boundary_loss import BoundaryLoss\n",
    "from colorcloud.behley2019iccv import SemanticKITTIDataset, SphericalProjection, ProjectionTransform, ProjectionVizTransform\n",
    "from torchvision.transforms import v2\n",
    "from torch.utils.data import DataLoader"
   ]
  },
  {
   "cell_type": "markdown",
   "id": "e3679e66-112a-433d-9b90-687a97070dc2",
   "metadata": {},
   "source": [
    "## Data"
   ]
  },
  {
   "cell_type": "code",
   "execution_count": 3,
   "id": "2c4834d9-859a-4f43-aa7e-b0455f8f5772",
   "metadata": {},
   "outputs": [],
   "source": [
    "data_path = '/mnt/c/Users/mathe/OneDrive/Área de Trabalho/FACULDADE/Pesquisa/odometry'\n",
    "ds = SemanticKITTIDataset(data_path)\n",
    "frame, label, mask = ds[128]"
   ]
  },
  {
   "cell_type": "code",
   "execution_count": 4,
   "id": "540af5c1-2e7b-4765-a036-e4020c6a5e6e",
   "metadata": {},
   "outputs": [],
   "source": [
    "proj = SphericalProjection(fov_up_deg=12., fov_down_deg=-26., W=1024, H=64)\n",
    "tfms = v2.Compose([\n",
    "    ProjectionTransform(proj),\n",
    "    ProjectionVizTransform(ds.color_map_rgb_np, ds.learning_map_inv_np),\n",
    "])\n",
    "ds.set_transform(tfms)\n",
    "img, label, _ = ds[128]\n",
    "bs = 1\n",
    "\n",
    "data_loader = DataLoader(ds, bs)"
   ]
  },
  {
   "cell_type": "markdown",
   "id": "8f4fec74-752a-45cc-8094-a5dddc3accf6",
   "metadata": {},
   "source": [
    "## Setup"
   ]
  },
  {
   "cell_type": "markdown",
   "id": "f0d259f3-4fd9-4e38-b883-6bcacef3e11d",
   "metadata": {},
   "source": [
    "### Loss"
   ]
  },
  {
   "cell_type": "code",
   "execution_count": 5,
   "id": "e7beba44-efc9-4128-9cae-08dca28f796a",
   "metadata": {},
   "outputs": [],
   "source": [
    "def calculate_frequencies(dataset):\n",
    "    class_frequencies = {i: 0 for i in range(-1, 20)}\n",
    "    \n",
    "    for img, labels, _ in dataset:\n",
    "        # Flatten the label array to count occurrences\n",
    "        flattened_labels = labels.flatten()\n",
    "        # Count the occurrences of each class\n",
    "        unique, counts = np.unique(flattened_labels, return_counts=True)\n",
    "        # Update the frequency dictionary\n",
    "        for cls, count in zip(unique, counts):\n",
    "            class_frequencies[cls] += count\n",
    "\n",
    "    # change cases where frequency is 0 to 1\n",
    "    for key, item in class_frequencies.items():\n",
    "        if item == 0:\n",
    "            class_frequencies[key] = 1\n",
    "\n",
    "    class_frequencies = list(class_frequencies.values())\n",
    "    return class_frequencies"
   ]
  },
  {
   "cell_type": "code",
   "execution_count": 6,
   "id": "cdd5af2b-a74e-47ac-8949-c658e7c1101b",
   "metadata": {},
   "outputs": [],
   "source": [
    "# CLASS_FREQUENCIES = calculate_frequencies(ds)"
   ]
  },
  {
   "cell_type": "code",
   "execution_count": 7,
   "id": "e6316ea6-9718-4074-9673-427858157cce",
   "metadata": {},
   "outputs": [],
   "source": [
    "# CLASS_FREQUENCIES"
   ]
  },
  {
   "cell_type": "code",
   "execution_count": 8,
   "id": "028ea57b-4b01-4068-9d2c-3aaef5cb49ab",
   "metadata": {},
   "outputs": [],
   "source": [
    "# lovasz_softmax(probas, labels) --- https://github.com/bermanmaxim/LovaszSoftmax/tree/master\n",
    "# boundary_loss --- https://github.com/yiskw713/boundary_loss_for_remote_sensing"
   ]
  },
  {
   "cell_type": "code",
   "execution_count": 9,
   "id": "7f3ee5c3-86d1-4c59-b514-f825d0390096",
   "metadata": {},
   "outputs": [],
   "source": [
    "# Function to calculate class weights\n",
    "# wc = (ft/fc)^i, where fc is the frequency of class c, and ft is the median of all class frequencies.\n",
    "def calculate_class_weights(frequencies, exponent):\n",
    "    median_freq = np.median(frequencies)\n",
    "    class_weights = (median_freq / frequencies) ** exponent\n",
    "    return torch.tensor(class_weights, dtype=torch.float32)\n",
    "\n",
    "EXPONENT_I = 0.5"
   ]
  },
  {
   "cell_type": "code",
   "execution_count": 10,
   "id": "e014748b-0e88-4c46-b4f7-a4cf2c21bd68",
   "metadata": {},
   "outputs": [],
   "source": [
    "# # Calculate class weights\n",
    "# class_weights = calculate_class_weights(CLASS_FREQUENCIES, EXPONENT_I)\n",
    "# # Weighted cross-entropy loss\n",
    "# loss_fn = torch.nn.CrossEntropyLoss(weight=class_weights)"
   ]
  },
  {
   "cell_type": "code",
   "execution_count": 11,
   "id": "4ae67c6c",
   "metadata": {},
   "outputs": [
    {
     "name": "stdout",
     "output_type": "stream",
     "text": [
      "torch.Size([1, 20, 64, 1024])\n",
      "torch.Size([1, 64, 1024])\n"
     ]
    },
    {
     "data": {
      "text/plain": [
       "tensor(6.9845, grad_fn=<AddBackward0>)"
      ]
     },
     "execution_count": 11,
     "metadata": {},
     "output_type": "execute_result"
    }
   ],
   "source": [
    "#| hide\n",
    "# nao sei se vale a pena deixar isso como um exemplo\n",
    "ts = torch.randn(1, 20, 64, 1024)\n",
    "mask = torch.randint(high = 20, size = (1, 64, 1024))\n",
    "\n",
    "print(ts.shape)\n",
    "print(mask.shape)\n",
    "\n",
    "loss = TransRVNet_loss()\n",
    "l = loss(ts, mask)\n",
    "l"
   ]
  },
  {
   "cell_type": "markdown",
   "id": "57660195-b8be-45ea-82d4-ac361abb8612",
   "metadata": {
    "jp-MarkdownHeadingCollapsed": true
   },
   "source": [
    "### Convolutions' Parameters"
   ]
  },
  {
   "cell_type": "code",
   "execution_count": 12,
   "id": "47299776-38ad-4d03-83f0-f1dacad7a972",
   "metadata": {},
   "outputs": [],
   "source": [
    "p1 = {\n",
    "    \"b1_in\": 1,\n",
    "    \"b1_out1\": 1,\n",
    "    \"b1_out2\": 1,\n",
    "    \"b1_out3\": 1,\n",
    "    \"b2_in\": 32,\n",
    "    \"b2_out\": 32,\n",
    "    \"b3_in\": 64,\n",
    "    \"b3_out1\": 64,\n",
    "    \"b3_out2\": 64,\n",
    "    \"b3_out3\": 64,\n",
    "    \"output\": 128,\n",
    "}\n",
    "\n",
    "p2 = {\n",
    "    \"b1_in\": 3,\n",
    "    \"b1_out1\": 1,\n",
    "    \"b1_out2\": 1,\n",
    "    \"b1_out3\": 1,\n",
    "    \"b2_in\": 32,\n",
    "    \"b2_out\": 32,\n",
    "    \"b3_in\": 64,\n",
    "    \"b3_out1\": 64,\n",
    "    \"b3_out2\": 64,\n",
    "    \"b3_out3\": 64,\n",
    "    \"output\": 128,\n",
    "}"
   ]
  },
  {
   "cell_type": "markdown",
   "id": "f9f6198c-d672-487c-845e-dc42ad06ea4a",
   "metadata": {},
   "source": [
    "## Training"
   ]
  },
  {
   "cell_type": "code",
   "execution_count": 13,
   "id": "dfba73a3-dc8b-4351-8695-37a6f86f8e6f",
   "metadata": {},
   "outputs": [
    {
     "name": "stdout",
     "output_type": "stream",
     "text": [
      "Using cuda device\n"
     ]
    }
   ],
   "source": [
    "device = (\n",
    "    \"cuda\"\n",
    "    if torch.cuda.is_available()\n",
    "    else \"mps\"\n",
    "    if torch.backends.mps.is_available()\n",
    "    else \"cpu\"\n",
    ")\n",
    "print(f\"Using {device} device\")"
   ]
  },
  {
   "cell_type": "code",
   "execution_count": null,
   "id": "2e2eb4bc-80b6-4888-865d-39898db0f6d8",
   "metadata": {},
   "outputs": [],
   "source": [
    "model = TransVRNet(p1, p2).to(device)\n",
    "print(model)"
   ]
  },
  {
   "cell_type": "code",
   "execution_count": 15,
   "id": "a227ebc6-77d0-42d4-83f2-c8252d898282",
   "metadata": {},
   "outputs": [],
   "source": [
    "dropout = torch.nn.Dropout(p=0.2, inplace=False)\n",
    "inverter = torchvision.transforms.RandomInvert(p=0.5)\n",
    "rotation = torchvision.transforms.RandomRotation(degrees=(0, 180))\n",
    "\n",
    "optimizer = torch.optim.AdamW(model.parameters(), lr=1e-1, weight_decay=0.0001)\n",
    "scheduler = torch.optim.lr_scheduler.OneCycleLR(optimizer, \n",
    "                                                max_lr=0.002, \n",
    "                                                div_factor=1, \n",
    "                                                final_div_factor=10, \n",
    "                                                steps_per_epoch=len(data_loader), \n",
    "                                                epochs=30)"
   ]
  },
  {
   "cell_type": "code",
   "execution_count": 16,
   "id": "90bba4b6",
   "metadata": {},
   "outputs": [
    {
     "name": "stdout",
     "output_type": "stream",
     "text": [
      "torch.Size([1, 64, 1024])\n"
     ]
    }
   ],
   "source": [
    "for batch in data_loader:\n",
    "    img, label, mask = batch\n",
    "    ref = img[:,:,:,0].unsqueeze(1)\n",
    "    dep = img[:,:,:,1].unsqueeze(1)\n",
    "    xyz = img[:,:,:,2:5]\n",
    "    xyz = xyz.permute(0, 3, 2, 1)\n",
    "    print(mask.shape)\n",
    "    \n",
    "    break"
   ]
  },
  {
   "cell_type": "code",
   "execution_count": 17,
   "id": "eb4b1612-bfd7-43c1-8ef8-2dc159fe9591",
   "metadata": {},
   "outputs": [],
   "source": [
    "# # epochs = 30\n",
    "# epochs = 1\n",
    "# for epoch in range(epochs):\n",
    "#     model.train()\n",
    "    \n",
    "#     for batch in data_loader:\n",
    "#         img, label, mask = batch\n",
    "#         ref = img[:,:,:,0].unsqueeze(1)\n",
    "#         dep = img[:,:,:,1].unsqueeze(1)\n",
    "#         xyz = img[:,:,:,2:5]\n",
    "#         xyz = xyz.permute(0, 3, 2, 1)\n",
    "        \n",
    "#         optimizer.zero_grad()\n",
    "        \n",
    "#         # Data augmentation\n",
    "#         ref = inverter(ref)\n",
    "#         dep = inverter(dep)\n",
    "#         xyz = inverter(xyz)\n",
    "\n",
    "#         # problema em rodar a imagem, teria que rodar a mask tbm\n",
    "#         # data = rotation(data)\n",
    "        \n",
    "#         # Forward pass\n",
    "#         output = model(ref, dep, xyz)\n",
    "        \n",
    "#         # Apply dropout\n",
    "#         output = dropout(output)\n",
    "        \n",
    "#         loss = total_loss(output, mask)\n",
    "        \n",
    "#         loss.backward()\n",
    "        \n",
    "#         optimizer.step()\n",
    "        \n",
    "#         scheduler.step()\n",
    "        \n",
    "#         # if batch_idx % log_interval == 0:\n",
    "#             # print(f\"Epoch {epoch}, Batch {batch_idx}, Loss: {loss.item()}\")\n",
    "    \n",
    "#         print(f\"Epoch {epoch}, Batch {batch_idx}, Loss: {loss.item()}\")\n",
    "\n",
    "# torch.save(model.state_dict(), \"trained_transvrnet_model.pth\")"
   ]
  },
  {
   "cell_type": "code",
   "execution_count": null,
   "id": "325669bf-5033-44bd-950b-4248a5260610",
   "metadata": {},
   "outputs": [],
   "source": []
  }
 ],
 "metadata": {
  "kernelspec": {
   "display_name": "Python 3 (ipykernel)",
   "language": "python",
   "name": "python3"
  },
  "language_info": {
   "codemirror_mode": {
    "name": "ipython",
    "version": 3
   },
   "file_extension": ".py",
   "mimetype": "text/x-python",
   "name": "python",
   "nbconvert_exporter": "python",
   "pygments_lexer": "ipython3",
   "version": "3.10.12"
  }
 },
 "nbformat": 4,
 "nbformat_minor": 5
}
