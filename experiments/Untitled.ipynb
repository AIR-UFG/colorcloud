{
 "cells": [
  {
   "cell_type": "code",
   "execution_count": 1,
   "id": "3694654f-dfce-4b28-a329-e82adbacf535",
   "metadata": {},
   "outputs": [],
   "source": [
    "# code get from https://github.com/yiskw713/boundary_loss_for_remote_sensing\n",
    "\n",
    "import torch\n",
    "import torch.nn as nn\n",
    "import torch.nn.functional as F\n",
    "import torch.optim as optim\n",
    "from torchvision.models import segmentation\n",
    "from boundary_loss import BoundaryLoss"
   ]
  },
  {
   "cell_type": "code",
   "execution_count": 2,
   "id": "0fcb9835-e275-469e-95a0-98713c91553d",
   "metadata": {},
   "outputs": [
    {
     "name": "stdout",
     "output_type": "stream",
     "text": [
      "cuda\n",
      "torch.Size([8, 3, 8, 8])\n",
      "torch.Size([8, 8, 8])\n",
      "out shape:  torch.Size([8, 10, 8, 8])\n",
      "tensor([[4, 4, 1, 1, 8, 0, 5, 6],\n",
      "        [9, 1, 7, 3, 6, 8, 1, 3],\n",
      "        [1, 9, 0, 9, 1, 9, 1, 2],\n",
      "        [0, 6, 3, 4, 6, 5, 5, 3],\n",
      "        [4, 5, 1, 2, 8, 9, 0, 4],\n",
      "        [5, 9, 1, 3, 2, 5, 6, 7],\n",
      "        [8, 0, 2, 7, 2, 6, 4, 9],\n",
      "        [6, 7, 0, 9, 5, 0, 5, 5]], device='cuda:0')\n",
      "tensor([[0., 0., 0., 0., 0., 1., 0., 0.],\n",
      "        [0., 0., 0., 0., 0., 0., 0., 0.],\n",
      "        [0., 0., 1., 0., 0., 0., 0., 0.],\n",
      "        [1., 0., 0., 0., 0., 0., 0., 0.],\n",
      "        [0., 0., 0., 0., 0., 0., 1., 0.],\n",
      "        [0., 0., 0., 0., 0., 0., 0., 0.],\n",
      "        [0., 1., 0., 0., 0., 0., 0., 0.],\n",
      "        [0., 0., 1., 0., 0., 1., 0., 0.]], device='cuda:0',\n",
      "       grad_fn=<SelectBackward0>)\n",
      "tensor(1., device='cuda:0', grad_fn=<MeanBackward0>)\n"
     ]
    }
   ],
   "source": [
    "device = 'cuda' if torch.cuda.is_available() else 'cpu'\n",
    "print(device)\n",
    "\n",
    "img = torch.randn(8, 3, 8, 8).to(device)\n",
    "gt = torch.randint(0, 10, (8, 8, 8)).to(device)\n",
    "\n",
    "print(img.shape)\n",
    "print(gt.shape)\n",
    "\n",
    "model = segmentation.fcn_resnet50(num_classes=10).to(device)\n",
    "\n",
    "optimizer = optim.Adam(model.parameters(), lr=0.0001)\n",
    "criterion = BoundaryLoss()\n",
    "y = model(img)\n",
    "\n",
    "print(\"out shape: \", y['out'].shape)\n",
    "\n",
    "\n",
    "loss = criterion(y['out'], gt)\n",
    "\n",
    "optimizer.zero_grad()\n",
    "loss.backward()\n",
    "optimizer.step()\n",
    "\n",
    "print(loss)"
   ]
  },
  {
   "cell_type": "code",
   "execution_count": null,
   "id": "a3ecbdad-5c5c-4adb-a787-a8c4bf11f57c",
   "metadata": {},
   "outputs": [],
   "source": []
  },
  {
   "cell_type": "code",
   "execution_count": null,
   "id": "98684c2e-df35-46c7-8316-82783b200841",
   "metadata": {},
   "outputs": [],
   "source": []
  },
  {
   "cell_type": "code",
   "execution_count": null,
   "id": "d4481f72-d820-4f81-9a8e-063b252566dc",
   "metadata": {},
   "outputs": [],
   "source": []
  }
 ],
 "metadata": {
  "kernelspec": {
   "display_name": "Python 3 (ipykernel)",
   "language": "python",
   "name": "python3"
  },
  "language_info": {
   "codemirror_mode": {
    "name": "ipython",
    "version": 3
   },
   "file_extension": ".py",
   "mimetype": "text/x-python",
   "name": "python",
   "nbconvert_exporter": "python",
   "pygments_lexer": "ipython3",
   "version": "3.10.12"
  }
 },
 "nbformat": 4,
 "nbformat_minor": 5
}
