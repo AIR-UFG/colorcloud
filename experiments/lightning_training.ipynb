{
 "cells": [
  {
   "cell_type": "code",
   "execution_count": null,
   "id": "2b44def1-f8b8-41a7-b859-f798f6a8ac52",
   "metadata": {},
   "outputs": [],
   "source": [
    "%load_ext autoreload\n",
    "%autoreload 2"
   ]
  },
  {
   "cell_type": "code",
   "execution_count": null,
   "id": "1b286f2c-33a7-4cf0-873f-5cf2013ec0df",
   "metadata": {},
   "outputs": [],
   "source": [
    "from colorcloud.biasutti2019riu import SemanticSegmentationTask, RIUNet\n",
    "from colorcloud.behley2019iccv import SemanticSegmentationLDM, ProjectionVizTransform\n",
    "from colorcloud.chen2020mvlidarnet import MVLidarNet\n",
    "from torch.nn import CrossEntropyLoss\n",
    "import lightning as L\n",
    "import wandb\n",
    "from lightning.pytorch.loggers import WandbLogger\n",
    "from datetime import datetime\n",
    "from torch import nn"
   ]
  },
  {
   "cell_type": "code",
   "execution_count": null,
   "id": "ce7c67b8-b898-480c-b90b-65659d217e4d",
   "metadata": {},
   "outputs": [],
   "source": [
    "remapping_rules = {\n",
    "    1: 1,\n",
    "    4: 2,\n",
    "    6: 3,\n",
    "    7: 4,\n",
    "    2: 4,\n",
    "    9: 5,\n",
    "    11: 6\n",
    "}\n",
    "data = SemanticSegmentationLDM(train_batch_size=10, remapping_rules=None)\n",
    "data.setup('fit')\n",
    "epoch_steps = len(data.train_dataloader())"
   ]
  },
  {
   "cell_type": "code",
   "execution_count": null,
   "id": "b6892376-e3e8-4489-9a18-14f67009e6ab",
   "metadata": {},
   "outputs": [],
   "source": [
    "n_epochs = 5\n",
    "learner = SemanticSegmentationTask(\n",
    "    RIUNet(),\n",
    "    CrossEntropyLoss(reduction='none'),\n",
    "    data.viz_tfm, \n",
    "    total_steps=n_epochs*epoch_steps\n",
    ")"
   ]
  },
  {
   "cell_type": "code",
   "execution_count": null,
   "id": "21e225d0-7ae1-4a66-a851-8c5e91551e7d",
   "metadata": {},
   "outputs": [],
   "source": [
    "time = datetime.now()\n",
    "timestamp = str(time.year) + '-' + str(time.month) + '-' + str(time.day) + '_' + str(time.hour) + '-' + str(time.minute) + '-' + str(time.second)\n",
    "\n",
    "wandb_logger = WandbLogger(project=\"colorcloud\", name=timestamp, log_model=\"all\")\n",
    "wandb_logger.watch(learner.model, log=\"all\")"
   ]
  },
  {
   "cell_type": "code",
   "execution_count": null,
   "id": "0dbc3a2a-573e-424c-8ddf-0e2beb232adf",
   "metadata": {},
   "outputs": [],
   "source": [
    "# train model\n",
    "trainer = L.Trainer(max_epochs=n_epochs, logger=wandb_logger)\n",
    "trainer.fit(learner, data)"
   ]
  },
  {
   "cell_type": "code",
   "execution_count": null,
   "id": "14df684b-9cdf-423f-a453-d2bec91e8a1f",
   "metadata": {},
   "outputs": [],
   "source": [
    "wandb.finish()"
   ]
  },
  {
   "cell_type": "code",
   "execution_count": null,
   "id": "6b0b4eaf-3995-40ba-b3a7-9cb53a80e881",
   "metadata": {},
   "outputs": [],
   "source": []
  }
 ],
 "metadata": {
  "kernelspec": {
   "display_name": "python3",
   "language": "python",
   "name": "python3"
  }
 },
 "nbformat": 4,
 "nbformat_minor": 5
}
