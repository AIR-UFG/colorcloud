{
 "cells": [
  {
   "cell_type": "code",
   "execution_count": 1,
   "id": "2b44def1-f8b8-41a7-b859-f798f6a8ac52",
   "metadata": {},
   "outputs": [],
   "source": [
    "%load_ext autoreload\n",
    "%autoreload 2"
   ]
  },
  {
   "cell_type": "code",
   "execution_count": 2,
   "id": "1b286f2c-33a7-4cf0-873f-5cf2013ec0df",
   "metadata": {},
   "outputs": [],
   "source": [
    "from colorcloud.behley2019iccv import SemanticKITTIDataset, UnfoldingProjection, ProjectionTransform, ProjectionToTensorTransform\n",
    "from colorcloud.biasutti2019riu import RIUNet\n",
    "from colorcloud.chen2020mvlidarnet import MVLidarNet\n",
    "from torchvision.transforms import v2\n",
    "from torch.utils.data import DataLoader\n",
    "from torch.nn import CrossEntropyLoss, BatchNorm2d\n",
    "from torch.optim import Adam\n",
    "import lightning as L"
   ]
  },
  {
   "cell_type": "code",
   "execution_count": 3,
   "id": "022643a5-7b90-479c-b3e7-f1b588310046",
   "metadata": {},
   "outputs": [],
   "source": [
    "class LitModel(L.LightningModule):\n",
    "    def __init__(self):\n",
    "        super().__init__()\n",
    "        self.bn = BatchNorm2d(5, affine=False, momentum=None)\n",
    "        self.net = MVLidarNet()\n",
    "        self.loss_fn = CrossEntropyLoss(reduction='none')\n",
    "\n",
    "    def training_step(self, batch, batch_idx):\n",
    "        # training_step defines the train loop.\n",
    "        img, label, mask = batch\n",
    "        label[~mask] = 0\n",
    "\n",
    "        # Compute prediction error\n",
    "        pred = self.net(img)\n",
    "        loss = self.loss_fn(pred, label)\n",
    "        loss = loss[mask].mean()\n",
    "        self.log(\"loss\", loss, prog_bar=True)\n",
    "        return loss\n",
    "\n",
    "    def configure_optimizers(self):\n",
    "        optimizer = Adam(self.parameters(), lr=1e-3)\n",
    "        return optimizer"
   ]
  },
  {
   "cell_type": "code",
   "execution_count": 4,
   "id": "053ab7dd-5d2d-46ba-88f9-8a07691f8be3",
   "metadata": {},
   "outputs": [],
   "source": [
    "data_path = '../../data'\n",
    "ds = SemanticKITTIDataset(data_path)\n",
    "\n",
    "remapping_rules = {\n",
    "    1: 1,\n",
    "    4: 2,\n",
    "    6: 3,\n",
    "    7: 4,\n",
    "    2: 4,\n",
    "    9: 5,\n",
    "    11: 6\n",
    "}\n",
    "ds.learning_remap(remapping_rules)\n",
    "\n",
    "proj = UnfoldingProjection(W=1024, H=64)\n",
    "tfms = v2.Compose([\n",
    "    ProjectionTransform(proj),\n",
    "    ProjectionToTensorTransform(),\n",
    "])\n",
    "ds.set_transform(tfms)\n",
    "\n",
    "bs = 10\n",
    "dl = DataLoader(ds, bs, num_workers=8)"
   ]
  },
  {
   "cell_type": "code",
   "execution_count": 5,
   "id": "0dbc3a2a-573e-424c-8ddf-0e2beb232adf",
   "metadata": {},
   "outputs": [
    {
     "name": "stderr",
     "output_type": "stream",
     "text": [
      "GPU available: True (cuda), used: True\n",
      "TPU available: False, using: 0 TPU cores\n",
      "IPU available: False, using: 0 IPUs\n",
      "HPU available: False, using: 0 HPUs\n",
      "/opt/conda/lib/python3.10/site-packages/lightning/pytorch/trainer/connectors/logger_connector/logger_connector.py:75: Starting from v1.9.0, `tensorboardX` has been removed as a dependency of the `lightning.pytorch` package, due to potential conflicts with other packages in the ML ecosystem. For this reason, `logger=True` will use `CSVLogger` as the default logger, unless the `tensorboard` or `tensorboardX` packages are found. Please `pip install lightning[extra]` or one of them to enable TensorBoard support by default\n",
      "You are using a CUDA device ('NVIDIA GeForce RTX 3080') that has Tensor Cores. To properly utilize them, you should set `torch.set_float32_matmul_precision('medium' | 'high')` which will trade-off precision for performance. For more details, read https://pytorch.org/docs/stable/generated/torch.set_float32_matmul_precision.html#torch.set_float32_matmul_precision\n",
      "LOCAL_RANK: 0 - CUDA_VISIBLE_DEVICES: [0]\n",
      "\n",
      "  | Name    | Type             | Params\n",
      "---------------------------------------------\n",
      "0 | bn      | BatchNorm2d      | 0     \n",
      "1 | net     | MVLidarNet       | 1.9 M \n",
      "2 | loss_fn | CrossEntropyLoss | 0     \n",
      "---------------------------------------------\n",
      "1.9 M     Trainable params\n",
      "0         Non-trainable params\n",
      "1.9 M     Total params\n",
      "7.505     Total estimated model params size (MB)\n"
     ]
    },
    {
     "data": {
      "application/vnd.jupyter.widget-view+json": {
       "model_id": "051bdf01b75141308384f91508918e30",
       "version_major": 2,
       "version_minor": 0
      },
      "text/plain": [
       "Training: |                                                                                                   …"
      ]
     },
     "metadata": {},
     "output_type": "display_data"
    },
    {
     "name": "stderr",
     "output_type": "stream",
     "text": [
      "`Trainer.fit` stopped: `max_epochs=1` reached.\n"
     ]
    }
   ],
   "source": [
    "# train model\n",
    "trainer = L.Trainer(max_epochs=1)\n",
    "trainer.fit(model=LitModel(), train_dataloaders=dl)"
   ]
  },
  {
   "cell_type": "code",
   "execution_count": null,
   "id": "14df684b-9cdf-423f-a453-d2bec91e8a1f",
   "metadata": {},
   "outputs": [],
   "source": []
  }
 ],
 "metadata": {
  "kernelspec": {
   "display_name": "Python 3 (ipykernel)",
   "language": "python",
   "name": "python3"
  },
  "language_info": {
   "codemirror_mode": {
    "name": "ipython",
    "version": 3
   },
   "file_extension": ".py",
   "mimetype": "text/x-python",
   "name": "python",
   "nbconvert_exporter": "python",
   "pygments_lexer": "ipython3",
   "version": "3.10.14"
  }
 },
 "nbformat": 4,
 "nbformat_minor": 5
}
