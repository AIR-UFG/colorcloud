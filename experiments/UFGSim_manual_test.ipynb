{
 "cells": [
  {
   "cell_type": "code",
   "execution_count": 12,
   "id": "7aededfc-01fa-4f37-a8ab-f9b9dfead2ad",
   "metadata": {},
   "outputs": [],
   "source": [
    "from colorcloud.UFGsim2024infufg import SemanticSegmentationSimLDM, ProjectionSimVizTransform, UFGSimDataset\n",
    "from colorcloud.biasutti2019riu import SemanticSegmentationTask, RIUNet\n",
    "import matplotlib.pyplot as plt\n",
    "from torch.nn import CrossEntropyLoss\n",
    "from torch.optim import AdamW\n",
    "import lightning as L\n",
    "import wandb\n",
    "import time\n",
    "from lightning.pytorch.loggers import WandbLogger\n",
    "from datetime import datetime\n",
    "import torch\n",
    "import numpy as np\n",
    "from tqdm import tqdm\n",
    "from torchmetrics.classification import Accuracy"
   ]
  },
  {
   "cell_type": "code",
   "execution_count": 3,
   "id": "1e066e9b-5e7f-44fe-ad47-35a1d0a22199",
   "metadata": {},
   "outputs": [],
   "source": [
    "data = SemanticSegmentationSimLDM()\n",
    "data.setup('fit')\n",
    "data.setup('test')\n",
    "data_path = '/workspace/UFGSim/'\n",
    "train_ds = UFGSimDataset(data_path)\n",
    "test_ds = UFGSimDataset(data_path, split='test')"
   ]
  },
  {
   "cell_type": "code",
   "execution_count": 4,
   "id": "4690422b-9c8b-4f9a-aaa5-3626088e68c9",
   "metadata": {},
   "outputs": [
    {
     "name": "stdout",
     "output_type": "stream",
     "text": [
      "Using cuda device\n"
     ]
    }
   ],
   "source": [
    "device = (\n",
    "    \"cuda\"\n",
    "    if torch.cuda.is_available()\n",
    "    else \"mps\"\n",
    "    if torch.backends.mps.is_available()\n",
    "    else \"cpu\"\n",
    ")\n",
    "print(f\"Using {device} device\")"
   ]
  },
  {
   "cell_type": "code",
   "execution_count": 8,
   "id": "6f4d6df2-0559-48a8-bbdc-da76fffbf2c3",
   "metadata": {},
   "outputs": [],
   "source": [
    "model = RIUNet(in_channels=4, hidden_channels=(64, 128, 256, 512), n_classes=13).to(device)\n",
    "loss_func = CrossEntropyLoss(reduction='none')\n",
    "n_epochs = 25\n",
    "opt = AdamW(model.parameters(), lr=5e-4, eps=1e-5)\n",
    "train_steps = len(train_ds) // 8\n",
    "test_steps = len(test_ds) // 16\n",
    "train_acc = Accuracy(task=\"multiclass\", num_classes=model.n_classes).to(device)\n",
    "test_acc = Accuracy(task=\"multiclass\", num_classes=model.n_classes).to(device)\n",
    "\n",
    "H = {\"train_loss\": [], \"test_loss\": []}"
   ]
  },
  {
   "cell_type": "code",
   "execution_count": null,
   "id": "f9484f76-9bac-4e8f-a56d-00d6faecbe6d",
   "metadata": {
    "scrolled": true
   },
   "outputs": [],
   "source": [
    "print(\"!!! TRAINING !!!\")\n",
    "start_time = time.time()\n",
    "\n",
    "for epochs in tqdm(range(n_epochs)):\n",
    "\n",
    "    model.train()\n",
    "\n",
    "    total_train_loss = 0\n",
    "    total_test_loss = 0\n",
    "\n",
    "    for batch in data.train_dataloader():\n",
    "        train_item = {key: value.to(device) for key, value in batch.items()}\n",
    "        img = train_item['frame']\n",
    "        label = train_item['label']\n",
    "        mask = train_item['mask']\n",
    "\n",
    "        label[~mask] = 0\n",
    "\n",
    "        pred = model(img)\n",
    "        train_loss = loss_func(pred, label)\n",
    "        train_loss = train_loss[mask]\n",
    "        train_loss = train_loss.mean()\n",
    "\n",
    "        pred_f = torch.permute(pred, (0, 2, 3, 1)) # N,C,H,W -> N,H,W,C\n",
    "        pred_f = torch.flatten(pred_f, 0, -2)      # N,H,W,C -> N*H*W,C\n",
    "        mask_f = torch.flatten(mask)               # N,H,W   -> N*H*W\n",
    "        pred_m = pred_f[mask_f, :]\n",
    "        label_m = label[mask]\n",
    "        current_train_acc = train_acc(pred_m, label_m)\n",
    "        \n",
    "        opt.zero_grad()\n",
    "        train_loss.backward()\n",
    "        opt.step()\n",
    "\n",
    "        total_train_loss += train_loss\n",
    "\n",
    "\n",
    "    with torch.no_grad():\n",
    "\n",
    "        model.eval()\n",
    "\n",
    "        for batch in data.test_dataloader():\n",
    "            test_item = {key: value.to(device) for key, value in batch.items()}\n",
    "            img = test_item['frame']\n",
    "            label = test_item['label']\n",
    "            mask = test_item['mask']\n",
    "    \n",
    "            label[~mask] = 0\n",
    "    \n",
    "            pred = model(img)\n",
    "            test_loss = loss_func(pred, label)\n",
    "            test_loss = test_loss[mask]\n",
    "            test_loss = test_loss.mean()\n",
    "\n",
    "            pred_f = torch.permute(pred, (0, 2, 3, 1)) # N,C,H,W -> N,H,W,C\n",
    "            pred_f = torch.flatten(pred_f, 0, -2)      # N,H,W,C -> N*H*W,C\n",
    "            mask_f = torch.flatten(mask)               # N,H,W   -> N*H*W\n",
    "            pred_m = pred_f[mask_f, :]\n",
    "            label_m = label[mask]\n",
    "            current_test_acc = train_acc(pred_m, label_m)\n",
    "        \n",
    "            total_test_loss += test_loss\n",
    "\n",
    "    avg_train_loss = total_train_loss / train_steps\n",
    "    avg_test_loss = total_test_loss / test_steps\n",
    "\n",
    "    H[\"train_loss\"].append(avg_train_loss.cpu().detach().numpy())\n",
    "    H[\"test_loss\"].append(avg_test_loss.cpu().detach().numpy())\n",
    "    \n",
    "    print(\"CURRENT EPOCH: {}/{}\".format(epochs + 1, n_epochs))\n",
    "    print(\"Train loss: {:.10f}, Test loss {:.4f}\".format(avg_train_loss, avg_test_loss))\n",
    "\n",
    "end_time = time.time()\n",
    "print(\"Training took {:.2f}s\".format(end_time - start_time))\n",
    "print(\"Accuracy: {:.4f} on training and {:.4f} on testing\".format(current_train_acc, current_test_acc))"
   ]
  },
  {
   "cell_type": "code",
   "execution_count": null,
   "id": "e20cc433-0705-4be3-bb95-5ffcc26fc382",
   "metadata": {},
   "outputs": [],
   "source": [
    "plt.style.use(\"ggplot\")\n",
    "plt.figure()\n",
    "plt.plot(H[\"train_loss\"], label=\"train_loss\")\n",
    "plt.plot(H[\"test_loss\"], label=\"test_loss\")\n",
    "plt.title(\"Training Loss on Dataset\")\n",
    "plt.xlabel(\"Epoch #\")\n",
    "plt.ylabel(\"Loss\")\n",
    "plt.legend(loc=\"lower left\")"
   ]
  },
  {
   "cell_type": "code",
   "execution_count": 14,
   "id": "f58a22f6-212c-499c-8226-0e502a685ac3",
   "metadata": {},
   "outputs": [],
   "source": [
    "torch.save(model, \"ufgsim_riunet_torch.pt\")"
   ]
  }
 ],
 "metadata": {
  "kernelspec": {
   "display_name": "Python 3 (ipykernel)",
   "language": "python",
   "name": "python3"
  },
  "language_info": {
   "codemirror_mode": {
    "name": "ipython",
    "version": 3
   },
   "file_extension": ".py",
   "mimetype": "text/x-python",
   "name": "python",
   "nbconvert_exporter": "python",
   "pygments_lexer": "ipython3",
   "version": "3.10.14"
  }
 },
 "nbformat": 4,
 "nbformat_minor": 5
}
