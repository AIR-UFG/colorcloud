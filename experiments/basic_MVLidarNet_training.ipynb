{
 "cells": [
  {
   "cell_type": "code",
   "execution_count": 1,
   "id": "6d91419c-4aba-4b86-9712-f1548c052ae1",
   "metadata": {},
   "outputs": [],
   "source": [
    "from colorcloud.chen2020mvlidarnet import MVLidarNet, SemanticSegmentationTask\n",
    "from colorcloud.UFGsim2024infufg import SemanticSegmentationSimLDM, ProjectionSimVizTransform\n",
    "from torch.nn import CrossEntropyLoss\n",
    "import lightning as L\n",
    "import wandb\n",
    "from lightning.pytorch.loggers import WandbLogger\n",
    "from datetime import datetime\n",
    "import torch\n",
    "import numpy as np"
   ]
  },
  {
   "cell_type": "code",
   "execution_count": 2,
   "id": "df0ce2a0-9b07-4c79-a7ce-c3dc4834bfc7",
   "metadata": {},
   "outputs": [],
   "source": [
    "data = SemanticSegmentationSimLDM(eval_batch_size=4, train_batch_size=4)\n",
    "data.setup('fit')\n",
    "epoch_steps = len(data.train_dataloader())"
   ]
  },
  {
   "cell_type": "code",
   "execution_count": null,
   "id": "2cb12a14-47a9-4fc9-aacb-94de5eb0a911",
   "metadata": {},
   "outputs": [],
   "source": [
    "device = (\n",
    "    \"cuda\"\n",
    "    if torch.cuda.is_available()\n",
    "    else \"mps\"\n",
    "    if torch.backends.mps.is_available()\n",
    "    else \"cpu\"\n",
    ")\n",
    "print(f\"Using {device} device\")"
   ]
  },
  {
   "cell_type": "code",
   "execution_count": 4,
   "id": "20056306-3d52-44b4-abc3-b0e8c40bd861",
   "metadata": {},
   "outputs": [],
   "source": [
    "model = MVLidarNet(in_channels=4, n_classes=13).to(device)"
   ]
  },
  {
   "cell_type": "code",
   "execution_count": 5,
   "id": "e7742f00-8c56-49ec-b2b0-193928462d0f",
   "metadata": {},
   "outputs": [],
   "source": [
    "loss_fn = torch.nn.CrossEntropyLoss(reduction='none')"
   ]
  },
  {
   "cell_type": "code",
   "execution_count": 6,
   "id": "f7305321-acf2-4de3-9c8c-e71d7c2fd4e0",
   "metadata": {},
   "outputs": [],
   "source": [
    "n_epochs = 25\n",
    "learner = SemanticSegmentationTask(\n",
    "    model,\n",
    "    CrossEntropyLoss(reduction='none'),\n",
    "    data.viz_tfm,\n",
    "    total_steps=n_epochs*epoch_steps\n",
    ")"
   ]
  },
  {
   "cell_type": "code",
   "execution_count": null,
   "id": "a528fa78-1897-47ef-83ea-1b9f49ca4cc1",
   "metadata": {},
   "outputs": [],
   "source": [
    "model_name = \"UFGSim-MVLidarNet\"\n",
    "timestamp = datetime.now().strftime(\"%d/%m/%Y_%H:%M:%S\")\n",
    "experiment_name = f'{model_name}_{timestamp}'\n",
    "wandb_logger = WandbLogger(project=\"colorcloud\", name=experiment_name, log_model=\"all\")\n",
    "wandb_logger.watch(learner.model, log=\"all\")"
   ]
  },
  {
   "cell_type": "code",
   "execution_count": null,
   "id": "c19479da-9b8f-4629-a497-f49cd4cd8a9d",
   "metadata": {},
   "outputs": [],
   "source": [
    "# train model\n",
    "trainer = L.Trainer(max_epochs=n_epochs, logger=wandb_logger)\n",
    "trainer.fit(learner, data)\n",
    "trainer.save_checkpoint(\"ufgsim_mvlidarnet_1.ckpt\", weights_only=True)"
   ]
  },
  {
   "cell_type": "code",
   "execution_count": null,
   "id": "e34e6276-a0bb-4445-8816-2d9988127d45",
   "metadata": {},
   "outputs": [],
   "source": [
    "wandb.finish()"
   ]
  }
 ],
 "metadata": {
  "kernelspec": {
   "display_name": "Python 3 (ipykernel)",
   "language": "python",
   "name": "python3"
  },
  "language_info": {
   "codemirror_mode": {
    "name": "ipython",
    "version": 3
   },
   "file_extension": ".py",
   "mimetype": "text/x-python",
   "name": "python",
   "nbconvert_exporter": "python",
   "pygments_lexer": "ipython3",
   "version": "3.10.14"
  }
 },
 "nbformat": 4,
 "nbformat_minor": 5
}
